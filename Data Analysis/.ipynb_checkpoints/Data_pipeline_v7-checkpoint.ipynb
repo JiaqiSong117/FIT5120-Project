{
 "cells": [
  {
   "cell_type": "code",
   "execution_count": 19,
   "metadata": {},
   "outputs": [],
   "source": [
    "# !pip install geocoder\n",
    "import tweepy\n",
    "\n",
    "from tweepy.streaming import StreamListener\n",
    "from tweepy import OAuthHandler \n",
    "from tweepy import Stream\n",
    "import pickle\n",
    "from sklearn.feature_extraction.text import CountVectorizer\n",
    "from sklearn.feature_extraction.text import TfidfTransformer\n",
    "\n",
    "import matplotlib.pyplot as plt\n",
    "import pandas as pd"
   ]
  },
  {
   "cell_type": "code",
   "execution_count": 2,
   "metadata": {},
   "outputs": [],
   "source": [
    "# Secret Credentials \n",
    "ACCESS_TOKEN = \"500435442-ZsyX0WGAgAsiK3mPMwCLVZgXaM4mPeLpOZHh46Uc\"\n",
    "ACCESS_TOKEN_SECRET = \"tI6pbzVsXWzNmfUEC07by6ZpJc5d58vu0sKxovxuDQEoY\"\n",
    "CONSUMER_KEY = \"zazEfoGYmcJp8IZCQZYeleORe\"\n",
    "CONSUMER_SECRET = \"JtTfz6C4WaCNZkzmn02U4GkOoilCyiIVKFFknuLgWD51MeVySm\""
   ]
  },
  {
   "cell_type": "code",
   "execution_count": 3,
   "metadata": {},
   "outputs": [],
   "source": [
    "auth=OAuthHandler(CONSUMER_KEY,CONSUMER_SECRET)\n",
    "auth.set_access_token(ACCESS_TOKEN,ACCESS_TOKEN_SECRET)\n",
    "api=tweepy.API(auth)"
   ]
  },
  {
   "cell_type": "code",
   "execution_count": 4,
   "metadata": {},
   "outputs": [],
   "source": [
    "tweets=[]\n",
    "retweet=[]\n",
    "likes=[]"
   ]
  },
  {
   "cell_type": "code",
   "execution_count": 5,
   "metadata": {},
   "outputs": [],
   "source": [
    "#input from website \n",
    "user_input='CA'\n",
    "userx=['SkyNews','ABC','9NewsMelb','dailytelegraph']"
   ]
  },
  {
   "cell_type": "code",
   "execution_count": 6,
   "metadata": {},
   "outputs": [],
   "source": [
    "# a=tweepy.Cursor(api.user_timeline,id=userx).items(200)\n",
    "# a=list(a)\n",
    "data=[]\n",
    "for i in range(len(userx)):\n",
    "    searched_tweets = [status for status in tweepy.Cursor(api.user_timeline,id=userx[i]).items(200)]\n",
    "    tweets=[]\n",
    "    for i in searched_tweets:\n",
    "        tweets.append(i.text)\n",
    "    data.append(tweets)\n",
    "    "
   ]
  },
  {
   "cell_type": "code",
   "execution_count": null,
   "metadata": {},
   "outputs": [],
   "source": []
  },
  {
   "cell_type": "code",
   "execution_count": 7,
   "metadata": {},
   "outputs": [],
   "source": [
    "# Twitter_df2=pd.DataFrame({'tweets':tweets,'likes':likes,'retweet':retweet})\n",
    "# Twitter_df2"
   ]
  },
  {
   "cell_type": "code",
   "execution_count": 8,
   "metadata": {},
   "outputs": [],
   "source": [
    "\n",
    "\n",
    "\n",
    "#LOAD MODEL\n",
    "loaded_vec = CountVectorizer(vocabulary=pickle.load(open(\"count_vector.pkl\", \"rb\")))\n",
    "loaded_tfidf = pickle.load(open(\"tfidf.pkl\",\"rb\"))\n",
    "loaded_model = pickle.load(open(\"NEW_softmax.pkl\",\"rb\"))\n",
    "\n",
    "\n"
   ]
  },
  {
   "cell_type": "code",
   "execution_count": 9,
   "metadata": {},
   "outputs": [],
   "source": [
    "news_category=[]"
   ]
  },
  {
   "cell_type": "code",
   "execution_count": 10,
   "metadata": {},
   "outputs": [],
   "source": [
    "for i in range(len(data)):\n",
    "    for j in range(len(data[i])):\n",
    "        X_new_counts = loaded_vec.transform([data[i][j]])\n",
    "        X_new_tfidf = loaded_tfidf.transform(X_new_counts)\n",
    "        predicted = loaded_model.predict(X_new_tfidf)\n",
    "        news_category.append(predicted)\n",
    "\n",
    "\n",
    "\n"
   ]
  },
  {
   "cell_type": "code",
   "execution_count": 11,
   "metadata": {},
   "outputs": [],
   "source": [
    "from itertools import islice\n",
    "\n",
    "def chunk(it, size):\n",
    "    it = iter(it)\n",
    "    return iter(lambda: tuple(islice(it, size)), ())\n",
    "\n"
   ]
  },
  {
   "cell_type": "code",
   "execution_count": 12,
   "metadata": {},
   "outputs": [],
   "source": [
    "x=[]\n",
    "for i in range(len(news_category)):\n",
    "    x.append(news_category[i][0])\n",
    "    \n",
    "cumulative_count=[]\n",
    "set_x=list(set(x))\n",
    "\n",
    "for j in range(len(set_x)):\n",
    "    cumulative_count.append(x.count(set_x[j]))\n",
    "\n",
    "\n",
    "# c1=x[0:200]\n",
    "# c2=x[200:400]\n",
    "# c3=x[400:600]"
   ]
  },
  {
   "cell_type": "code",
   "execution_count": 13,
   "metadata": {},
   "outputs": [],
   "source": [
    "import numpy as np \n",
    "N_c=list(chunk(x, 200))\n"
   ]
  },
  {
   "cell_type": "code",
   "execution_count": 14,
   "metadata": {},
   "outputs": [],
   "source": [
    "# set_x=list(set(x))\n",
    "# set_x_count1=[]\n",
    "# set_x_count2=[]\n",
    "# set_x_count3=[]"
   ]
  },
  {
   "cell_type": "code",
   "execution_count": 15,
   "metadata": {},
   "outputs": [],
   "source": [
    "count_y=[]\n",
    "\n",
    "for i in range(len(N_c)):\n",
    "    count=[]\n",
    "    for j in range(len(set_x)):\n",
    "        count.append(N_c[i].count(set_x[j]))\n",
    "    count_y.append(count)"
   ]
  },
  {
   "cell_type": "code",
   "execution_count": null,
   "metadata": {},
   "outputs": [],
   "source": []
  },
  {
   "cell_type": "code",
   "execution_count": 16,
   "metadata": {},
   "outputs": [],
   "source": [
    "# list1=[]\n",
    "# for i in range(len(count_y)):\n",
    "#     list1.append([userx[i],count_y[i]])\n",
    "# df=pd.DataFrame(list1,columns=['Name','Values'])"
   ]
  },
  {
   "cell_type": "code",
   "execution_count": null,
   "metadata": {},
   "outputs": [],
   "source": []
  },
  {
   "cell_type": "code",
   "execution_count": 17,
   "metadata": {},
   "outputs": [],
   "source": [
    "# Tweet_Uni=dict(zip(set_x,set_x_count))\n",
    "# count1=list(Tweet_Uni.values())\n",
    "# size1=[]\n",
    "# for i in count1:\n",
    "#     size1.append(i)\n",
    "\n",
    "# colours=[]\n",
    "# c=120\n",
    "# for i in range(len(count1)):\n",
    "#     c=c+2\n",
    "#     colours.append(c)\n",
    "\n"
   ]
  },
  {
   "cell_type": "code",
   "execution_count": 20,
   "metadata": {},
   "outputs": [
    {
     "data": {
      "image/png": "[encoded data removed]",
      "text/plain": [
       "<Figure size 432x288 with 1 Axes>"
      ]
     },
     "metadata": {
      "needs_background": "light"
     },
     "output_type": "display_data"
    }
   ],
   "source": [
    "# w=0.4\n",
    "\n",
    "# for i in range(len(count_y)):\n",
    "#     plt.bar(set_x, count_y[i],w,bottom = np.sum(count_y[:i], axis = 0))\n",
    "#     plt.xlabel('News Category')\n",
    "#     plt.ylabel('Tweets')\n",
    "#     plt.title('News Source vs Tweets Category')\n",
    "#     plt.xticks(rotation=90)\n",
    "# plt.show()"
   ]
  },
  {
   "cell_type": "code",
   "execution_count": null,
   "metadata": {},
   "outputs": [],
   "source": [
    "# import matplotlib.pyplot as plt\n",
    "\n",
    "\n",
    "# plt.bar(set_x,count_y[0],w)\n",
    "# plt.bar(set_x,count_y[1],w,bottom=count_y[0])\n",
    "# plt.bar(set_x,count_y[2],w,bottom=count_y[0])\n",
    "\n",
    "# plt.xlabel('News Category')\n",
    "# plt.ylabel('Tweets')\n",
    "# plt.title('News Source vs Tweets Category')\n",
    "# plt.xticks(rotation=90)\n",
    "# plt.legend()\n",
    "# plt.show()"
   ]
  },
  {
   "cell_type": "code",
   "execution_count": 21,
   "metadata": {},
   "outputs": [
    {
     "name": "stderr",
     "output_type": "stream",
     "text": [
      "No handles with labels found to put in legend.\n"
     ]
    },
    {
     "data": {
      "image/png": "[encoded data removed]",
      "text/plain": [
       "<Figure size 432x288 with 1 Axes>"
      ]
     },
     "metadata": {
      "needs_background": "light"
     },
     "output_type": "display_data"
    }
   ],
   "source": [
    "# plt.bar(set_x,cumulative_count,w)\n",
    "# plt.xlabel('News Category')\n",
    "# plt.ylabel('Tweets')\n",
    "# plt.title('News Source vs Tweets Category')\n",
    "# plt.xticks(rotation=90)\n",
    "# plt.legend()\n",
    "# plt.show()"
   ]
  },
  {
   "cell_type": "code",
   "execution_count": 50,
   "metadata": {
    "scrolled": false
   },
   "outputs": [],
   "source": [
    "# # !pip install plotly\n",
    "# import plotly.graph_objects as go\n",
    "\n",
    "# fig1 = go.Figure(data=[go.Scatter(\n",
    "#     x=set_x,\n",
    "#     y=cumulative_count,\n",
    "#     mode='markers',\n",
    "#     marker=dict(\n",
    "#         color=colours,\n",
    "#         size=size1,\n",
    "#         showscale=True\n",
    "#         )\n",
    "# )])\n",
    "# fig1.show()\n",
    "\n",
    "# bar1=[set_x,set_x_count]"
   ]
  },
  {
   "cell_type": "code",
   "execution_count": null,
   "metadata": {},
   "outputs": [],
   "source": [
    "# # !pip install plotly\n",
    "# import plotly.graph_objects as go\n",
    "\n",
    "# fig2 = go.Figure(data=[go.Scatter(\n",
    "#     x=set_x,\n",
    "#     y=set_x_count,\n",
    "#     mode='markers',\n",
    "#     marker=dict(\n",
    "#         color=colours,\n",
    "#         size=size1,\n",
    "#         showscale=True\n",
    "#         )\n",
    "# )])\n",
    "# fig2.show()\n",
    "\n",
    "# bar2=[set_x,set_x_count]"
   ]
  },
  {
   "cell_type": "code",
   "execution_count": null,
   "metadata": {},
   "outputs": [],
   "source": [
    "# # !pip install seaborn\n",
    "# import seaborn as sns\n",
    "# import matplotlib.pyplot as plt\n",
    "# import matplotlib.pyplot as figure\n",
    "# df1=pd.DataFrame({'x':bar1[0],'y':bar1[1]})\n",
    "# df2=pd.DataFrame({'x':bar2[0],'y':bar2[1]})\n",
    "\n",
    "# df1['hue']='Skynews'\n",
    "# df2['hue']='ABC'\n",
    "\n",
    "# combined=pd.concat([df1,df2])\n",
    "\n",
    "# a4_dims = (11.7, 8.27)\n",
    "# fig, ax = plt.subplots(figsize=a4_dims)\n",
    "# g=sns.barplot(ax=ax,x='x',y='y',data=combined,hue='hue')\n",
    "# plt.setp(g.get_xticklabels(), rotation=90)\n",
    "# plt.show()\n"
   ]
  },
  {
   "cell_type": "code",
   "execution_count": null,
   "metadata": {},
   "outputs": [],
   "source": [
    "# figx.show()"
   ]
  },
  {
   "cell_type": "code",
   "execution_count": null,
   "metadata": {},
   "outputs": [],
   "source": []
  },
  {
   "cell_type": "code",
   "execution_count": null,
   "metadata": {},
   "outputs": [],
   "source": [
    "# !pip install -U kaleido\n",
    "# !conda install psutil"
   ]
  },
  {
   "cell_type": "code",
   "execution_count": null,
   "metadata": {},
   "outputs": [],
   "source": [
    "# fig.write_image(\"yourfile.png\") "
   ]
  },
  {
   "cell_type": "code",
   "execution_count": 91,
   "metadata": {},
   "outputs": [],
   "source": [
    "import json\n",
    "data = {}\n",
    "df=pd.DataFrame()\n",
    "df['category']=set_x\n",
    "\n",
    "if user_input=='CA':\n",
    "    data=dict(zip(set_x,cumulative_count))\n",
    "    json_data = json.dumps(data)\n",
    "else:\n",
    "    for i in range(len(count_y)):\n",
    "        df['value_'+format(i)]=count_y[i]\n",
    "    json_data=df.to_json(orient='records', lines=True)\n",
    "\n",
    "\n"
   ]
  },
  {
   "cell_type": "code",
   "execution_count": 93,
   "metadata": {},
   "outputs": [],
   "source": [
    "# for i in range(len(count_y)):\n",
    "#     data=dict(zip(set_x,count_y[i]))\n"
   ]
  },
  {
   "cell_type": "code",
   "execution_count": 94,
   "metadata": {},
   "outputs": [],
   "source": [
    "# df=pd.DataFrame()\n",
    "# df['category']=set_x\n",
    "# df['cat_'+format(i)]=count_y[0]\n",
    "# df"
   ]
  },
  {
   "cell_type": "code",
   "execution_count": 95,
   "metadata": {},
   "outputs": [],
   "source": [
    "# # import matplotlib.pyplot as plt\n",
    "# # plt.scatter(set_x, set_x_count, s=size1,c=colours\n",
    "\n",
    "# i=1\n",
    "# s='cat_'+format({i})\n",
    "# s"
   ]
  },
  {
   "cell_type": "code",
   "execution_count": null,
   "metadata": {},
   "outputs": [],
   "source": [
    "# plt.to_json('json_file.json')"
   ]
  },
  {
   "cell_type": "code",
   "execution_count": null,
   "metadata": {
    "scrolled": true
   },
   "outputs": [],
   "source": [
    "# plt.scatter(\n",
    "#     x = set_x, \n",
    "#     y = set_x_count, \n",
    "#     s=size1, \n",
    "#     c=colours, \n",
    "#     cmap=\"Accent\", \n",
    "#     alpha=0.6, \n",
    "#     edgecolors=\"white\", \n",
    "#     linewidth=2);\n",
    " \n",
    "# plt.xlabel(\"News Category\")\n",
    "# plt.ylabel(\"Frequency\")\n",
    "# plt.title(\"TWITTER ANALYSIS\")\n",
    "# plt.ylim(0,200)\n",
    "\n"
   ]
  },
  {
   "cell_type": "code",
   "execution_count": null,
   "metadata": {},
   "outputs": [],
   "source": [
    "# plt.savefig(fname='fig2.png')\n"
   ]
  },
  {
   "cell_type": "markdown",
   "metadata": {},
   "source": [
    "### NEW EXPLORATION -- whats trending"
   ]
  },
  {
   "cell_type": "code",
   "execution_count": 37,
   "metadata": {},
   "outputs": [],
   "source": [
    "import sys\n",
    "import geocoder\n",
    "# Available Locations\n",
    "available_loc = api.trends_available()\n",
    "    # Trends for Specific Country\n",
    "loc = sys.argv[1]     # location as argument variable \n",
    "g = geocoder.osm(loc) # getting object that has location's latitude and longitude\n",
    "\n",
    "closest_loc = api.trends_closest(g.lat, g.lng)\n",
    "trends = api.trends_place(closest_loc[0]['woeid'])\n"
   ]
  },
  {
   "cell_type": "code",
   "execution_count": 38,
   "metadata": {},
   "outputs": [
    {
     "name": "stdout",
     "output_type": "stream",
     "text": [
      "####################################\n",
      "#CriticalRoleSpoilers\n",
      "\n",
      "Please enjoy last week's musical stylings of @samriegel and @Marisha_Ray! #CriticalRoleSpoilers https://t.co/yfg9Bti9vA\n",
      "\n",
      "By--  Critical Role\n",
      "----------------------------------------------------\n",
      "####################################\n",
      "Godmorgon\n",
      "----------------------------------------------------\n",
      "####################################\n",
      "Lena Hallengren\n",
      "\n",
      "Sweden's government has never had a formal strategy for handling the coronavirus pandemic, the country's health min… https://t.co/UtyvvcMIzc\n",
      "\n",
      "By--  The Local Sweden\n",
      "----------------------------------------------------\n",
      "####################################\n",
      "Grattis\n",
      "\n",
      "Grattis Daniela och Chile till OS-platsen!\n",
      "\n",
      "By--  Djurgården Fotboll\n",
      "\n",
      "För 132 år sedan bildades det som blev grunden till Hammarby IF - Hammarby Rodd! Hammarby Rodd har i dag sin bas vi… https://t.co/eFDvm0n1dk\n",
      "\n",
      "By--  Hammarby Fotboll\n",
      "\n",
      "Grattis till OS-platsen, Daniela Zamora! 🇨🇱 https://t.co/y94QKi2u60\n",
      "\n",
      "By--  Djurgården Fotboll\n",
      "----------------------------------------------------\n",
      "####################################\n",
      "Ebba Busch\n",
      "----------------------------------------------------\n",
      "####################################\n",
      "Erick\n",
      "\n",
      "@EWErickson Funny, Erick. I never see you supporting the use of force against BLM and antifa when they burn down po… https://t.co/gdcbz2irA3\n",
      "\n",
      "By--  Pete D’Abrosca\n",
      "\n",
      "Tá super valendo, Erick! O Pedro gostou das coxinhas? Quero a receita!!! https://t.co/sozxBGYC17\n",
      "\n",
      "By--  Rodrigo Hilbert\n",
      "\n",
      "Cuando se capturó a jefe terrorista de Farc alias Erick o Chivo en 2012, hombres de nuestras FFAA se jugaron la vid… https://t.co/l7Rx7aZ9ED\n",
      "\n",
      "By--  Pinzón Bueno\n",
      "\n",
      "Como cobrar um cliente caloteiro: uma aula de Erick Jacquin. #PesadeloNaCozinha https://t.co/pJMRnLPyHU\n",
      "\n",
      "By--  Pesadelo Na Cozinha\n",
      "\n",
      "Erick Betancourt: privado de libertad con fines políticos desde el 04/02/2019. Arresto domiciliario no es libertad.… https://t.co/wKQPov3rZ5\n",
      "\n",
      "By--  Foro Penal\n",
      "\n",
      "Hong Kong Secretary for Constitutional and Mainland Affairs Erick Tsang Kwok-wai declared last week that “encouragi… https://t.co/yX33Xip12p\n",
      "\n",
      "By--  Reinhard Bütikofer\n",
      "\n",
      "Abuso y se  hi pimiento indebido además de estar pinchados sus equipos sin autorización alguna. Temo por sus vidas.… https://t.co/P0wWoHCpZc\n",
      "\n",
      "By--  Ricardo Martinelli\n",
      "\n",
      "It took nearly four years to complete 'Opera.' Oh worked at Pixar during the production, and all of the crew member… https://t.co/P0ImgaqO0f\n",
      "\n",
      "By--  cartoonbrew.com - Animation News\n",
      "\n",
      "Frase do grande pensador contemporâneo Erick Jacquin. #PesadeloNaCozinha https://t.co/6sn3hgh6HP\n",
      "\n",
      "By--  Pesadelo Na Cozinha\n",
      "\n",
      "Ajang tahunan para inovator Pertamina Group mendapatkan apresiasi dari Menteri BUMN Erick Thohir.  APQ Awards 2021… https://t.co/S96KplVlSf\n",
      "\n",
      "By--  PERTAMINA\n",
      "\n",
      "🟡 #TigreDatos | Al ingresar de cambio al minuto 75 ante América, el canterano Erick Ávalos hizo su debut en… https://t.co/hkz3P3Fz4e\n",
      "\n",
      "By--  Club Tigres Oficial 🐯\n",
      "\n",
      "Sebut Islamophobia, Fadli Zon Minta Erick Thohir Tegur Komisaris Independen Pelni Dede Kristia -… https://t.co/7XX8FEobaI\n",
      "\n",
      "By--  FADLI ZON (Youtube: Fadli Zon Official)\n",
      "\n",
      "SE PIERDE LA TEMPORADA 🚑\n",
      "\n",
      "El PSV anunció que Erick Gutiérrez ya no volverá a jugar este torneo por una lesión que s… https://t.co/4akqDomanQ\n",
      "\n",
      "By--  DIARIO RÉCORD\n",
      "\n",
      "Al ingresar de cambio, HOY Erick Ávalos está debutando con @TigresOficial en la #LigaBBVAMX\n",
      "\n",
      "Jugador con proceso en… https://t.co/a8Vjg6ZwqA\n",
      "\n",
      "By--  Liga BBVA MX\n",
      "\n",
      "📹#NoTeLoPierdas\n",
      "¡¡¡G⚽⚽⚽LAZOO!!! Gran definición de Erick Sánchez para igualar el marcador. \n",
      "\n",
      "Pachuca 1-1 Puebla… https://t.co/nmAArDFf7G\n",
      "\n",
      "By--  Liga BBVA MX\n",
      "----------------------------------------------------\n",
      "####################################\n",
      "Karl\n",
      "\n",
      "(1) In den nächsten Wochen werden viele 40-60 Jährige an Covid versterben. Darunter sind viele Eltern, die hohen In… https://t.co/tcXX5PK0Ty\n",
      "\n",
      "By--  Karl Lauterbach\n",
      "\n",
      "\"There is only one way to kill capitalism – by taxes, taxes, and more taxes.\" – Karl Marx https://t.co/J6wzKnpKSF\n",
      "\n",
      "By--  Steve Hanke\n",
      "\n",
      "Inzidenz ist zu hoch, steigt exponentiell, die Intensivstationen sind voll, und es sterben jetzt eher die Menschen… https://t.co/SE55SWXURz\n",
      "\n",
      "By--  Karl Lauterbach\n",
      "\n",
      ".@Karl_Lauterbach : Diejenigen, die jetzt auf den Intensivstationen behandelt werden, sind im Durchschnitt 47 bis 4… https://t.co/SNfp1ulvhD\n",
      "\n",
      "By--  maybrit illner\n",
      "\n",
      "Hier beschreibt ⁦@HallekMichael⁩ die Lage in unserer Uniklinik in Köln. Die weiche Triage, suboptimale Versorgung d… https://t.co/5nKyFNHppW\n",
      "\n",
      "By--  Karl Lauterbach\n",
      "\n",
      "mason 🤝 karl\n",
      "\n",
      "wanting to be in squads they aren’t apart of\n",
      "\n",
      "By--  brooke ♡\n",
      "----------------------------------------------------\n",
      "####################################\n",
      "Tigray\n",
      "\n",
      "Conflict-related sexual violence is both a security issue and a human rights issue—and it demands collective action… https://t.co/KfkfjHBfmP\n",
      "\n",
      "By--  Ambassador Linda Thomas-Greenfield\n",
      "\n",
      "Despite ample evidence of atrocities in #Ethiopia’s #Tigray region, the #UNSC will again discuss the crisis behind… https://t.co/2MEYYqjvcO\n",
      "\n",
      "By--  Laetitia Bader\n",
      "\n",
      ".@USAmbUN asked UNSC to speak publicly on #Tigray. Noting it was 5th private UNSC meeting, she said (acc to dips fa… https://t.co/cZZPBBWZBN\n",
      "\n",
      "By--  Michelle Nichols\n",
      "\n",
      "There must be justice and accountability for war crimes and human rights violations in #Tigray https://t.co/jrwRYQhHCg\n",
      "\n",
      "By--  Amnesty International\n",
      "\n",
      "#NorwayUNSC is extremely concerned about reports of systematic sexual violence in #Tigray. This is criminal and dev… https://t.co/hYVbbyclFX\n",
      "\n",
      "By--  NorwayUN\n",
      "\n",
      ".@USAmbUN says situation in Ethiopia’s Tigray region “demands our attention and our action. It's time for the Secur… https://t.co/VWgv7xM2Mp\n",
      "\n",
      "By--  Amanda Price\n",
      "\n",
      "Instead of leaving Ethiopia's Tigray region, Eritrean troops continue to carry out atrocities there. @amnesty repor… https://t.co/162RvO6TpE\n",
      "\n",
      "By--  amnestypress\n",
      "\n",
      "Eritrean troops are supposed to be leaving #Tigray, but instead they're carrying out atrocities - @amnesty's  lates… https://t.co/iGCvGwSjaY\n",
      "\n",
      "By--  joanne mariner\n",
      "\n",
      "NEW: Per diplomats -- at the request of the US, the UN Security Council is expected to discuss the situation in… https://t.co/NoLRbXC1Ss\n",
      "\n",
      "By--  Amanda Price\n",
      "\n",
      "#UN official warns that sexual violence is being perpetrated \"with a level of cruelty beyond comprehension\" in… https://t.co/MQdXb05STu\n",
      "\n",
      "By--  Amanda Price\n",
      "\n",
      "WARNING: GRAPHIC CONTENT - Hundreds in Ethiopia's Tigray region have reported being subjected to horrific sexual vi… https://t.co/dgxwKQYhbj\n",
      "\n",
      "By--  Reuters\n",
      "\n",
      "A young mother said she was repeatedly raped over 11 days by 23 soldiers in Ethiopia’s Tigray region. Doctors told… https://t.co/yMtjN23PSC\n",
      "\n",
      "By--  Reuters\n",
      "\n",
      "The United States has committed an additional $152 million to help address humanitarian needs in Tigray. We call on… https://t.co/SSGtI0oCZ7\n",
      "\n",
      "By--  U.S. Mission to the UN\n",
      "\n",
      "Eritrean troops open fire in Tigray’s Adwa, killing 3 and wounding at least 19, according to Amnesty International… https://t.co/sq71EXh2su\n",
      "\n",
      "By--  Al Jazeera English\n",
      "\n",
      "Today in the UN Security Council, I reiterated the urgency of addressing the crisis in Tigray. We continue to call… https://t.co/CBqkoB4mvV\n",
      "\n",
      "By--  Ambassador Linda Thomas-Greenfield\n",
      "----------------------------------------------------\n",
      "####################################\n",
      "Jesu\n",
      "----------------------------------------------------\n",
      "####################################\n",
      "källa\n",
      "----------------------------------------------------\n"
     ]
    }
   ],
   "source": [
    "trends2=trends[0]['trends'][:10]\n",
    "for i in range(len(trends2)):\n",
    "    print('####################################')\n",
    "    print(trends2[i]['name'])\n",
    "    popular_tweets=[]\n",
    "    popular_tweets = api.search(q=trends2[i]['name'], result_type='popular')\n",
    "    for j in range(len(popular_tweets)):\n",
    "        print(\"\\n\"+popular_tweets[j].text)\n",
    "        print(\"\\nBy--  \"+popular_tweets[j].user.name)\n",
    "        \n",
    "    print('----------------------------------------------------')\n"
   ]
  },
  {
   "cell_type": "code",
   "execution_count": null,
   "metadata": {},
   "outputs": [],
   "source": []
  },
  {
   "cell_type": "code",
   "execution_count": null,
   "metadata": {},
   "outputs": [],
   "source": []
  },
  {
   "cell_type": "code",
   "execution_count": null,
   "metadata": {},
   "outputs": [],
   "source": []
  },
  {
   "cell_type": "code",
   "execution_count": null,
   "metadata": {},
   "outputs": [],
   "source": []
  },
  {
   "cell_type": "code",
   "execution_count": null,
   "metadata": {},
   "outputs": [],
   "source": []
  },
  {
   "cell_type": "code",
   "execution_count": null,
   "metadata": {},
   "outputs": [],
   "source": []
  },
  {
   "cell_type": "code",
   "execution_count": null,
   "metadata": {},
   "outputs": [],
   "source": []
  },
  {
   "cell_type": "code",
   "execution_count": null,
   "metadata": {},
   "outputs": [],
   "source": []
  },
  {
   "cell_type": "code",
   "execution_count": null,
   "metadata": {},
   "outputs": [],
   "source": []
  },
  {
   "cell_type": "code",
   "execution_count": null,
   "metadata": {},
   "outputs": [],
   "source": []
  },
  {
   "cell_type": "code",
   "execution_count": null,
   "metadata": {},
   "outputs": [],
   "source": []
  },
  {
   "cell_type": "code",
   "execution_count": null,
   "metadata": {},
   "outputs": [],
   "source": []
  },
  {
   "cell_type": "code",
   "execution_count": null,
   "metadata": {},
   "outputs": [],
   "source": []
  },
  {
   "cell_type": "code",
   "execution_count": null,
   "metadata": {},
   "outputs": [],
   "source": []
  },
  {
   "cell_type": "code",
   "execution_count": null,
   "metadata": {},
   "outputs": [],
   "source": []
  },
  {
   "cell_type": "code",
   "execution_count": null,
   "metadata": {},
   "outputs": [],
   "source": []
  },
  {
   "cell_type": "code",
   "execution_count": null,
   "metadata": {},
   "outputs": [],
   "source": []
  },
  {
   "cell_type": "code",
   "execution_count": null,
   "metadata": {},
   "outputs": [],
   "source": []
  },
  {
   "cell_type": "code",
   "execution_count": null,
   "metadata": {},
   "outputs": [],
   "source": []
  },
  {
   "cell_type": "code",
   "execution_count": null,
   "metadata": {},
   "outputs": [],
   "source": []
  },
  {
   "cell_type": "code",
   "execution_count": null,
   "metadata": {},
   "outputs": [],
   "source": []
  }
 ],
 "metadata": {
  "kernelspec": {
   "display_name": "Python 3",
   "language": "python",
   "name": "python3"
  },
  "language_info": {
   "codemirror_mode": {
    "name": "ipython",
    "version": 3
   },
   "file_extension": ".py",
   "mimetype": "text/x-python",
   "name": "python",
   "nbconvert_exporter": "python",
   "pygments_lexer": "ipython3",
   "version": "3.7.8"
  }
 },
 "nbformat": 4,
 "nbformat_minor": 4
}
