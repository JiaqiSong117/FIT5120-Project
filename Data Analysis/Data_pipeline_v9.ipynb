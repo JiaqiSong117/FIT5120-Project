{
 "cells": [
  {
   "cell_type": "code",
   "execution_count": 1,
   "metadata": {},
   "outputs": [],
   "source": [
    "# !pip install geocoder\n",
    "import tweepy\n",
    "\n",
    "from tweepy.streaming import StreamListener\n",
    "from tweepy import OAuthHandler \n",
    "from tweepy import Stream\n",
    "import pickle\n",
    "from sklearn.feature_extraction.text import CountVectorizer\n",
    "from sklearn.feature_extraction.text import TfidfTransformer\n",
    "\n",
    "import matplotlib.pyplot as plt\n",
    "import pandas as pd"
   ]
  },
  {
   "cell_type": "code",
   "execution_count": 2,
   "metadata": {},
   "outputs": [],
   "source": [
    "# Secret Credentials \n",
    "ACCESS_TOKEN = \"500435442-ZsyX0WGAgAsiK3mPMwCLVZgXaM4mPeLpOZHh46Uc\"\n",
    "ACCESS_TOKEN_SECRET = \"tI6pbzVsXWzNmfUEC07by6ZpJc5d58vu0sKxovxuDQEoY\"\n",
    "CONSUMER_KEY = \"zazEfoGYmcJp8IZCQZYeleORe\"\n",
    "CONSUMER_SECRET = \"JtTfz6C4WaCNZkzmn02U4GkOoilCyiIVKFFknuLgWD51MeVySm\""
   ]
  },
  {
   "cell_type": "code",
   "execution_count": 3,
   "metadata": {},
   "outputs": [],
   "source": [
    "auth=OAuthHandler(CONSUMER_KEY,CONSUMER_SECRET)\n",
    "auth.set_access_token(ACCESS_TOKEN,ACCESS_TOKEN_SECRET)\n",
    "api=tweepy.API(auth)"
   ]
  },
  {
   "cell_type": "code",
   "execution_count": 4,
   "metadata": {},
   "outputs": [],
   "source": [
    "tweets=[]\n",
    "retweet=[]\n",
    "likes=[]"
   ]
  },
  {
   "cell_type": "code",
   "execution_count": 36,
   "metadata": {},
   "outputs": [
    {
     "data": {
      "text/plain": [
       "['ndtv', 'PragyaLive', 'DeepalTrevedie', 'ndtv', 'TheJohnAbraham']"
      ]
     },
     "execution_count": 36,
     "metadata": {},
     "output_type": "execute_result"
    }
   ],
   "source": [
    "l=l[:5]\n",
    "l"
   ]
  },
  {
   "cell_type": "code",
   "execution_count": 23,
   "metadata": {},
   "outputs": [],
   "source": [
    "#input from website \n",
    "user_input='CA'\n",
    "userx=l\n"
   ]
  },
  {
   "cell_type": "code",
   "execution_count": 37,
   "metadata": {},
   "outputs": [],
   "source": [
    "# a=tweepy.Cursor(api.user_timeline,id=userx).items(200)\n",
    "# a=list(a)\n",
    "data=[]\n",
    "for i in range(len(userx)):\n",
    "    searched_tweets = [status for status in tweepy.Cursor(api.user_timeline,id=userx[i]).items(200)]\n",
    "    tweets=[]\n",
    "    for i in searched_tweets:\n",
    "        tweets.append(i.text)\n",
    "    data.append(tweets)\n",
    "    "
   ]
  },
  {
   "cell_type": "code",
   "execution_count": 1,
   "metadata": {},
   "outputs": [],
   "source": [
    "\n",
    "# a=tweepy.Cursor(api.user_timeline,id=userx).items(200)\n",
    "# a=list(a)\n",
    "# a"
   ]
  },
  {
   "cell_type": "markdown",
   "metadata": {},
   "source": [
    "#### Query analysis\n"
   ]
  },
  {
   "cell_type": "code",
   "execution_count": 5,
   "metadata": {},
   "outputs": [],
   "source": [
    "ut=\"#coronavirus\""
   ]
  },
  {
   "cell_type": "code",
   "execution_count": 6,
   "metadata": {},
   "outputs": [],
   "source": [
    "popular_tweets = api.search(q=ut, result_type='popular')"
   ]
  },
  {
   "cell_type": "code",
   "execution_count": 33,
   "metadata": {},
   "outputs": [],
   "source": [
    "# popular_tweets[1]"
   ]
  },
  {
   "cell_type": "code",
   "execution_count": 21,
   "metadata": {},
   "outputs": [
    {
     "name": "stdout",
     "output_type": "stream",
     "text": [
      "\n",
      "   http://pbs.twimg.com/profile_images/570440108424171520/QuGYd7jH_normal.png  NDTV     Retweet_Count:   1328\n",
      "\n",
      "#coronavirus https://t.co/QAu4ApQIsA\n",
      "----------------------------------------------------\n",
      "\n",
      "   http://pbs.twimg.com/profile_images/1380172619140325380/0OVy8obk_normal.jpg  Pragya Mishra     Retweet_Count:   1844\n",
      "\n",
      "कोरोना के कारण बीच में ही अलविदा कह गए उत्तर प्रदेश के मेरे पत्रकार साथी अब लिस्ट बन गए हैं...RIP...श्रद्धांजली...… https://t.co/AEmwgUuV2S\n",
      "----------------------------------------------------\n",
      "\n",
      "   http://pbs.twimg.com/profile_images/1351430168456306691/Fq-h9vMA_normal.jpg  Deepal.‏‎‎Trivedi     Retweet_Count:   333\n",
      "\n",
      "No, don't call it #business_sense. It is moral corruption &amp; lack of conscience of the average #Gujarati soul. A fac… https://t.co/rUdJaxvvY7\n",
      "----------------------------------------------------\n",
      "\n",
      "   http://pbs.twimg.com/profile_images/570440108424171520/QuGYd7jH_normal.png  NDTV     Retweet_Count:   238\n",
      "\n",
      "#Coronavirus https://t.co/jPFF2Sqkc4\n",
      "----------------------------------------------------\n",
      "\n",
      "   http://pbs.twimg.com/profile_images/739491566734049280/BDS5ofqH_normal.jpg  John Abraham     Retweet_Count:   273\n",
      "\n",
      "Safe and sanitized ambulances for all medical emergencies across Mumbai, New Delhi, Bengaluru and Pune within 20 mi… https://t.co/hU7l9ewnq7\n",
      "----------------------------------------------------\n",
      "\n",
      "   http://pbs.twimg.com/profile_images/418848443881119744/uV7dEImQ_normal.png  Pinkvilla     Retweet_Count:   238\n",
      "\n",
      "Rubina Dilaik tests positive for COVID-19. She says she always looks at the sliver lining as she pledges to donate… https://t.co/qCy5kqRQkx\n",
      "----------------------------------------------------\n",
      "\n",
      "   http://pbs.twimg.com/profile_images/1246093341910896640/_CjTaeDp_normal.jpg  Yogeshwar Dutt     Retweet_Count:   226\n",
      "\n",
      "यह देखिए #coronavirus महामारी में प्राइवेट हस्पतालों की लूट। खुले आम आम जनता को लूटा जा रहा है। जरूरी है कि इनके खि… https://t.co/0iR1WAOqnv\n",
      "----------------------------------------------------\n",
      "\n",
      "   http://pbs.twimg.com/profile_images/847767786034212868/fst7jxqR_normal.jpg  GaonConnection     Retweet_Count:   172\n",
      "\n",
      "गांव में जान ले रही कोरोना की दूसरी लहर, गांव के गांव बुखार से पीड़ित, मेडिकल स्टोर के सहारे इलाज\n",
      "\n",
      "रिपोर्ट… https://t.co/Vl935ns4Tn\n",
      "----------------------------------------------------\n",
      "\n",
      "   http://pbs.twimg.com/profile_images/1350508999662133249/pBYGdU5U_normal.jpg  RadhakrishnanRK     Retweet_Count:   170\n",
      "\n",
      "One after another, #Godimedia is suddenly discovering that human beings are dying of #COVIDSecondWaveInIndia and ar… https://t.co/YRgJHl9gXi\n",
      "----------------------------------------------------\n",
      "\n",
      "   http://pbs.twimg.com/profile_images/1061900452311121920/jo7qrMTA_normal.jpg  The Hindu     Retweet_Count:   134\n",
      "\n",
      "A forum of scientific advisers set up by the Union government warned officials in early March of a new and more con… https://t.co/kzE1MaiGsg\n",
      "----------------------------------------------------\n",
      "\n",
      "   http://pbs.twimg.com/profile_images/1206506650603081730/O6AGMECB_normal.png  Antena 3 Noticias     Retweet_Count:   125\n",
      "\n",
      "🔴 #ÚLTIMAHORA | España confirma los primeros casos de la variante india de #coronavirus, que está dejando récords d… https://t.co/Of3sNWbhoS\n",
      "----------------------------------------------------\n",
      "\n",
      "   http://pbs.twimg.com/profile_images/1130017683137650693/4j6mkSBx_normal.png  Delhi Times     Retweet_Count:   262\n",
      "\n",
      ".@RubiDilaik tests positive for #COVID19; is under home #quarantine \n",
      "\n",
      "#RubinaDilaik #coronavirus https://t.co/pi0Dvy4ahc\n",
      "----------------------------------------------------\n",
      "\n",
      "   http://pbs.twimg.com/profile_images/1351381496238493698/lAMcbaW3_normal.jpg  AajTak     Retweet_Count:   81\n",
      "\n",
      "कहीं ऑक्सीजन का संकट तो कहीं बाजार में ढूंढे नहीं मिल रही हैं दवाइयां, जाने राज्यों का हाल | #ATVideo #Coronavirus… https://t.co/RN4EC5W9Sv\n",
      "----------------------------------------------------\n",
      "\n",
      "   http://pbs.twimg.com/profile_images/1369204960232083459/Dvqz7OAv_normal.jpg  GVA Sanitat     Retweet_Count:   77\n",
      "\n",
      "🗓️1/05\n",
      "\n",
      "🔘@GVAsanitat registra 179 casos nuevos de #coronavirus en la Comunitat Valenciana\n",
      "\n",
      "➡️31 en Castellón\n",
      "➡️82 e… https://t.co/O2ENYIauIT\n",
      "----------------------------------------------------\n",
      "\n",
      "   http://pbs.twimg.com/profile_images/1239514892513624064/w_ERWXYS_normal.jpg  TV9 Marathi     Retweet_Count:   75\n",
      "\n",
      "केंद्राकडून येणारा ऑक्सिजन, रेमडेसिविरचा साठा फक्त पॉवरफुल मंत्र्यांच्या जिल्ह्यातच जातोय; फडणवीसांचा आरोप… https://t.co/beUBN9dpAQ\n",
      "----------------------------------------------------\n"
     ]
    }
   ],
   "source": [
    "l=[]\n",
    "for j in range(len(popular_tweets)):\n",
    "        print(\"\\n   \"+popular_tweets[j].user.profile_image_url+\"  \"+popular_tweets[j].user.name + \"     Retweet_Count:   \"+str(popular_tweets[j].retweet_count))\n",
    "        print(\"\\n\"+popular_tweets[j].text)\n",
    "        l.append(popular_tweets[j].user.screen_name)\n",
    "#      l=[cat(\"\\n\"+popular_tweets[j].text,\"\\nBy--  \"+popular_tweets[j].user.name,'RetweetCount:'+popular_tweets[j].ret]\n",
    "\n",
    "        print('----------------------------------------------------')\n"
   ]
  },
  {
   "cell_type": "code",
   "execution_count": 20,
   "metadata": {},
   "outputs": [
    {
     "data": {
      "text/plain": [
       "'PragyaLive'"
      ]
     },
     "execution_count": 20,
     "metadata": {},
     "output_type": "execute_result"
    }
   ],
   "source": [
    "popular_tweets[1].user.screen_name"
   ]
  },
  {
   "cell_type": "code",
   "execution_count": null,
   "metadata": {},
   "outputs": [],
   "source": []
  },
  {
   "cell_type": "code",
   "execution_count": null,
   "metadata": {},
   "outputs": [],
   "source": []
  },
  {
   "cell_type": "code",
   "execution_count": null,
   "metadata": {},
   "outputs": [],
   "source": []
  },
  {
   "cell_type": "code",
   "execution_count": null,
   "metadata": {},
   "outputs": [],
   "source": []
  },
  {
   "cell_type": "code",
   "execution_count": null,
   "metadata": {},
   "outputs": [],
   "source": []
  },
  {
   "cell_type": "code",
   "execution_count": null,
   "metadata": {},
   "outputs": [],
   "source": []
  },
  {
   "cell_type": "code",
   "execution_count": null,
   "metadata": {},
   "outputs": [],
   "source": []
  },
  {
   "cell_type": "code",
   "execution_count": null,
   "metadata": {},
   "outputs": [],
   "source": []
  },
  {
   "cell_type": "code",
   "execution_count": null,
   "metadata": {},
   "outputs": [],
   "source": []
  },
  {
   "cell_type": "code",
   "execution_count": null,
   "metadata": {},
   "outputs": [],
   "source": []
  },
  {
   "cell_type": "code",
   "execution_count": null,
   "metadata": {},
   "outputs": [],
   "source": []
  },
  {
   "cell_type": "code",
   "execution_count": null,
   "metadata": {},
   "outputs": [],
   "source": []
  },
  {
   "cell_type": "code",
   "execution_count": null,
   "metadata": {},
   "outputs": [],
   "source": []
  },
  {
   "cell_type": "code",
   "execution_count": null,
   "metadata": {},
   "outputs": [],
   "source": []
  },
  {
   "cell_type": "code",
   "execution_count": null,
   "metadata": {},
   "outputs": [],
   "source": []
  },
  {
   "cell_type": "code",
   "execution_count": 7,
   "metadata": {},
   "outputs": [],
   "source": [
    "# Twitter_df2=pd.DataFrame({'tweets':tweets,'likes':likes,'retweet':retweet})\n",
    "# Twitter_df2"
   ]
  },
  {
   "cell_type": "code",
   "execution_count": 25,
   "metadata": {},
   "outputs": [],
   "source": [
    "\n",
    "\n",
    "\n",
    "#LOAD MODEL\n",
    "loaded_vec = CountVectorizer(vocabulary=pickle.load(open(\"count_vector.pkl\", \"rb\")))\n",
    "loaded_tfidf = pickle.load(open(\"tfidf.pkl\",\"rb\"))\n",
    "loaded_model = pickle.load(open(\"NEW_softmax.pkl\",\"rb\"))\n",
    "\n",
    "\n"
   ]
  },
  {
   "cell_type": "code",
   "execution_count": 26,
   "metadata": {},
   "outputs": [],
   "source": [
    "news_category=[]"
   ]
  },
  {
   "cell_type": "code",
   "execution_count": 38,
   "metadata": {},
   "outputs": [],
   "source": [
    "for i in range(len(data)):\n",
    "    for j in range(len(data[i])):\n",
    "        X_new_counts = loaded_vec.transform([data[i][j]])\n",
    "        X_new_tfidf = loaded_tfidf.transform(X_new_counts)\n",
    "        predicted = loaded_model.predict(X_new_tfidf)\n",
    "        news_category.append(predicted)\n",
    "\n",
    "\n",
    "\n"
   ]
  },
  {
   "cell_type": "code",
   "execution_count": 28,
   "metadata": {},
   "outputs": [],
   "source": [
    "from itertools import islice\n",
    "\n",
    "def chunk(it, size):\n",
    "    it = iter(it)\n",
    "    return iter(lambda: tuple(islice(it, size)), ())\n",
    "\n"
   ]
  },
  {
   "cell_type": "code",
   "execution_count": 39,
   "metadata": {},
   "outputs": [],
   "source": [
    "x=[]\n",
    "for i in range(len(news_category)):\n",
    "    x.append(news_category[i][0])\n",
    "    \n",
    "cumulative_count=[]\n",
    "set_x=list(set(x))\n",
    "\n",
    "for j in range(len(set_x)):\n",
    "    cumulative_count.append(x.count(set_x[j]))\n",
    "\n",
    "\n",
    "# c1=x[0:200]\n",
    "# c2=x[200:400]\n",
    "# c3=x[400:600]"
   ]
  },
  {
   "cell_type": "code",
   "execution_count": 30,
   "metadata": {},
   "outputs": [],
   "source": [
    "import numpy as np \n",
    "N_c=list(chunk(x, 200))\n"
   ]
  },
  {
   "cell_type": "code",
   "execution_count": 14,
   "metadata": {},
   "outputs": [],
   "source": [
    "# set_x=list(set(x))\n",
    "# set_x_count1=[]\n",
    "# set_x_count2=[]\n",
    "# set_x_count3=[]"
   ]
  },
  {
   "cell_type": "code",
   "execution_count": 40,
   "metadata": {},
   "outputs": [],
   "source": [
    "count_y=[]\n",
    "\n",
    "for i in range(len(N_c)):\n",
    "    count=[]\n",
    "    for j in range(len(set_x)):\n",
    "        count.append(N_c[i].count(set_x[j]))\n",
    "    count_y.append(count)"
   ]
  },
  {
   "cell_type": "code",
   "execution_count": null,
   "metadata": {},
   "outputs": [],
   "source": []
  },
  {
   "cell_type": "code",
   "execution_count": 16,
   "metadata": {},
   "outputs": [],
   "source": [
    "# list1=[]\n",
    "# for i in range(len(count_y)):\n",
    "#     list1.append([userx[i],count_y[i]])\n",
    "# df=pd.DataFrame(list1,columns=['Name','Values'])"
   ]
  },
  {
   "cell_type": "code",
   "execution_count": null,
   "metadata": {},
   "outputs": [],
   "source": []
  },
  {
   "cell_type": "code",
   "execution_count": 17,
   "metadata": {},
   "outputs": [],
   "source": [
    "# Tweet_Uni=dict(zip(set_x,set_x_count))\n",
    "# count1=list(Tweet_Uni.values())\n",
    "# size1=[]\n",
    "# for i in count1:\n",
    "#     size1.append(i)\n",
    "\n",
    "# colours=[]\n",
    "# c=120\n",
    "# for i in range(len(count1)):\n",
    "#     c=c+2\n",
    "#     colours.append(c)\n",
    "\n"
   ]
  },
  {
   "cell_type": "code",
   "execution_count": 41,
   "metadata": {},
   "outputs": [
    {
     "data": {
      "image/png": "[encoded data removed]",
      "text/plain": [
       "<Figure size 432x288 with 1 Axes>"
      ]
     },
     "metadata": {
      "needs_background": "light"
     },
     "output_type": "display_data"
    }
   ],
   "source": [
    "w=0.4\n",
    "\n",
    "for i in range(len(count_y)):\n",
    "    plt.bar(set_x, count_y[i],w,bottom = np.sum(count_y[:i], axis = 0))\n",
    "    plt.xlabel('News Category')\n",
    "    plt.ylabel('Tweets')\n",
    "    plt.title('News Source vs Tweets Category')\n",
    "    plt.xticks(rotation=90)\n",
    "plt.show()"
   ]
  },
  {
   "cell_type": "code",
   "execution_count": 42,
   "metadata": {},
   "outputs": [
    {
     "name": "stderr",
     "output_type": "stream",
     "text": [
      "No handles with labels found to put in legend.\n"
     ]
    },
    {
     "data": {
      "image/png": "[encoded data removed]",
      "text/plain": [
       "<Figure size 432x288 with 1 Axes>"
      ]
     },
     "metadata": {
      "needs_background": "light"
     },
     "output_type": "display_data"
    }
   ],
   "source": [
    "import matplotlib.pyplot as plt\n",
    "\n",
    "\n",
    "plt.bar(set_x,count_y[0],w)\n",
    "plt.bar(set_x,count_y[1],w,bottom=count_y[0])\n",
    "plt.bar(set_x,count_y[2],w,bottom=count_y[0])\n",
    "\n",
    "plt.xlabel('News Category')\n",
    "plt.ylabel('Tweets')\n",
    "plt.title('News Source vs Tweets Category')\n",
    "plt.xticks(rotation=90)\n",
    "plt.legend()\n",
    "plt.show()"
   ]
  },
  {
   "cell_type": "code",
   "execution_count": 43,
   "metadata": {},
   "outputs": [
    {
     "name": "stderr",
     "output_type": "stream",
     "text": [
      "No handles with labels found to put in legend.\n"
     ]
    },
    {
     "data": {
      "image/png": "[encoded data removed]",
      "text/plain": [
       "<Figure size 432x288 with 1 Axes>"
      ]
     },
     "metadata": {
      "needs_background": "light"
     },
     "output_type": "display_data"
    }
   ],
   "source": [
    "plt.bar(set_x,cumulative_count,w)\n",
    "plt.xlabel('News Category')\n",
    "plt.ylabel('Tweets')\n",
    "plt.title('News Source vs Tweets Category')\n",
    "plt.xticks(rotation=90)\n",
    "plt.legend()\n",
    "plt.show()"
   ]
  },
  {
   "cell_type": "code",
   "execution_count": 21,
   "metadata": {
    "scrolled": false
   },
   "outputs": [],
   "source": [
    "# # !pip install plotly\n",
    "# import plotly.graph_objects as go\n",
    "\n",
    "# fig1 = go.Figure(data=[go.Scatter(\n",
    "#     x=set_x,\n",
    "#     y=cumulative_count,\n",
    "#     mode='markers',\n",
    "#     marker=dict(\n",
    "#         color=colours,\n",
    "#         size=size1,\n",
    "#         showscale=True\n",
    "#         )\n",
    "# )])\n",
    "# fig1.show()\n",
    "\n",
    "# bar1=[set_x,set_x_count]"
   ]
  },
  {
   "cell_type": "code",
   "execution_count": 22,
   "metadata": {},
   "outputs": [],
   "source": [
    "# # !pip install plotly\n",
    "# import plotly.graph_objects as go\n",
    "\n",
    "# fig2 = go.Figure(data=[go.Scatter(\n",
    "#     x=set_x,\n",
    "#     y=set_x_count,\n",
    "#     mode='markers',\n",
    "#     marker=dict(\n",
    "#         color=colours,\n",
    "#         size=size1,\n",
    "#         showscale=True\n",
    "#         )\n",
    "# )])\n",
    "# fig2.show()\n",
    "\n",
    "# bar2=[set_x,set_x_count]"
   ]
  },
  {
   "cell_type": "code",
   "execution_count": 23,
   "metadata": {},
   "outputs": [],
   "source": [
    "# # !pip install seaborn\n",
    "# import seaborn as sns\n",
    "# import matplotlib.pyplot as plt\n",
    "# import matplotlib.pyplot as figure\n",
    "# df1=pd.DataFrame({'x':bar1[0],'y':bar1[1]})\n",
    "# df2=pd.DataFrame({'x':bar2[0],'y':bar2[1]})\n",
    "\n",
    "# df1['hue']='Skynews'\n",
    "# df2['hue']='ABC'\n",
    "\n",
    "# combined=pd.concat([df1,df2])\n",
    "\n",
    "# a4_dims = (11.7, 8.27)\n",
    "# fig, ax = plt.subplots(figsize=a4_dims)\n",
    "# g=sns.barplot(ax=ax,x='x',y='y',data=combined,hue='hue')\n",
    "# plt.setp(g.get_xticklabels(), rotation=90)\n",
    "# plt.show()\n"
   ]
  },
  {
   "cell_type": "code",
   "execution_count": 24,
   "metadata": {},
   "outputs": [],
   "source": [
    "# figx.show()"
   ]
  },
  {
   "cell_type": "code",
   "execution_count": null,
   "metadata": {},
   "outputs": [],
   "source": []
  },
  {
   "cell_type": "code",
   "execution_count": 25,
   "metadata": {},
   "outputs": [],
   "source": [
    "# !pip install -U kaleido\n",
    "# !conda install psutil"
   ]
  },
  {
   "cell_type": "code",
   "execution_count": 26,
   "metadata": {},
   "outputs": [],
   "source": [
    "# fig.write_image(\"yourfile.png\") "
   ]
  },
  {
   "cell_type": "code",
   "execution_count": 27,
   "metadata": {},
   "outputs": [],
   "source": [
    "import json\n",
    "data = {}\n",
    "df=pd.DataFrame()\n",
    "df['category']=set_x\n",
    "\n",
    "if user_input=='CA':\n",
    "    data=dict(zip(set_x,cumulative_count))\n",
    "    json_data = json.dumps(data)\n",
    "else:\n",
    "    for i in range(len(count_y)):\n",
    "        df['value_'+format(i)]=count_y[i]\n",
    "    json_data=df.to_json(orient='records', lines=True)\n",
    "\n",
    "\n"
   ]
  },
  {
   "cell_type": "code",
   "execution_count": 28,
   "metadata": {},
   "outputs": [],
   "source": [
    "# for i in range(len(count_y)):\n",
    "#     data=dict(zip(set_x,count_y[i]))\n"
   ]
  },
  {
   "cell_type": "code",
   "execution_count": 29,
   "metadata": {},
   "outputs": [],
   "source": [
    "# df=pd.DataFrame()\n",
    "# df['category']=set_x\n",
    "# df['cat_'+format(i)]=count_y[0]\n",
    "# df"
   ]
  },
  {
   "cell_type": "code",
   "execution_count": 30,
   "metadata": {},
   "outputs": [],
   "source": [
    "# # import matplotlib.pyplot as plt\n",
    "# # plt.scatter(set_x, set_x_count, s=size1,c=colours\n",
    "\n",
    "# i=1\n",
    "# s='cat_'+format({i})\n",
    "# s"
   ]
  },
  {
   "cell_type": "code",
   "execution_count": 31,
   "metadata": {},
   "outputs": [],
   "source": [
    "# plt.to_json('json_file.json')"
   ]
  },
  {
   "cell_type": "code",
   "execution_count": 32,
   "metadata": {
    "scrolled": true
   },
   "outputs": [],
   "source": [
    "# plt.scatter(\n",
    "#     x = set_x, \n",
    "#     y = set_x_count, \n",
    "#     s=size1, \n",
    "#     c=colours, \n",
    "#     cmap=\"Accent\", \n",
    "#     alpha=0.6, \n",
    "#     edgecolors=\"white\", \n",
    "#     linewidth=2);\n",
    " \n",
    "# plt.xlabel(\"News Category\")\n",
    "# plt.ylabel(\"Frequency\")\n",
    "# plt.title(\"TWITTER ANALYSIS\")\n",
    "# plt.ylim(0,200)\n",
    "\n"
   ]
  },
  {
   "cell_type": "code",
   "execution_count": 33,
   "metadata": {},
   "outputs": [],
   "source": [
    "# plt.savefig(fname='fig2.png')\n"
   ]
  },
  {
   "cell_type": "markdown",
   "metadata": {},
   "source": [
    "### NEW EXPLORATION -- whats trending"
   ]
  },
  {
   "cell_type": "code",
   "execution_count": 5,
   "metadata": {},
   "outputs": [],
   "source": [
    "import sys\n",
    "import geocoder as g\n",
    "# Available Locations\n",
    "places = api.geo_search(query=\"AUSTRALIA\", granularity=\"country\")\n",
    "place_id = places[0].id\n",
    "\n",
    "available_loc = api.trends_available()\n",
    "    # Trends for Specific Country\n",
    "loc = sys.argv[1]     # location as argument variable \n",
    "g.lat=-37.8136\n",
    "g.lng=144.9631\n",
    "closest_loc = api.trends_closest(g.lat, g.lng)\n",
    "trends = api.trends_place(closest_loc[0]['woeid'])\n"
   ]
  },
  {
   "cell_type": "code",
   "execution_count": 19,
   "metadata": {},
   "outputs": [],
   "source": [
    "# trends2[2]['name']"
   ]
  },
  {
   "cell_type": "code",
   "execution_count": 6,
   "metadata": {},
   "outputs": [
    {
     "name": "stdout",
     "output_type": "stream",
     "text": [
      "####################################\n",
      "##QandA\n",
      "\n",
      "Australia is quite good at constructing large centres where we lock up people we don’t want.\n",
      "Surely we can accomoda… https://t.co/yLTztbCSV4\n",
      "\n",
      "By--  Julian Burnside\n",
      "\n",
      "Jess Hill's landmark documentary series #SeeWhatYouMadeMeDo, which asks what needs to be done to keep women and chi… https://t.co/H78gLcpfm5\n",
      "\n",
      "By--  QandA\n",
      "\n",
      "\"That the fossil fuel industry managed to turn global warming into a political issue... might have been tactically… https://t.co/NpDx0gQJHW\n",
      "\n",
      "By--  QandA\n",
      "\n",
      "Geraldine Bilston shared her story of physical and emotional abuse with Q+A last year. She is still fighting for th… https://t.co/DcOqiFHtI3\n",
      "\n",
      "By--  QandA\n",
      "\n",
      "Australian citizens should be allowed back. \n",
      "What about home detention enforced by ankle bracelets, if necessary? #qanda\n",
      "\n",
      "By--  Julian Burnside\n",
      "\n",
      "Bridget McKenzie was the Minister for Biosecurity when we (MUA) warned about ports and Biosecurity ONE MONTH before… https://t.co/VwrfWk6ILu\n",
      "\n",
      "By--  Mich-Elle Myers\n",
      "\n",
      "If we had large quarantine facilities last year Australians would be home by now #qanda\n",
      "\n",
      "By--  Mich-Elle Myers\n",
      "\n",
      "Origins. Roots. Influences. Places I call home. See my answer to the question I’m asked most often. SY\n",
      "\n",
      "🎥… https://t.co/udS7jWHGTI\n",
      "\n",
      "By--  Sami Yusuf\n",
      "\n",
      "The performative masking of the #qanda audience just shows the ABC classes want the pandemic, with all its moralist… https://t.co/KwBlqHG1xD\n",
      "\n",
      "By--  James Morrow\n",
      "----------------------------------------------------\n",
      "####################################\n",
      "##NRLSouthsStorm\n",
      "\n",
      "OOFT! \n",
      "\n",
      "3/3 tries for the Foxx 🔥\n",
      "\n",
      "#TelstraPremiership #NRLSouthsStorm https://t.co/C9ZC8POQzj\n",
      "\n",
      "By--  NRL\n",
      "\n",
      "For those travelling to the game tonight, it is now mandatory in Sydney to wear a face mask on public transport &amp; s… https://t.co/1eaEefGvdN\n",
      "\n",
      "By--  South Sydney Rabbitohs 🐰\n",
      "\n",
      "How about that!\n",
      "\n",
      "Olam with the perfect kick-through for the Foxx 🤩\n",
      "\n",
      "#TelstraPremiership #NRLSouthsStorm https://t.co/tQHRWWWDqg\n",
      "\n",
      "By--  NRL\n",
      "\n",
      "Surely not another from Josh Addo-Carr?!? 👏 \n",
      "\n",
      "#TelstraPremiership #NRLSouthsStorm https://t.co/V9YAtux9l5\n",
      "\n",
      "By--  NRL\n",
      "\n",
      "It's the celebration for me 🤣👏\n",
      "\n",
      "🏈 #NRLSouthsStorm\n",
      "📺 WATCH https://t.co/1Cq5GALwtI\n",
      "📝 BLOG https://t.co/iqD1XQig3F\n",
      "📲… https://t.co/HozmunrcID\n",
      "\n",
      "By--  Fox League\n",
      "\n",
      "Melbourne in first halves vs Souths this year: 48-0. #NRLSouthsStorm\n",
      "\n",
      "By--  Scott Bailey\n",
      "\n",
      "Lesssssgoooooo ‼️👏 👏\n",
      "\n",
      "#GoRabbitohs 🐰\n",
      "#NRLSouthsStorm\n",
      "\n",
      "By--  South Sydney Rabbitohs 🐰\n",
      "\n",
      "An important reminder for fans heading to #NRLSouthsStorm at #StadiumAustralia:\n",
      "\n",
      "Before heading to the event, make… https://t.co/fNjZAIRnca\n",
      "\n",
      "By--  Stadium Australia\n",
      "\n",
      "Here's everything you need to know before we take on the Storm 🐰🆚⚡️ @wotif\n",
      "\n",
      "#GoRabbitohs ❤️💚 #NRLSouthsStorm https://t.co/3R67xV8xzP\n",
      "\n",
      "By--  South Sydney Rabbitohs 🐰\n",
      "----------------------------------------------------\n",
      "####################################\n",
      "##MVCvMAC\n",
      "\n",
      "3️⃣ changes to the line up tonight 👊\n",
      "\n",
      "Susnjar, Martis and Susaeta return to the XI! \n",
      "\n",
      "#MVCvMAC #MFCBulls https://t.co/VhIw8qdynV\n",
      "\n",
      "By--  Macarthur FC\n",
      "\n",
      "Elvis with a great finish for the opener! #MVCvMAC #ALeague @FOXFOOTBALL https://t.co/wY3U3LQ3QN\n",
      "\n",
      "By--  Melbourne Victory\n",
      "\n",
      "Here's our starting XI to face Macarthur FC at @AAMIPark! #MVCvMAC #MVFC\n",
      "\n",
      "By--  Melbourne Victory\n",
      "----------------------------------------------------\n",
      "####################################\n",
      "##MasterChefAU\n",
      "\n",
      "Nice try, but it’s not the big leagues unless it’s a veloute. #MasterChefAU https://t.co/ikYAJ9k8kB https://t.co/VzOi7bsYAy\n",
      "\n",
      "By--  Adam Liaw\n",
      "\n",
      "A MasterClass with @lauracassai, sign us up! 👏\n",
      "\n",
      "A big #MasterChefAU night ahead from 7.30 tonight on @Channel10AU a… https://t.co/FSJXBtg8wQ\n",
      "\n",
      "By--  masterchefau\n",
      "\n",
      "Don't go anywhere! We're at @FlemingtonVRC for a MasterClass 🙌 #MasterChefAU https://t.co/yg01NmSCNb\n",
      "\n",
      "By--  masterchefau\n",
      "\n",
      "Last night #HardQuiz beat #MasterChefAU and #BigBrotherAU. We are officially a juggernaut. https://t.co/CJTnw2POSK\n",
      "\n",
      "By--  Tom Gleeson\n",
      "----------------------------------------------------\n",
      "####################################\n",
      "#PINK JOON\n",
      "\n",
      "┏┓\n",
      "┃┃╱╲ In this\n",
      "┃╱╱╲╲ house\n",
      "╱╱╭╮╲╲ we stan\n",
      "▔▏┗┛▕▔ \n",
      "  PINK JOON\n",
      "\n",
      "By--  MTV UK\n",
      "\n",
      "Ok let me collect myself. I love these hair changes. Pink Joon. Blonde Hoseok + Jimin. Purple Jungkook! Just lovely.\n",
      "\n",
      "By--  🌻fatima🧈\n",
      "\n",
      "pink joon??? PINK JOON\n",
      "\n",
      "By--  🌻fatima🧈\n",
      "\n",
      "if pink joon turns out to be something i hallucinated from the vaccine i will be so sad\n",
      "\n",
      "By--  lenika 🌺🧈\n",
      "\n",
      "joon: *pink*\n",
      "stan twt: https://t.co/ExrDIyEufu\n",
      "\n",
      "By--  lucy ford\n",
      "\n",
      "PINK JOON???! https://t.co/8aHAmpnG5v\n",
      "\n",
      "By--  Jenna Guillaume\n",
      "----------------------------------------------------\n",
      "####################################\n",
      "#Munster\n",
      "\n",
      "An appeal has been issued to help find 41-year-old Dean Roberts who has been missing from his home in Mallow, Co Co… https://t.co/izN4pnHgfL\n",
      "\n",
      "By--  RTÉ News\n",
      "\n",
      "Save the Date! #TagderBundeswehr2021: 16 Standorte mit verschiedenen Fähigkeiten &amp; Facetten am 12.06.2021 ganz… https://t.co/mtqgFHigX0\n",
      "\n",
      "By--  Heer\n",
      "\n",
      "Congratulations to Munster and @IrishRugby's @CJStander on being named an Honorary Limerick Man at the Limerick Per… https://t.co/r5dIRNX5oc\n",
      "\n",
      "By--  Munster Rugby\n",
      "\n",
      "SARS-CoV-2 in large droplets survives best at low RH. Similar pattern to other enveloped viruses. Mechanistic advan… https://t.co/bpah4JePL2\n",
      "\n",
      "By--  Linsey Marr\n",
      "\n",
      "Facebook and Apple are surging after earnings – $FB to all-time highs. @munster_gene of @LoupVentures shares his ho… https://t.co/fbLHFGQrTc\n",
      "\n",
      "By--  CNBC's Fast Money\n",
      "\n",
      "A Victorian mansion, painstakingly reproduced to appear just as the the Munster's family home did on TV. https://t.co/quISb6xCWV\n",
      "\n",
      "By--  Atlas Obscura\n",
      "\n",
      "The fascinating complexities of our shared history. \n",
      "\n",
      "An example, not in the article, WO2 Martin Doyle of the Royal… https://t.co/av83YSWCJI\n",
      "\n",
      "By--  Doug Beattie\n",
      "\n",
      "📢 VACANCY | Munster Rugby are now inviting applications for the position of @GreencoreGroup Munster Rugby Academy P… https://t.co/hwcJ47GKQg\n",
      "\n",
      "By--  Munster Rugby\n",
      "\n",
      "The intensive care consultant Dr Catherine Motherway, who heads up the ICU at University Hospital Limerick and who… https://t.co/NRzhp16tHa\n",
      "\n",
      "By--  RTÉ News\n",
      "\n",
      "15-year-old climate activist Saoirse Exton from Co Clare, has been selected as one of only 14 young people across t… https://t.co/dQO8szABkH\n",
      "\n",
      "By--  RTÉ News\n",
      "\n",
      "‘The Amazing Race’ Creators Hope To Get Back In Production Soon As CBS Reality Series Hits 1 Million Miles Travelle… https://t.co/vGXL0ldKoT\n",
      "\n",
      "By--  Deadline Hollywood\n",
      "\n",
      "My @irishexaminer report: Advocates for Ireland’s Deaf community have hailed 12-year-old Cork boy Calum Geary’s app… https://t.co/7DHFFAtIUo\n",
      "\n",
      "By--  Donal O'Keeffe\n",
      "\n",
      "Hundreds attend anti-lockdown protest in Cork city https://t.co/Rw3wXcHccX\n",
      "\n",
      "By--  Irish Examiner\n",
      "----------------------------------------------------\n",
      "####################################\n",
      "#Josh Addo\n",
      "\n",
      "Surely not another from Josh Addo-Carr?!? 👏 \n",
      "\n",
      "#TelstraPremiership #NRLSouthsStorm https://t.co/V9YAtux9l5\n",
      "\n",
      "By--  NRL\n",
      "\n",
      "Foxx has now moved past Greg Inglis on our all-time try scorers list. \n",
      "\n",
      "He's sixth overall:\n",
      "1. Billy Slater (190)\n",
      "2… https://t.co/JHKuO30UlL\n",
      "\n",
      "By--  Melbourne Storm 🏆\n",
      "\n",
      "Josh Addo-Carr in open space... WHAT A SIGHT 💨\n",
      "\n",
      "#TelstraPremiership #NRLStormSharks https://t.co/9ckGpkg8We\n",
      "\n",
      "By--  NRL\n",
      "----------------------------------------------------\n",
      "####################################\n",
      "#Nicho Hynes\n",
      "\n",
      "Nicho Hynes SLICES through!\n",
      "\n",
      "#TelstraPremiership #NRLSouthsStorm https://t.co/Uuuj14sUmE\n",
      "\n",
      "By--  NRL\n",
      "----------------------------------------------------\n",
      "####################################\n",
      "#The Fox\n",
      "\n",
      "Jake Tapper is 100% right: if members of the Republican party are going to spew lies on their show to millions of p… https://t.co/Qx0Ch66HMe\n",
      "\n",
      "By--  BrooklynDad_Defiant!\n",
      "\n",
      "The 1st Amendment gives us the right to say crazy things w/o gov't interference. It doesn't require Random House to… https://t.co/t3zvyGVepG\n",
      "\n",
      "By--  Tom Malinowski\n",
      "\n",
      ".@pfizer, as one of the few remaining advertisers on Fox News, are you really okay with their main opinion host tel… https://t.co/FEJPJhLnDG\n",
      "\n",
      "By--  Sleeping Giants\n",
      "\n",
      "THREAD: (cases today)\n",
      "\n",
      "Leo Bozell appears in DC court hearing at 10am.  Bozell is the son of conservative media act… https://t.co/iVBYL1WjYb\n",
      "\n",
      "By--  Scott MacFarlane\n",
      "\n",
      "This is Laurence Fox's response to an NHS doctor who criticised him.\n",
      "\n",
      "Imagine being so entitled as to think that NH… https://t.co/bumPgPykER\n",
      "\n",
      "By--  Nadia Whittome MP\n",
      "\n",
      "What’s next? Will we allow the Russians and the Chinese to vote in national elections? Why not? It’s not like we co… https://t.co/Q6saxMwrcu\n",
      "\n",
      "By--  Donald Trump Jr.\n",
      "\n",
      "Still glorious after all these years. Tucker had to throw in the towel because Jon Stewart owned him. The show was… https://t.co/D3TDcuCf2t\n",
      "\n",
      "By--  Wajahat \"Fasting\" Ali\n",
      "\n",
      "“Don’t waste your vote. Vote for principle, not party power. Vote for the only man prepared and able to drain the s… https://t.co/V8xDW2cmAN\n",
      "\n",
      "By--  Laurence Fox ✌🏼🇬🇧✌🏼\n",
      "\n",
      "This is GOLD. Trump's much promoted revolutionary social media platform is basically blogspot installed on Trump's… https://t.co/iEnyFGVgG5\n",
      "\n",
      "By--  David Pakman\n",
      "\n",
      "“Imagine if former presidents Barack Obama and George W. Bush came together to demand a Congressional inquiry into… https://t.co/GVZ0Dp9ola\n",
      "\n",
      "By--  Eric Boehlert\n",
      "\n",
      "Statement from Jeremy Adler, Cheney spokesman, in response to McCarthy’s Fox News interview:\n",
      "\n",
      "“This is about whethe… https://t.co/3C414ORhfX\n",
      "\n",
      "By--  Haley Byrd Wilt\n",
      "\n",
      "REVEALED: Rep. Liz Cheney (R-WY) met “off-the-record” Monday with Fox News board member Paul Ryan amid reports of i… https://t.co/8JmxeboMf3\n",
      "\n",
      "By--  Breitbart News\n",
      "\n",
      "Big congrats to all the loathsome toads who pushed his case on Fox to get the attention of our soup-brained ex-pres… https://t.co/lYYB1VOEgr\n",
      "\n",
      "By--  CJ Ciaramella\n",
      "\n",
      "Is America a racist country? @desilydic's been watching Fox News for 358 hours straight and THE ANSWER IS NO https://t.co/x5fJYjLlfx\n",
      "\n",
      "By--  The Daily Show\n",
      "\n",
      "This is the language, values and manners of a thug. Treating people, any person, like they are your servant is seri… https://t.co/BCCsh5qCG9\n",
      "\n",
      "By--  Shappi Khorsandi\n",
      "----------------------------------------------------\n",
      "####################################\n",
      "#Benji\n"
     ]
    },
    {
     "name": "stdout",
     "output_type": "stream",
     "text": [
      "\n",
      "LOVE 💗 https://t.co/tvCNY4WznM\n",
      "\n",
      "By--  B3N\n",
      "\n",
      "🐶💕⁠ Serious side eye on the DLR 👀⁠\n",
      "\n",
      "Thanks for sharing, Benji! https://t.co/l3SAfzQcfR\n",
      "\n",
      "By--  Transport for London 🚶🏼‍♀️🚴🏼‍♀️\n",
      "\n",
      "Ho paura di non essere all’altezza dei miei sogni e delle mie ambizioni, ma ciò nonostante ho fatto la mia scelta:… https://t.co/M1hWEEGQ7L\n",
      "\n",
      "By--  B3N\n",
      "\n",
      "Popstar or college student? https://t.co/rRxgFF6QJ0\n",
      "\n",
      "By--  B3N\n",
      "\n",
      "Brasstown Coffee Co. (but only if Victor and Benji are working) https://t.co/GBemi0Ntzh https://t.co/1JqfisONMM\n",
      "\n",
      "By--  Love, Victor\n",
      "\n",
      "Happy Twitter Independence Day Tanzania: 29/4/2021\n",
      "\n",
      "Finally, 7 months later, Twitter unblocked in Tanzania. 🎉\n",
      "\n",
      "By--  Benjamin Fernandes 🇹🇿\n",
      "\n",
      "The right people won’t give up on you.\n",
      "\n",
      "By--  Benjamin Fernandes 🇹🇿\n",
      "\n",
      "Fintech in Africa: \n",
      "\n",
      "Product Vs. Compliance paperwork https://t.co/Nbmzg5EQjm\n",
      "\n",
      "By--  Benjamin Fernandes 🇹🇿\n",
      "\n",
      "Support Aboriginal business.\n",
      "This is my cousin Benji's Rodna Cultural Tours\n",
      "If you're travelling Finke River, Herma… https://t.co/Dw0Bnwf4ha\n",
      "\n",
      "By--  @Sue-Anne Hunter Family Matters Co-Chair\n",
      "\n",
      "Congratulations to Benji Marshall who this round overtakes Adam Blair's record (331) of most #NRL games played by a… https://t.co/jb9Rv2bUJg\n",
      "\n",
      "By--  NRL\n",
      "\n",
      "April is #AutismAcceptanceMonth.  Our 9 year old son Benji is #Neurodivergent.  We look at it as a blessing full of… https://t.co/oMSUip5YrL\n",
      "\n",
      "By--  doncalloway\n",
      "\n",
      "Benji Marshall plays his 332nd @NRL game, the most of any @NZRL_Kiwis, going past Adam Blair (331). He also equals… https://t.co/Cor6JVJHiu\n",
      "\n",
      "By--  Fox Sports Lab\n",
      "----------------------------------------------------\n"
     ]
    }
   ],
   "source": [
    "trends2=trends[0]['trends'][:10]\n",
    "d={}\n",
    "for i in range(len(trends2)):\n",
    "    print('####################################')\n",
    "    string=\"#\"+str(trends2[i]['name'])\n",
    "    print(string)\n",
    "    \n",
    "    popular_tweets=[]\n",
    "    popular_tweets = api.search(q=trends2[i]['name'], result_type='popular')\n",
    "    for j in range(len(popular_tweets)):\n",
    "        print(\"\\n\"+popular_tweets[j].text)\n",
    "        print(\"\\nBy--  \"+popular_tweets[j].user.name)\n",
    "#        l=[cat(\"\\n\"+popular_tweets[j].text,\"\\nBy--  \"+popular_tweets[j].user.name,'RetweetCount:'+popular_tweets[j].ret]\n",
    "\n",
    "    print('----------------------------------------------------')\n"
   ]
  },
  {
   "cell_type": "code",
   "execution_count": 13,
   "metadata": {},
   "outputs": [
    {
     "name": "stdout",
     "output_type": "stream",
     "text": [
      "None\n"
     ]
    }
   ],
   "source": [
    "print(trends2[3]['tweet_volume'])"
   ]
  },
  {
   "cell_type": "code",
   "execution_count": 121,
   "metadata": {},
   "outputs": [],
   "source": [
    "n=[]\n",
    "tv=[]\n",
    "for i in range(len(trends2)):\n",
    "    n.append(\"#\"+str(trends2[i]['name']))\n",
    "    if trends2[i]['tweet_volume']==None:\n",
    "        trends2[i]['tweet_volume']=0\n",
    "    tv.append(int(trends2[i]['tweet_volume']))\n",
    "trending_data=dict(zip(n,tv))"
   ]
  },
  {
   "cell_type": "code",
   "execution_count": 122,
   "metadata": {},
   "outputs": [
    {
     "name": "stderr",
     "output_type": "stream",
     "text": [
      "No handles with labels found to put in legend.\n"
     ]
    },
    {
     "data": {
      "image/png": "[encoded data removed]",
      "text/plain": [
       "<Figure size 432x288 with 1 Axes>"
      ]
     },
     "metadata": {
      "needs_background": "light"
     },
     "output_type": "display_data"
    }
   ],
   "source": [
    "plt.bar(n,tv)\n",
    "plt.xlabel('News Category')\n",
    "plt.ylabel('Tweets')\n",
    "plt.title('News Source vs Tweets Category')\n",
    "plt.xticks(rotation=90)\n",
    "plt.legend()\n",
    "plt.show()"
   ]
  },
  {
   "cell_type": "code",
   "execution_count": null,
   "metadata": {},
   "outputs": [],
   "source": []
  },
  {
   "cell_type": "code",
   "execution_count": null,
   "metadata": {},
   "outputs": [],
   "source": []
  },
  {
   "cell_type": "code",
   "execution_count": 123,
   "metadata": {},
   "outputs": [],
   "source": [
    "count1=tv\n",
    "size1=[]\n",
    "for i in count1:\n",
    "    size1.append(i/1000)\n",
    "\n",
    "colours=[]\n",
    "c=120\n",
    "for i in range(len(count1)):\n",
    "    c=c+2\n",
    "    colours.append(c)\n",
    "\n"
   ]
  },
  {
   "cell_type": "code",
   "execution_count": 124,
   "metadata": {},
   "outputs": [
    {
     "data": {
      "application/vnd.plotly.v1+json": {
       "config": {
        "plotlyServerURL": "https://plot.ly"
       },
       "data": [
        {
         "marker": {
          "color": [
           122,
           124,
           126,
           128,
           130,
           132,
           134,
           136,
           138,
           140
          ],
          "showscale": true,
          "size": [
           80.324,
           0,
           45.49,
           42.792,
           19.938,
           0,
           0,
           103.131,
           241.909,
           34.813
          ]
         },
         "mode": "markers",
         "type": "scatter",
         "x": [
          "##NFLDraft2021",
          "#Twisted Sister",
          "#Trey Lance",
          "#Trevor Lawrence",
          "#Jags",
          "#brittany higgins",
          "#Clive Palmer",
          "#49ers",
          "#Rodgers",
          "#Zach Wilson"
         ],
         "y": [
          80324,
          0,
          45490,
          42792,
          19938,
          0,
          0,
          103131,
          241909,
          34813
         ]
        }
       ],
       "layout": {
        "template": {
         "data": {
          "bar": [
           {
            "error_x": {
             "color": "#2a3f5f"
            },
            "error_y": {
             "color": "#2a3f5f"
            },
            "marker": {
             "line": {
              "color": "#E5ECF6",
              "width": 0.5
             }
            },
            "type": "bar"
           }
          ],
          "barpolar": [
           {
            "marker": {
             "line": {
              "color": "#E5ECF6",
              "width": 0.5
             }
            },
            "type": "barpolar"
           }
          ],
          "carpet": [
           {
            "aaxis": {
             "endlinecolor": "#2a3f5f",
             "gridcolor": "white",
             "linecolor": "white",
             "minorgridcolor": "white",
             "startlinecolor": "#2a3f5f"
            },
            "baxis": {
             "endlinecolor": "#2a3f5f",
             "gridcolor": "white",
             "linecolor": "white",
             "minorgridcolor": "white",
             "startlinecolor": "#2a3f5f"
            },
            "type": "carpet"
           }
          ],
          "choropleth": [
           {
            "colorbar": {
             "outlinewidth": 0,
             "ticks": ""
            },
            "type": "choropleth"
           }
          ],
          "contour": [
           {
            "colorbar": {
             "outlinewidth": 0,
             "ticks": ""
            },
            "colorscale": [
             [
              0,
              "#0d0887"
             ],
             [
              0.1111111111111111,
              "#46039f"
             ],
             [
              0.2222222222222222,
              "#7201a8"
             ],
             [
              0.3333333333333333,
              "#9c179e"
             ],
             [
              0.4444444444444444,
              "#bd3786"
             ],
             [
              0.5555555555555556,
              "#d8576b"
             ],
             [
              0.6666666666666666,
              "#ed7953"
             ],
             [
              0.7777777777777778,
              "#fb9f3a"
             ],
             [
              0.8888888888888888,
              "#fdca26"
             ],
             [
              1,
              "#f0f921"
             ]
            ],
            "type": "contour"
           }
          ],
          "contourcarpet": [
           {
            "colorbar": {
             "outlinewidth": 0,
             "ticks": ""
            },
            "type": "contourcarpet"
           }
          ],
          "heatmap": [
           {
            "colorbar": {
             "outlinewidth": 0,
             "ticks": ""
            },
            "colorscale": [
             [
              0,
              "#0d0887"
             ],
             [
              0.1111111111111111,
              "#46039f"
             ],
             [
              0.2222222222222222,
              "#7201a8"
             ],
             [
              0.3333333333333333,
              "#9c179e"
             ],
             [
              0.4444444444444444,
              "#bd3786"
             ],
             [
              0.5555555555555556,
              "#d8576b"
             ],
             [
              0.6666666666666666,
              "#ed7953"
             ],
             [
              0.7777777777777778,
              "#fb9f3a"
             ],
             [
              0.8888888888888888,
              "#fdca26"
             ],
             [
              1,
              "#f0f921"
             ]
            ],
            "type": "heatmap"
           }
          ],
          "heatmapgl": [
           {
            "colorbar": {
             "outlinewidth": 0,
             "ticks": ""
            },
            "colorscale": [
             [
              0,
              "#0d0887"
             ],
             [
              0.1111111111111111,
              "#46039f"
             ],
             [
              0.2222222222222222,
              "#7201a8"
             ],
             [
              0.3333333333333333,
              "#9c179e"
             ],
             [
              0.4444444444444444,
              "#bd3786"
             ],
             [
              0.5555555555555556,
              "#d8576b"
             ],
             [
              0.6666666666666666,
              "#ed7953"
             ],
             [
              0.7777777777777778,
              "#fb9f3a"
             ],
             [
              0.8888888888888888,
              "#fdca26"
             ],
             [
              1,
              "#f0f921"
             ]
            ],
            "type": "heatmapgl"
           }
          ],
          "histogram": [
           {
            "marker": {
             "colorbar": {
              "outlinewidth": 0,
              "ticks": ""
             }
            },
            "type": "histogram"
           }
          ],
          "histogram2d": [
           {
            "colorbar": {
             "outlinewidth": 0,
             "ticks": ""
            },
            "colorscale": [
             [
              0,
              "#0d0887"
             ],
             [
              0.1111111111111111,
              "#46039f"
             ],
             [
              0.2222222222222222,
              "#7201a8"
             ],
             [
              0.3333333333333333,
              "#9c179e"
             ],
             [
              0.4444444444444444,
              "#bd3786"
             ],
             [
              0.5555555555555556,
              "#d8576b"
             ],
             [
              0.6666666666666666,
              "#ed7953"
             ],
             [
              0.7777777777777778,
              "#fb9f3a"
             ],
             [
              0.8888888888888888,
              "#fdca26"
             ],
             [
              1,
              "#f0f921"
             ]
            ],
            "type": "histogram2d"
           }
          ],
          "histogram2dcontour": [
           {
            "colorbar": {
             "outlinewidth": 0,
             "ticks": ""
            },
            "colorscale": [
             [
              0,
              "#0d0887"
             ],
             [
              0.1111111111111111,
              "#46039f"
             ],
             [
              0.2222222222222222,
              "#7201a8"
             ],
             [
              0.3333333333333333,
              "#9c179e"
             ],
             [
              0.4444444444444444,
              "#bd3786"
             ],
             [
              0.5555555555555556,
              "#d8576b"
             ],
             [
              0.6666666666666666,
              "#ed7953"
             ],
             [
              0.7777777777777778,
              "#fb9f3a"
             ],
             [
              0.8888888888888888,
              "#fdca26"
             ],
             [
              1,
              "#f0f921"
             ]
            ],
            "type": "histogram2dcontour"
           }
          ],
          "mesh3d": [
           {
            "colorbar": {
             "outlinewidth": 0,
             "ticks": ""
            },
            "type": "mesh3d"
           }
          ],
          "parcoords": [
           {
            "line": {
             "colorbar": {
              "outlinewidth": 0,
              "ticks": ""
             }
            },
            "type": "parcoords"
           }
          ],
          "pie": [
           {
            "automargin": true,
            "type": "pie"
           }
          ],
          "scatter": [
           {
            "marker": {
             "colorbar": {
              "outlinewidth": 0,
              "ticks": ""
             }
            },
            "type": "scatter"
           }
          ],
          "scatter3d": [
           {
            "line": {
             "colorbar": {
              "outlinewidth": 0,
              "ticks": ""
             }
            },
            "marker": {
             "colorbar": {
              "outlinewidth": 0,
              "ticks": ""
             }
            },
            "type": "scatter3d"
           }
          ],
          "scattercarpet": [
           {
            "marker": {
             "colorbar": {
              "outlinewidth": 0,
              "ticks": ""
             }
            },
            "type": "scattercarpet"
           }
          ],
          "scattergeo": [
           {
            "marker": {
             "colorbar": {
              "outlinewidth": 0,
              "ticks": ""
             }
            },
            "type": "scattergeo"
           }
          ],
          "scattergl": [
           {
            "marker": {
             "colorbar": {
              "outlinewidth": 0,
              "ticks": ""
             }
            },
            "type": "scattergl"
           }
          ],
          "scattermapbox": [
           {
            "marker": {
             "colorbar": {
              "outlinewidth": 0,
              "ticks": ""
             }
            },
            "type": "scattermapbox"
           }
          ],
          "scatterpolar": [
           {
            "marker": {
             "colorbar": {
              "outlinewidth": 0,
              "ticks": ""
             }
            },
            "type": "scatterpolar"
           }
          ],
          "scatterpolargl": [
           {
            "marker": {
             "colorbar": {
              "outlinewidth": 0,
              "ticks": ""
             }
            },
            "type": "scatterpolargl"
           }
          ],
          "scatterternary": [
           {
            "marker": {
             "colorbar": {
              "outlinewidth": 0,
              "ticks": ""
             }
            },
            "type": "scatterternary"
           }
          ],
          "surface": [
           {
            "colorbar": {
             "outlinewidth": 0,
             "ticks": ""
            },
            "colorscale": [
             [
              0,
              "#0d0887"
             ],
             [
              0.1111111111111111,
              "#46039f"
             ],
             [
              0.2222222222222222,
              "#7201a8"
             ],
             [
              0.3333333333333333,
              "#9c179e"
             ],
             [
              0.4444444444444444,
              "#bd3786"
             ],
             [
              0.5555555555555556,
              "#d8576b"
             ],
             [
              0.6666666666666666,
              "#ed7953"
             ],
             [
              0.7777777777777778,
              "#fb9f3a"
             ],
             [
              0.8888888888888888,
              "#fdca26"
             ],
             [
              1,
              "#f0f921"
             ]
            ],
            "type": "surface"
           }
          ],
          "table": [
           {
            "cells": {
             "fill": {
              "color": "#EBF0F8"
             },
             "line": {
              "color": "white"
             }
            },
            "header": {
             "fill": {
              "color": "#C8D4E3"
             },
             "line": {
              "color": "white"
             }
            },
            "type": "table"
           }
          ]
         },
         "layout": {
          "annotationdefaults": {
           "arrowcolor": "#2a3f5f",
           "arrowhead": 0,
           "arrowwidth": 1
          },
          "autotypenumbers": "strict",
          "coloraxis": {
           "colorbar": {
            "outlinewidth": 0,
            "ticks": ""
           }
          },
          "colorscale": {
           "diverging": [
            [
             0,
             "#8e0152"
            ],
            [
             0.1,
             "#c51b7d"
            ],
            [
             0.2,
             "#de77ae"
            ],
            [
             0.3,
             "#f1b6da"
            ],
            [
             0.4,
             "#fde0ef"
            ],
            [
             0.5,
             "#f7f7f7"
            ],
            [
             0.6,
             "#e6f5d0"
            ],
            [
             0.7,
             "#b8e186"
            ],
            [
             0.8,
             "#7fbc41"
            ],
            [
             0.9,
             "#4d9221"
            ],
            [
             1,
             "#276419"
            ]
           ],
           "sequential": [
            [
             0,
             "#0d0887"
            ],
            [
             0.1111111111111111,
             "#46039f"
            ],
            [
             0.2222222222222222,
             "#7201a8"
            ],
            [
             0.3333333333333333,
             "#9c179e"
            ],
            [
             0.4444444444444444,
             "#bd3786"
            ],
            [
             0.5555555555555556,
             "#d8576b"
            ],
            [
             0.6666666666666666,
             "#ed7953"
            ],
            [
             0.7777777777777778,
             "#fb9f3a"
            ],
            [
             0.8888888888888888,
             "#fdca26"
            ],
            [
             1,
             "#f0f921"
            ]
           ],
           "sequentialminus": [
            [
             0,
             "#0d0887"
            ],
            [
             0.1111111111111111,
             "#46039f"
            ],
            [
             0.2222222222222222,
             "#7201a8"
            ],
            [
             0.3333333333333333,
             "#9c179e"
            ],
            [
             0.4444444444444444,
             "#bd3786"
            ],
            [
             0.5555555555555556,
             "#d8576b"
            ],
            [
             0.6666666666666666,
             "#ed7953"
            ],
            [
             0.7777777777777778,
             "#fb9f3a"
            ],
            [
             0.8888888888888888,
             "#fdca26"
            ],
            [
             1,
             "#f0f921"
            ]
           ]
          },
          "colorway": [
           "#636efa",
           "#EF553B",
           "#00cc96",
           "#ab63fa",
           "#FFA15A",
           "#19d3f3",
           "#FF6692",
           "#B6E880",
           "#FF97FF",
           "#FECB52"
          ],
          "font": {
           "color": "#2a3f5f"
          },
          "geo": {
           "bgcolor": "white",
           "lakecolor": "white",
           "landcolor": "#E5ECF6",
           "showlakes": true,
           "showland": true,
           "subunitcolor": "white"
          },
          "hoverlabel": {
           "align": "left"
          },
          "hovermode": "closest",
          "mapbox": {
           "style": "light"
          },
          "paper_bgcolor": "white",
          "plot_bgcolor": "#E5ECF6",
          "polar": {
           "angularaxis": {
            "gridcolor": "white",
            "linecolor": "white",
            "ticks": ""
           },
           "bgcolor": "#E5ECF6",
           "radialaxis": {
            "gridcolor": "white",
            "linecolor": "white",
            "ticks": ""
           }
          },
          "scene": {
           "xaxis": {
            "backgroundcolor": "#E5ECF6",
            "gridcolor": "white",
            "gridwidth": 2,
            "linecolor": "white",
            "showbackground": true,
            "ticks": "",
            "zerolinecolor": "white"
           },
           "yaxis": {
            "backgroundcolor": "#E5ECF6",
            "gridcolor": "white",
            "gridwidth": 2,
            "linecolor": "white",
            "showbackground": true,
            "ticks": "",
            "zerolinecolor": "white"
           },
           "zaxis": {
            "backgroundcolor": "#E5ECF6",
            "gridcolor": "white",
            "gridwidth": 2,
            "linecolor": "white",
            "showbackground": true,
            "ticks": "",
            "zerolinecolor": "white"
           }
          },
          "shapedefaults": {
           "line": {
            "color": "#2a3f5f"
           }
          },
          "ternary": {
           "aaxis": {
            "gridcolor": "white",
            "linecolor": "white",
            "ticks": ""
           },
           "baxis": {
            "gridcolor": "white",
            "linecolor": "white",
            "ticks": ""
           },
           "bgcolor": "#E5ECF6",
           "caxis": {
            "gridcolor": "white",
            "linecolor": "white",
            "ticks": ""
           }
          },
          "title": {
           "x": 0.05
          },
          "xaxis": {
           "automargin": true,
           "gridcolor": "white",
           "linecolor": "white",
           "ticks": "",
           "title": {
            "standoff": 15
           },
           "zerolinecolor": "white",
           "zerolinewidth": 2
          },
          "yaxis": {
           "automargin": true,
           "gridcolor": "white",
           "linecolor": "white",
           "ticks": "",
           "title": {
            "standoff": 15
           },
           "zerolinecolor": "white",
           "zerolinewidth": 2
          }
         }
        }
       }
      },
      "text/html": [
       "<div>                            <div id=\"661162a5-75e7-4c5f-b192-ab5b6d0d1459\" class=\"plotly-graph-div\" style=\"height:525px; width:100%;\"></div>            <script type=\"text/javascript\">                require([\"plotly\"], function(Plotly) {                    window.PLOTLYENV=window.PLOTLYENV || {};                                    if (document.getElementById(\"661162a5-75e7-4c5f-b192-ab5b6d0d1459\")) {                    Plotly.newPlot(                        \"661162a5-75e7-4c5f-b192-ab5b6d0d1459\",                        [{\"marker\": {\"color\": [122, 124, 126, 128, 130, 132, 134, 136, 138, 140], \"showscale\": true, \"size\": [80.324, 0.0, 45.49, 42.792, 19.938, 0.0, 0.0, 103.131, 241.909, 34.813]}, \"mode\": \"markers\", \"type\": \"scatter\", \"x\": [\"##NFLDraft2021\", \"#Twisted Sister\", \"#Trey Lance\", \"#Trevor Lawrence\", \"#Jags\", \"#brittany higgins\", \"#Clive Palmer\", \"#49ers\", \"#Rodgers\", \"#Zach Wilson\"], \"y\": [80324, 0, 45490, 42792, 19938, 0, 0, 103131, 241909, 34813]}],                        {\"template\": {\"data\": {\"bar\": [{\"error_x\": {\"color\": \"#2a3f5f\"}, \"error_y\": {\"color\": \"#2a3f5f\"}, \"marker\": {\"line\": {\"color\": \"#E5ECF6\", \"width\": 0.5}}, \"type\": \"bar\"}], \"barpolar\": [{\"marker\": {\"line\": {\"color\": \"#E5ECF6\", \"width\": 0.5}}, \"type\": \"barpolar\"}], \"carpet\": [{\"aaxis\": {\"endlinecolor\": \"#2a3f5f\", \"gridcolor\": \"white\", \"linecolor\": \"white\", \"minorgridcolor\": \"white\", \"startlinecolor\": \"#2a3f5f\"}, \"baxis\": {\"endlinecolor\": \"#2a3f5f\", \"gridcolor\": \"white\", \"linecolor\": \"white\", \"minorgridcolor\": \"white\", \"startlinecolor\": \"#2a3f5f\"}, \"type\": \"carpet\"}], \"choropleth\": [{\"colorbar\": {\"outlinewidth\": 0, \"ticks\": \"\"}, \"type\": \"choropleth\"}], \"contour\": [{\"colorbar\": {\"outlinewidth\": 0, \"ticks\": \"\"}, \"colorscale\": [[0.0, \"#0d0887\"], [0.1111111111111111, \"#46039f\"], [0.2222222222222222, \"#7201a8\"], [0.3333333333333333, \"#9c179e\"], [0.4444444444444444, \"#bd3786\"], [0.5555555555555556, \"#d8576b\"], [0.6666666666666666, \"#ed7953\"], [0.7777777777777778, \"#fb9f3a\"], [0.8888888888888888, \"#fdca26\"], [1.0, \"#f0f921\"]], \"type\": \"contour\"}], \"contourcarpet\": [{\"colorbar\": {\"outlinewidth\": 0, \"ticks\": \"\"}, \"type\": \"contourcarpet\"}], \"heatmap\": [{\"colorbar\": {\"outlinewidth\": 0, \"ticks\": \"\"}, \"colorscale\": [[0.0, \"#0d0887\"], [0.1111111111111111, \"#46039f\"], [0.2222222222222222, \"#7201a8\"], [0.3333333333333333, \"#9c179e\"], [0.4444444444444444, \"#bd3786\"], [0.5555555555555556, \"#d8576b\"], [0.6666666666666666, \"#ed7953\"], [0.7777777777777778, \"#fb9f3a\"], [0.8888888888888888, \"#fdca26\"], [1.0, \"#f0f921\"]], \"type\": \"heatmap\"}], \"heatmapgl\": [{\"colorbar\": {\"outlinewidth\": 0, \"ticks\": \"\"}, \"colorscale\": [[0.0, \"#0d0887\"], [0.1111111111111111, \"#46039f\"], [0.2222222222222222, \"#7201a8\"], [0.3333333333333333, \"#9c179e\"], [0.4444444444444444, \"#bd3786\"], [0.5555555555555556, \"#d8576b\"], [0.6666666666666666, \"#ed7953\"], [0.7777777777777778, \"#fb9f3a\"], [0.8888888888888888, \"#fdca26\"], [1.0, \"#f0f921\"]], \"type\": \"heatmapgl\"}], \"histogram\": [{\"marker\": {\"colorbar\": {\"outlinewidth\": 0, \"ticks\": \"\"}}, \"type\": \"histogram\"}], \"histogram2d\": [{\"colorbar\": {\"outlinewidth\": 0, \"ticks\": \"\"}, \"colorscale\": [[0.0, \"#0d0887\"], [0.1111111111111111, \"#46039f\"], [0.2222222222222222, \"#7201a8\"], [0.3333333333333333, \"#9c179e\"], [0.4444444444444444, \"#bd3786\"], [0.5555555555555556, \"#d8576b\"], [0.6666666666666666, \"#ed7953\"], [0.7777777777777778, \"#fb9f3a\"], [0.8888888888888888, \"#fdca26\"], [1.0, \"#f0f921\"]], \"type\": \"histogram2d\"}], \"histogram2dcontour\": [{\"colorbar\": {\"outlinewidth\": 0, \"ticks\": \"\"}, \"colorscale\": [[0.0, \"#0d0887\"], [0.1111111111111111, \"#46039f\"], [0.2222222222222222, \"#7201a8\"], [0.3333333333333333, \"#9c179e\"], [0.4444444444444444, \"#bd3786\"], [0.5555555555555556, \"#d8576b\"], [0.6666666666666666, \"#ed7953\"], [0.7777777777777778, \"#fb9f3a\"], [0.8888888888888888, \"#fdca26\"], [1.0, \"#f0f921\"]], \"type\": \"histogram2dcontour\"}], \"mesh3d\": [{\"colorbar\": {\"outlinewidth\": 0, \"ticks\": \"\"}, \"type\": \"mesh3d\"}], \"parcoords\": [{\"line\": {\"colorbar\": {\"outlinewidth\": 0, \"ticks\": \"\"}}, \"type\": \"parcoords\"}], \"pie\": [{\"automargin\": true, \"type\": \"pie\"}], \"scatter\": [{\"marker\": {\"colorbar\": {\"outlinewidth\": 0, \"ticks\": \"\"}}, \"type\": \"scatter\"}], \"scatter3d\": [{\"line\": {\"colorbar\": {\"outlinewidth\": 0, \"ticks\": \"\"}}, \"marker\": {\"colorbar\": {\"outlinewidth\": 0, \"ticks\": \"\"}}, \"type\": \"scatter3d\"}], \"scattercarpet\": [{\"marker\": {\"colorbar\": {\"outlinewidth\": 0, \"ticks\": \"\"}}, \"type\": \"scattercarpet\"}], \"scattergeo\": [{\"marker\": {\"colorbar\": {\"outlinewidth\": 0, \"ticks\": \"\"}}, \"type\": \"scattergeo\"}], \"scattergl\": [{\"marker\": {\"colorbar\": {\"outlinewidth\": 0, \"ticks\": \"\"}}, \"type\": \"scattergl\"}], \"scattermapbox\": [{\"marker\": {\"colorbar\": {\"outlinewidth\": 0, \"ticks\": \"\"}}, \"type\": \"scattermapbox\"}], \"scatterpolar\": [{\"marker\": {\"colorbar\": {\"outlinewidth\": 0, \"ticks\": \"\"}}, \"type\": \"scatterpolar\"}], \"scatterpolargl\": [{\"marker\": {\"colorbar\": {\"outlinewidth\": 0, \"ticks\": \"\"}}, \"type\": \"scatterpolargl\"}], \"scatterternary\": [{\"marker\": {\"colorbar\": {\"outlinewidth\": 0, \"ticks\": \"\"}}, \"type\": \"scatterternary\"}], \"surface\": [{\"colorbar\": {\"outlinewidth\": 0, \"ticks\": \"\"}, \"colorscale\": [[0.0, \"#0d0887\"], [0.1111111111111111, \"#46039f\"], [0.2222222222222222, \"#7201a8\"], [0.3333333333333333, \"#9c179e\"], [0.4444444444444444, \"#bd3786\"], [0.5555555555555556, \"#d8576b\"], [0.6666666666666666, \"#ed7953\"], [0.7777777777777778, \"#fb9f3a\"], [0.8888888888888888, \"#fdca26\"], [1.0, \"#f0f921\"]], \"type\": \"surface\"}], \"table\": [{\"cells\": {\"fill\": {\"color\": \"#EBF0F8\"}, \"line\": {\"color\": \"white\"}}, \"header\": {\"fill\": {\"color\": \"#C8D4E3\"}, \"line\": {\"color\": \"white\"}}, \"type\": \"table\"}]}, \"layout\": {\"annotationdefaults\": {\"arrowcolor\": \"#2a3f5f\", \"arrowhead\": 0, \"arrowwidth\": 1}, \"autotypenumbers\": \"strict\", \"coloraxis\": {\"colorbar\": {\"outlinewidth\": 0, \"ticks\": \"\"}}, \"colorscale\": {\"diverging\": [[0, \"#8e0152\"], [0.1, \"#c51b7d\"], [0.2, \"#de77ae\"], [0.3, \"#f1b6da\"], [0.4, \"#fde0ef\"], [0.5, \"#f7f7f7\"], [0.6, \"#e6f5d0\"], [0.7, \"#b8e186\"], [0.8, \"#7fbc41\"], [0.9, \"#4d9221\"], [1, \"#276419\"]], \"sequential\": [[0.0, \"#0d0887\"], [0.1111111111111111, \"#46039f\"], [0.2222222222222222, \"#7201a8\"], [0.3333333333333333, \"#9c179e\"], [0.4444444444444444, \"#bd3786\"], [0.5555555555555556, \"#d8576b\"], [0.6666666666666666, \"#ed7953\"], [0.7777777777777778, \"#fb9f3a\"], [0.8888888888888888, \"#fdca26\"], [1.0, \"#f0f921\"]], \"sequentialminus\": [[0.0, \"#0d0887\"], [0.1111111111111111, \"#46039f\"], [0.2222222222222222, \"#7201a8\"], [0.3333333333333333, \"#9c179e\"], [0.4444444444444444, \"#bd3786\"], [0.5555555555555556, \"#d8576b\"], [0.6666666666666666, \"#ed7953\"], [0.7777777777777778, \"#fb9f3a\"], [0.8888888888888888, \"#fdca26\"], [1.0, \"#f0f921\"]]}, \"colorway\": [\"#636efa\", \"#EF553B\", \"#00cc96\", \"#ab63fa\", \"#FFA15A\", \"#19d3f3\", \"#FF6692\", \"#B6E880\", \"#FF97FF\", \"#FECB52\"], \"font\": {\"color\": \"#2a3f5f\"}, \"geo\": {\"bgcolor\": \"white\", \"lakecolor\": \"white\", \"landcolor\": \"#E5ECF6\", \"showlakes\": true, \"showland\": true, \"subunitcolor\": \"white\"}, \"hoverlabel\": {\"align\": \"left\"}, \"hovermode\": \"closest\", \"mapbox\": {\"style\": \"light\"}, \"paper_bgcolor\": \"white\", \"plot_bgcolor\": \"#E5ECF6\", \"polar\": {\"angularaxis\": {\"gridcolor\": \"white\", \"linecolor\": \"white\", \"ticks\": \"\"}, \"bgcolor\": \"#E5ECF6\", \"radialaxis\": {\"gridcolor\": \"white\", \"linecolor\": \"white\", \"ticks\": \"\"}}, \"scene\": {\"xaxis\": {\"backgroundcolor\": \"#E5ECF6\", \"gridcolor\": \"white\", \"gridwidth\": 2, \"linecolor\": \"white\", \"showbackground\": true, \"ticks\": \"\", \"zerolinecolor\": \"white\"}, \"yaxis\": {\"backgroundcolor\": \"#E5ECF6\", \"gridcolor\": \"white\", \"gridwidth\": 2, \"linecolor\": \"white\", \"showbackground\": true, \"ticks\": \"\", \"zerolinecolor\": \"white\"}, \"zaxis\": {\"backgroundcolor\": \"#E5ECF6\", \"gridcolor\": \"white\", \"gridwidth\": 2, \"linecolor\": \"white\", \"showbackground\": true, \"ticks\": \"\", \"zerolinecolor\": \"white\"}}, \"shapedefaults\": {\"line\": {\"color\": \"#2a3f5f\"}}, \"ternary\": {\"aaxis\": {\"gridcolor\": \"white\", \"linecolor\": \"white\", \"ticks\": \"\"}, \"baxis\": {\"gridcolor\": \"white\", \"linecolor\": \"white\", \"ticks\": \"\"}, \"bgcolor\": \"#E5ECF6\", \"caxis\": {\"gridcolor\": \"white\", \"linecolor\": \"white\", \"ticks\": \"\"}}, \"title\": {\"x\": 0.05}, \"xaxis\": {\"automargin\": true, \"gridcolor\": \"white\", \"linecolor\": \"white\", \"ticks\": \"\", \"title\": {\"standoff\": 15}, \"zerolinecolor\": \"white\", \"zerolinewidth\": 2}, \"yaxis\": {\"automargin\": true, \"gridcolor\": \"white\", \"linecolor\": \"white\", \"ticks\": \"\", \"title\": {\"standoff\": 15}, \"zerolinecolor\": \"white\", \"zerolinewidth\": 2}}}},                        {\"responsive\": true}                    ).then(function(){\n",
       "                            \n",
       "var gd = document.getElementById('661162a5-75e7-4c5f-b192-ab5b6d0d1459');\n",
       "var x = new MutationObserver(function (mutations, observer) {{\n",
       "        var display = window.getComputedStyle(gd).display;\n",
       "        if (!display || display === 'none') {{\n",
       "            console.log([gd, 'removed!']);\n",
       "            Plotly.purge(gd);\n",
       "            observer.disconnect();\n",
       "        }}\n",
       "}});\n",
       "\n",
       "// Listen for the removal of the full notebook cells\n",
       "var notebookContainer = gd.closest('#notebook-container');\n",
       "if (notebookContainer) {{\n",
       "    x.observe(notebookContainer, {childList: true});\n",
       "}}\n",
       "\n",
       "// Listen for the clearing of the current output cell\n",
       "var outputEl = gd.closest('.output');\n",
       "if (outputEl) {{\n",
       "    x.observe(outputEl, {childList: true});\n",
       "}}\n",
       "\n",
       "                        })                };                });            </script>        </div>"
      ]
     },
     "metadata": {},
     "output_type": "display_data"
    }
   ],
   "source": [
    "# !pip install plotly\n",
    "import plotly.graph_objects as go\n",
    "\n",
    "fig1 = go.Figure(data=[go.Scatter(\n",
    "    x=n,\n",
    "    y=tv,\n",
    "    mode='markers',\n",
    "    marker=dict(\n",
    "        color=colours,\n",
    "        size=size1,\n",
    "        showscale=True\n",
    "        )\n",
    ")])\n",
    "fig1.show()\n",
    "\n",
    "bar1=[n,tv]"
   ]
  },
  {
   "cell_type": "code",
   "execution_count": null,
   "metadata": {},
   "outputs": [],
   "source": [
    "# # !pip install plotly\n",
    "# import plotly.graph_objects as go\n",
    "\n",
    "# fig1 = go.Figure(data=[go.Scatter(\n",
    "#     x=set_x,\n",
    "#     y=cumulative_count,\n",
    "#     mode='markers',\n",
    "#     marker=dict(\n",
    "#         color=colours,\n",
    "#         size=size1,\n",
    "#         showscale=True\n",
    "#         )\n",
    "# )])\n",
    "# fig1.show()\n",
    "\n",
    "# bar1=[set_x,set_x_count]"
   ]
  },
  {
   "cell_type": "code",
   "execution_count": null,
   "metadata": {},
   "outputs": [],
   "source": []
  },
  {
   "cell_type": "code",
   "execution_count": 128,
   "metadata": {},
   "outputs": [],
   "source": [
    "#Export json\n",
    "import json\n",
    "trending_data=dict(zip(n,tv))\n",
    "json_trending_data = json.dumps(trending_data)\n"
   ]
  },
  {
   "cell_type": "code",
   "execution_count": null,
   "metadata": {},
   "outputs": [],
   "source": []
  },
  {
   "cell_type": "code",
   "execution_count": null,
   "metadata": {},
   "outputs": [],
   "source": []
  },
  {
   "cell_type": "code",
   "execution_count": null,
   "metadata": {},
   "outputs": [],
   "source": []
  },
  {
   "cell_type": "code",
   "execution_count": null,
   "metadata": {},
   "outputs": [],
   "source": []
  },
  {
   "cell_type": "code",
   "execution_count": null,
   "metadata": {},
   "outputs": [],
   "source": []
  },
  {
   "cell_type": "code",
   "execution_count": null,
   "metadata": {},
   "outputs": [],
   "source": []
  },
  {
   "cell_type": "code",
   "execution_count": null,
   "metadata": {},
   "outputs": [],
   "source": []
  },
  {
   "cell_type": "code",
   "execution_count": null,
   "metadata": {},
   "outputs": [],
   "source": []
  },
  {
   "cell_type": "code",
   "execution_count": null,
   "metadata": {},
   "outputs": [],
   "source": []
  },
  {
   "cell_type": "code",
   "execution_count": null,
   "metadata": {},
   "outputs": [],
   "source": []
  },
  {
   "cell_type": "code",
   "execution_count": null,
   "metadata": {},
   "outputs": [],
   "source": []
  },
  {
   "cell_type": "code",
   "execution_count": null,
   "metadata": {},
   "outputs": [],
   "source": []
  },
  {
   "cell_type": "code",
   "execution_count": null,
   "metadata": {},
   "outputs": [],
   "source": []
  },
  {
   "cell_type": "code",
   "execution_count": null,
   "metadata": {},
   "outputs": [],
   "source": []
  },
  {
   "cell_type": "code",
   "execution_count": null,
   "metadata": {},
   "outputs": [],
   "source": []
  }
 ],
 "metadata": {
  "kernelspec": {
   "display_name": "Python 3",
   "language": "python",
   "name": "python3"
  },
  "language_info": {
   "codemirror_mode": {
    "name": "ipython",
    "version": 3
   },
   "file_extension": ".py",
   "mimetype": "text/x-python",
   "name": "python",
   "nbconvert_exporter": "python",
   "pygments_lexer": "ipython3",
   "version": "3.8.5"
  }
 },
 "nbformat": 4,
 "nbformat_minor": 4
}
