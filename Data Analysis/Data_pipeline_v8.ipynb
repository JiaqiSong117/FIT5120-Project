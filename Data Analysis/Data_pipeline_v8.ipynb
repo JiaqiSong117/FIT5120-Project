{
 "cells": [
  {
   "cell_type": "code",
   "execution_count": 4,
   "metadata": {},
   "outputs": [],
   "source": [
    "# !pip install geocoder\n",
    "import tweepy\n",
    "\n",
    "from tweepy.streaming import StreamListener\n",
    "from tweepy import OAuthHandler \n",
    "from tweepy import Stream\n",
    "import pickle\n",
    "from sklearn.feature_extraction.text import CountVectorizer\n",
    "from sklearn.feature_extraction.text import TfidfTransformer\n",
    "\n",
    "import matplotlib.pyplot as plt\n",
    "import pandas as pd"
   ]
  },
  {
   "cell_type": "code",
   "execution_count": 5,
   "metadata": {},
   "outputs": [],
   "source": [
    "# Secret Credentials \n",
    "ACCESS_TOKEN = \"500435442-ZsyX0WGAgAsiK3mPMwCLVZgXaM4mPeLpOZHh46Uc\"\n",
    "ACCESS_TOKEN_SECRET = \"tI6pbzVsXWzNmfUEC07by6ZpJc5d58vu0sKxovxuDQEoY\"\n",
    "CONSUMER_KEY = \"zazEfoGYmcJp8IZCQZYeleORe\"\n",
    "CONSUMER_SECRET = \"JtTfz6C4WaCNZkzmn02U4GkOoilCyiIVKFFknuLgWD51MeVySm\""
   ]
  },
  {
   "cell_type": "code",
   "execution_count": 6,
   "metadata": {},
   "outputs": [],
   "source": [
    "auth=OAuthHandler(CONSUMER_KEY,CONSUMER_SECRET)\n",
    "auth.set_access_token(ACCESS_TOKEN,ACCESS_TOKEN_SECRET)\n",
    "api=tweepy.API(auth)"
   ]
  },
  {
   "cell_type": "code",
   "execution_count": 4,
   "metadata": {},
   "outputs": [],
   "source": [
    "tweets=[]\n",
    "retweet=[]\n",
    "likes=[]"
   ]
  },
  {
   "cell_type": "code",
   "execution_count": 5,
   "metadata": {},
   "outputs": [],
   "source": [
    "#input from website \n",
    "user_input='CA'\n",
    "userx=['SkyNews','ABC','9NewsMelb','dailytelegraph']"
   ]
  },
  {
   "cell_type": "code",
   "execution_count": 44,
   "metadata": {},
   "outputs": [],
   "source": [
    "# a=tweepy.Cursor(api.user_timeline,id=userx).items(200)\n",
    "# a=list(a)\n",
    "data=[]\n",
    "for i in range(len(userx)):\n",
    "    searched_tweets = [status for status in tweepy.Cursor(api.user_timeline,id=userx[i]).items(200)]\n",
    "    tweets=[]\n",
    "    for i in searched_tweets:\n",
    "        tweets.append(i.text)\n",
    "    data.append(tweets)\n",
    "    "
   ]
  },
  {
   "cell_type": "code",
   "execution_count": 1,
   "metadata": {},
   "outputs": [],
   "source": [
    "\n",
    "# a=tweepy.Cursor(api.user_timeline,id=userx).items(200)\n",
    "# a=list(a)\n",
    "# a"
   ]
  },
  {
   "cell_type": "code",
   "execution_count": 2,
   "metadata": {},
   "outputs": [],
   "source": [
    "# data"
   ]
  },
  {
   "cell_type": "code",
   "execution_count": 7,
   "metadata": {},
   "outputs": [],
   "source": [
    "# Twitter_df2=pd.DataFrame({'tweets':tweets,'likes':likes,'retweet':retweet})\n",
    "# Twitter_df2"
   ]
  },
  {
   "cell_type": "code",
   "execution_count": 8,
   "metadata": {},
   "outputs": [],
   "source": [
    "\n",
    "\n",
    "\n",
    "#LOAD MODEL\n",
    "loaded_vec = CountVectorizer(vocabulary=pickle.load(open(\"count_vector.pkl\", \"rb\")))\n",
    "loaded_tfidf = pickle.load(open(\"tfidf.pkl\",\"rb\"))\n",
    "loaded_model = pickle.load(open(\"NEW_softmax.pkl\",\"rb\"))\n",
    "\n",
    "\n"
   ]
  },
  {
   "cell_type": "code",
   "execution_count": 9,
   "metadata": {},
   "outputs": [],
   "source": [
    "news_category=[]"
   ]
  },
  {
   "cell_type": "code",
   "execution_count": 10,
   "metadata": {},
   "outputs": [],
   "source": [
    "for i in range(len(data)):\n",
    "    for j in range(len(data[i])):\n",
    "        X_new_counts = loaded_vec.transform([data[i][j]])\n",
    "        X_new_tfidf = loaded_tfidf.transform(X_new_counts)\n",
    "        predicted = loaded_model.predict(X_new_tfidf)\n",
    "        news_category.append(predicted)\n",
    "\n",
    "\n",
    "\n"
   ]
  },
  {
   "cell_type": "code",
   "execution_count": 11,
   "metadata": {},
   "outputs": [],
   "source": [
    "from itertools import islice\n",
    "\n",
    "def chunk(it, size):\n",
    "    it = iter(it)\n",
    "    return iter(lambda: tuple(islice(it, size)), ())\n",
    "\n"
   ]
  },
  {
   "cell_type": "code",
   "execution_count": 12,
   "metadata": {},
   "outputs": [],
   "source": [
    "x=[]\n",
    "for i in range(len(news_category)):\n",
    "    x.append(news_category[i][0])\n",
    "    \n",
    "cumulative_count=[]\n",
    "set_x=list(set(x))\n",
    "\n",
    "for j in range(len(set_x)):\n",
    "    cumulative_count.append(x.count(set_x[j]))\n",
    "\n",
    "\n",
    "# c1=x[0:200]\n",
    "# c2=x[200:400]\n",
    "# c3=x[400:600]"
   ]
  },
  {
   "cell_type": "code",
   "execution_count": 13,
   "metadata": {},
   "outputs": [],
   "source": [
    "import numpy as np \n",
    "N_c=list(chunk(x, 200))\n"
   ]
  },
  {
   "cell_type": "code",
   "execution_count": 14,
   "metadata": {},
   "outputs": [],
   "source": [
    "# set_x=list(set(x))\n",
    "# set_x_count1=[]\n",
    "# set_x_count2=[]\n",
    "# set_x_count3=[]"
   ]
  },
  {
   "cell_type": "code",
   "execution_count": 15,
   "metadata": {},
   "outputs": [],
   "source": [
    "count_y=[]\n",
    "\n",
    "for i in range(len(N_c)):\n",
    "    count=[]\n",
    "    for j in range(len(set_x)):\n",
    "        count.append(N_c[i].count(set_x[j]))\n",
    "    count_y.append(count)"
   ]
  },
  {
   "cell_type": "code",
   "execution_count": null,
   "metadata": {},
   "outputs": [],
   "source": []
  },
  {
   "cell_type": "code",
   "execution_count": 16,
   "metadata": {},
   "outputs": [],
   "source": [
    "# list1=[]\n",
    "# for i in range(len(count_y)):\n",
    "#     list1.append([userx[i],count_y[i]])\n",
    "# df=pd.DataFrame(list1,columns=['Name','Values'])"
   ]
  },
  {
   "cell_type": "code",
   "execution_count": null,
   "metadata": {},
   "outputs": [],
   "source": []
  },
  {
   "cell_type": "code",
   "execution_count": 17,
   "metadata": {},
   "outputs": [],
   "source": [
    "# Tweet_Uni=dict(zip(set_x,set_x_count))\n",
    "# count1=list(Tweet_Uni.values())\n",
    "# size1=[]\n",
    "# for i in count1:\n",
    "#     size1.append(i)\n",
    "\n",
    "# colours=[]\n",
    "# c=120\n",
    "# for i in range(len(count1)):\n",
    "#     c=c+2\n",
    "#     colours.append(c)\n",
    "\n"
   ]
  },
  {
   "cell_type": "code",
   "execution_count": 18,
   "metadata": {},
   "outputs": [
    {
     "data": {
      "image/png": "[encoded data removed]",
      "text/plain": [
       "<Figure size 432x288 with 1 Axes>"
      ]
     },
     "metadata": {
      "needs_background": "light"
     },
     "output_type": "display_data"
    }
   ],
   "source": [
    "w=0.4\n",
    "\n",
    "for i in range(len(count_y)):\n",
    "    plt.bar(set_x, count_y[i],w,bottom = np.sum(count_y[:i], axis = 0))\n",
    "    plt.xlabel('News Category')\n",
    "    plt.ylabel('Tweets')\n",
    "    plt.title('News Source vs Tweets Category')\n",
    "    plt.xticks(rotation=90)\n",
    "plt.show()"
   ]
  },
  {
   "cell_type": "code",
   "execution_count": 19,
   "metadata": {},
   "outputs": [],
   "source": [
    "# import matplotlib.pyplot as plt\n",
    "\n",
    "\n",
    "# plt.bar(set_x,count_y[0],w)\n",
    "# plt.bar(set_x,count_y[1],w,bottom=count_y[0])\n",
    "# plt.bar(set_x,count_y[2],w,bottom=count_y[0])\n",
    "\n",
    "# plt.xlabel('News Category')\n",
    "# plt.ylabel('Tweets')\n",
    "# plt.title('News Source vs Tweets Category')\n",
    "# plt.xticks(rotation=90)\n",
    "# plt.legend()\n",
    "# plt.show()"
   ]
  },
  {
   "cell_type": "code",
   "execution_count": 20,
   "metadata": {},
   "outputs": [
    {
     "name": "stderr",
     "output_type": "stream",
     "text": [
      "No handles with labels found to put in legend.\n"
     ]
    },
    {
     "data": {
      "image/png": "[encoded data removed]",
      "text/plain": [
       "<Figure size 432x288 with 1 Axes>"
      ]
     },
     "metadata": {
      "needs_background": "light"
     },
     "output_type": "display_data"
    }
   ],
   "source": [
    "plt.bar(set_x,cumulative_count,w)\n",
    "plt.xlabel('News Category')\n",
    "plt.ylabel('Tweets')\n",
    "plt.title('News Source vs Tweets Category')\n",
    "plt.xticks(rotation=90)\n",
    "plt.legend()\n",
    "plt.show()"
   ]
  },
  {
   "cell_type": "code",
   "execution_count": 21,
   "metadata": {
    "scrolled": false
   },
   "outputs": [],
   "source": [
    "# # !pip install plotly\n",
    "# import plotly.graph_objects as go\n",
    "\n",
    "# fig1 = go.Figure(data=[go.Scatter(\n",
    "#     x=set_x,\n",
    "#     y=cumulative_count,\n",
    "#     mode='markers',\n",
    "#     marker=dict(\n",
    "#         color=colours,\n",
    "#         size=size1,\n",
    "#         showscale=True\n",
    "#         )\n",
    "# )])\n",
    "# fig1.show()\n",
    "\n",
    "# bar1=[set_x,set_x_count]"
   ]
  },
  {
   "cell_type": "code",
   "execution_count": 22,
   "metadata": {},
   "outputs": [],
   "source": [
    "# # !pip install plotly\n",
    "# import plotly.graph_objects as go\n",
    "\n",
    "# fig2 = go.Figure(data=[go.Scatter(\n",
    "#     x=set_x,\n",
    "#     y=set_x_count,\n",
    "#     mode='markers',\n",
    "#     marker=dict(\n",
    "#         color=colours,\n",
    "#         size=size1,\n",
    "#         showscale=True\n",
    "#         )\n",
    "# )])\n",
    "# fig2.show()\n",
    "\n",
    "# bar2=[set_x,set_x_count]"
   ]
  },
  {
   "cell_type": "code",
   "execution_count": 23,
   "metadata": {},
   "outputs": [],
   "source": [
    "# # !pip install seaborn\n",
    "# import seaborn as sns\n",
    "# import matplotlib.pyplot as plt\n",
    "# import matplotlib.pyplot as figure\n",
    "# df1=pd.DataFrame({'x':bar1[0],'y':bar1[1]})\n",
    "# df2=pd.DataFrame({'x':bar2[0],'y':bar2[1]})\n",
    "\n",
    "# df1['hue']='Skynews'\n",
    "# df2['hue']='ABC'\n",
    "\n",
    "# combined=pd.concat([df1,df2])\n",
    "\n",
    "# a4_dims = (11.7, 8.27)\n",
    "# fig, ax = plt.subplots(figsize=a4_dims)\n",
    "# g=sns.barplot(ax=ax,x='x',y='y',data=combined,hue='hue')\n",
    "# plt.setp(g.get_xticklabels(), rotation=90)\n",
    "# plt.show()\n"
   ]
  },
  {
   "cell_type": "code",
   "execution_count": 24,
   "metadata": {},
   "outputs": [],
   "source": [
    "# figx.show()"
   ]
  },
  {
   "cell_type": "code",
   "execution_count": null,
   "metadata": {},
   "outputs": [],
   "source": []
  },
  {
   "cell_type": "code",
   "execution_count": 25,
   "metadata": {},
   "outputs": [],
   "source": [
    "# !pip install -U kaleido\n",
    "# !conda install psutil"
   ]
  },
  {
   "cell_type": "code",
   "execution_count": 26,
   "metadata": {},
   "outputs": [],
   "source": [
    "# fig.write_image(\"yourfile.png\") "
   ]
  },
  {
   "cell_type": "code",
   "execution_count": 27,
   "metadata": {},
   "outputs": [],
   "source": [
    "import json\n",
    "data = {}\n",
    "df=pd.DataFrame()\n",
    "df['category']=set_x\n",
    "\n",
    "if user_input=='CA':\n",
    "    data=dict(zip(set_x,cumulative_count))\n",
    "    json_data = json.dumps(data)\n",
    "else:\n",
    "    for i in range(len(count_y)):\n",
    "        df['value_'+format(i)]=count_y[i]\n",
    "    json_data=df.to_json(orient='records', lines=True)\n",
    "\n",
    "\n"
   ]
  },
  {
   "cell_type": "code",
   "execution_count": 28,
   "metadata": {},
   "outputs": [],
   "source": [
    "# for i in range(len(count_y)):\n",
    "#     data=dict(zip(set_x,count_y[i]))\n"
   ]
  },
  {
   "cell_type": "code",
   "execution_count": 29,
   "metadata": {},
   "outputs": [],
   "source": [
    "# df=pd.DataFrame()\n",
    "# df['category']=set_x\n",
    "# df['cat_'+format(i)]=count_y[0]\n",
    "# df"
   ]
  },
  {
   "cell_type": "code",
   "execution_count": 30,
   "metadata": {},
   "outputs": [],
   "source": [
    "# # import matplotlib.pyplot as plt\n",
    "# # plt.scatter(set_x, set_x_count, s=size1,c=colours\n",
    "\n",
    "# i=1\n",
    "# s='cat_'+format({i})\n",
    "# s"
   ]
  },
  {
   "cell_type": "code",
   "execution_count": 31,
   "metadata": {},
   "outputs": [],
   "source": [
    "# plt.to_json('json_file.json')"
   ]
  },
  {
   "cell_type": "code",
   "execution_count": 32,
   "metadata": {
    "scrolled": true
   },
   "outputs": [],
   "source": [
    "# plt.scatter(\n",
    "#     x = set_x, \n",
    "#     y = set_x_count, \n",
    "#     s=size1, \n",
    "#     c=colours, \n",
    "#     cmap=\"Accent\", \n",
    "#     alpha=0.6, \n",
    "#     edgecolors=\"white\", \n",
    "#     linewidth=2);\n",
    " \n",
    "# plt.xlabel(\"News Category\")\n",
    "# plt.ylabel(\"Frequency\")\n",
    "# plt.title(\"TWITTER ANALYSIS\")\n",
    "# plt.ylim(0,200)\n",
    "\n"
   ]
  },
  {
   "cell_type": "code",
   "execution_count": 33,
   "metadata": {},
   "outputs": [],
   "source": [
    "# plt.savefig(fname='fig2.png')\n"
   ]
  },
  {
   "cell_type": "markdown",
   "metadata": {},
   "source": [
    "### NEW EXPLORATION -- whats trending"
   ]
  },
  {
   "cell_type": "code",
   "execution_count": 119,
   "metadata": {},
   "outputs": [],
   "source": [
    "import sys\n",
    "import geocoder\n",
    "# Available Locations\n",
    "places = api.geo_search(query=\"AUSTRALIA\", granularity=\"country\")\n",
    "place_id = places[0].id\n",
    "\n",
    "available_loc = api.trends_available()\n",
    "    # Trends for Specific Country\n",
    "loc = sys.argv[1]     # location as argument variable \n",
    "g.lat=-37.8136\n",
    "g.lng=144.9631\n",
    "closest_loc = api.trends_closest(g.lat, g.lng)\n",
    "trends = api.trends_place(closest_loc[0]['woeid'])\n"
   ]
  },
  {
   "cell_type": "code",
   "execution_count": null,
   "metadata": {},
   "outputs": [],
   "source": []
  },
  {
   "cell_type": "code",
   "execution_count": 120,
   "metadata": {},
   "outputs": [
    {
     "name": "stdout",
     "output_type": "stream",
     "text": [
      "####################################\n",
      "##NFLDraft2021\n",
      "\n",
      "One of the biggest days of my life. Had to start with a fresh cut to get my mind and look right. RT if you want you… https://t.co/ckctn004Tv\n",
      "\n",
      "By--  DeVonta Smith\n",
      "\n",
      "Had to make time to hang with a true 🏈 🐐 @DesmondHoward #NFLDraft2021 @Verizon https://t.co/LrkCTEJLb5\n",
      "\n",
      "By--  DeVonta Smith\n",
      "\n",
      "YOO #NFLDraft2021 is finally here! Who do you think @hbomax's top pick will be? #FinishInfinityTrain https://t.co/48Qt8367Kg\n",
      "\n",
      "By--  Sam Spina\n",
      "\n",
      "FINALLY. Let’s build some football TEAMS tonight !!!#NFLDraft2021\n",
      "\n",
      "By--  Louis Riddick\n",
      "\n",
      "FYI #NFLDraft2021 https://t.co/8WTvgLjZe5\n",
      "\n",
      "By--  McNeil\n",
      "\n",
      "IT’S FINALLY HERE #NFLDraft2021 https://t.co/THI0V6oh6C\n",
      "\n",
      "By--  Cincinnati Bengals\n",
      "\n",
      "A day this big has to start in the gym 👀 @verizon #NFLDraft2021 #VerizonPartner https://t.co/vxjLWPkZZu\n",
      "\n",
      "By--  Zachary Wilson\n",
      "\n",
      "With the No. 3 overall pick in the 2021 NFL Draft, the 49ers select QB Trey Lance, North Dakota State\n",
      "\n",
      "#NFLDraft2021 https://t.co/6BzaClimAm\n",
      "\n",
      "By--  PFF\n",
      "\n",
      "In 1968, when I was selected in the 1st round, the draft was national news but it was pretty much confined to the s… https://t.co/Vx4pZJRNfH\n",
      "\n",
      "By--  Larry Csonka\n",
      "\n",
      "The prevailing thought as of last night was Giants end up with an Alabama WR at pick 11. Keep an eye on whether DeV… https://t.co/XAHE8g3ZuJ\n",
      "\n",
      "By--  Jordan Raanan\n",
      "\n",
      "The day @AdamSchefter was about to break the biggest story of the #NFLDraft2021 (and offseason)...and the world was… https://t.co/LFpQR0dyts\n",
      "\n",
      "By--  Dianna Russini\n",
      "\n",
      "Congrats @kylepitts__. Excited to be a part of your special night and watch your dreams come true. Have enjoyed wat… https://t.co/d91dURp5N1\n",
      "\n",
      "By--  Dan Mullen\n",
      "\n",
      "My guy @AdamSchefter just teased a major story he will report after this next NFL Live break. I have access to his… https://t.co/B6vT15bGA2\n",
      "\n",
      "By--  Chris Mortensen\n",
      "\n",
      "Before all of the excitement, I had to call my mentor Vincent. Been there since day one, helped me become the man I… https://t.co/ZLaWnwzAyU\n",
      "\n",
      "By--  DeVonta Smith\n",
      "\n",
      "With the No. 1 overall pick in the 2021 NFL Draft, the Jaguars select QB Trevor Lawrence, Clemson\n",
      "\n",
      "#NFLDraft2021 https://t.co/JGjnjsbJJu\n",
      "\n",
      "By--  PFF\n",
      "----------------------------------------------------\n",
      "####################################\n",
      "#Twisted Sister\n",
      "\n",
      "#breaking Clive Palmer ordered to pay $1.5 million damages for breach of copyright of Twisted Sister's We're Not Go… https://t.co/KZzPTEKyS9\n",
      "\n",
      "By--  Paul Karp\n",
      "\n",
      "#BREAKING Clive Palmer has lost a copyright case over his political rendition of Twisted Sister's metal track We're… https://t.co/7elIlnj9lf\n",
      "\n",
      "By--  Jamie McKinnell\n",
      "\n",
      "Clive Palmer to pay $1.5 million, plus interest and legal costs, after losing Twisted Sister copyright fight https://t.co/dkiUfnMWMi\n",
      "\n",
      "By--  Michaela Whitbourn\n",
      "\n",
      "Clive Palmer to pay $1.5 million after losing Twisted Sister copyright fight | @MWhitbourn \n",
      "\n",
      "https://t.co/UdDvLK3Net\n",
      "\n",
      "By--  The Sydney Morning Herald\n",
      "\n",
      "Clive #Palmer has been ordered to pay $1.5M in damages for his version of the Twisted Sister song We’re Not Gonna T… https://t.co/C31gt5580V\n",
      "\n",
      "By--  Kelly Fedor\n",
      "\n",
      "Breaking: Clive Palmer has been ordered to pay $1.5 million after losing a copyright fight over his use of Twisted… https://t.co/zYbqyZ5rdC\n",
      "\n",
      "By--  The Age\n",
      "\n",
      "The judge “rejected his claims he had not used the song but had penned his own original lyrics and used the melody… https://t.co/q3Ukw3JAbH\n",
      "\n",
      "By--  Francis Leach\n",
      "\n",
      "#OnThisDay - April 27th 1984. Twisted Sister release iconic single, We're Not Gonna Take It... because, you know, Y… https://t.co/ZcZWvXi0Lm\n",
      "\n",
      "By--  Mitch Lafon\n",
      "\n",
      "On This Day - April 23rd 2003. Twisted Sister announce that they are reuniting and plan U.S., European &amp; USO (Kunsa… https://t.co/PU7IH4QoHJ\n",
      "\n",
      "By--  Mitch Lafon\n",
      "----------------------------------------------------\n",
      "####################################\n",
      "#Trey Lance\n",
      "\n",
      "With the No. 3 overall pick in the 2021 @NFLDraft, the @49ers select QB Trey Lance.\n",
      "\n",
      "📺: 2021 #NFLDraft on NFLN/ESPN… https://t.co/RyQTXKhUQQ\n",
      "\n",
      "By--  NFL\n",
      "\n",
      "New SF QB Trey Lance’s psychological tests for the 49ers were “off the charts”, per a source. The 49ers considered… https://t.co/Iv3yZQns2A\n",
      "\n",
      "By--  Adam Schefter\n",
      "\n",
      "An hour to the NFL Draft and I can say confidently very few people have any idea what the #49ers will do. The guess… https://t.co/2LKLeGeNch\n",
      "\n",
      "By--  Ian Rapoport\n",
      "\n",
      "Here we go: The #49ers select at No. 3 overall… North Dakota St QB Trey Lance. He really, really grew on them. But wow.\n",
      "\n",
      "By--  Ian Rapoport\n",
      "\n",
      "TREY LANCE TO THE BAY.\n",
      "\n",
      "@49ers | @NFLDraft https://t.co/xd0GLIZB4c\n",
      "\n",
      "By--  NFL\n",
      "\n",
      "Zac Wilson in college: #1\n",
      "Trey Lance in college: #5\n",
      "Mac Jones in college: #10\n",
      "Aaron Rodgers: #12\n",
      "Trevor Lawrence in… https://t.co/0VQLqF1JsN\n",
      "\n",
      "By--  Field Yates\n",
      "\n",
      "PFF Grade on throws past 1st read since 2019: (min. 60 attempts)\n",
      "\n",
      "1st - Justin Fields - 90.6\n",
      "2nd - Zach Wilson - 90… https://t.co/BFScncT4oA\n",
      "\n",
      "By--  PFF\n",
      "\n",
      "Three picks, three QBs 🏈\n",
      "\n",
      "The San Francisco 49ers select North Dakota State QB Trey Lance with the third overall pi… https://t.co/vpdkB3lp4v\n",
      "\n",
      "By--  SportsCenter\n",
      "\n",
      "North Dakota State ➡️ San Francisco\n",
      "\n",
      "Trey Lance is heading to the 49ers. #NFLDraft https://t.co/zPQyuXPwMx\n",
      "\n",
      "By--  ESPN\n",
      "\n",
      "BREAKING: I have multple sources close to the 49ers (4 random DMs form various burner accounts) saying the 49ers wi… https://t.co/GigOgDZa0I\n",
      "\n",
      "By--  PFTCommenter\n",
      "\n",
      "There's a lot of Trey Lance/Niners noise out there in NFL GM/coach circles this morning... for what it's worth. Eig… https://t.co/Q87DlmGYRb\n",
      "\n",
      "By--  Michael Silver\n",
      "\n",
      "\"As much as the 49ers love Mac Jones, and they do, I believe that the gap between Mac Jones and the other QBs like… https://t.co/UV265wd8zT\n",
      "\n",
      "By--  Get Up\n",
      "\n",
      "Career rushing yards on designed runs:\n",
      "\n",
      "Trey Lance 1,007\n",
      "Trevor Lawrence: 819\n",
      "Justin Fields: 732\n",
      "Zach Wilson: 519\n",
      "Mac Jones: 0\n",
      "\n",
      "By--  Steve Palazzolo\n",
      "\n",
      "The #49ers have selected Trey Lance, per source\n",
      "\n",
      "By--  Connor Hughes\n",
      "\n",
      "How Aaron Rodgers looking at Trey Lance @SportsOnPrime https://t.co/Ibtdo4qOai\n",
      "\n",
      "By--  Josiah Johnson\n",
      "----------------------------------------------------\n",
      "####################################\n",
      "#Trevor Lawrence\n",
      "\n",
      "At the Masters earlier this month, former No. 1 pick Peyton Manning told this year’s No. 1 pick, new Jaguars’ QB Tr… https://t.co/pa7bKB0yQV\n",
      "\n",
      "By--  Adam Schefter\n",
      "\n",
      "The pick is in and of course it’s new #Jaguars QB Trevor Lawrence from Clemson No. 1 overall. One of the biggest no-brainers ever.\n",
      "\n",
      "By--  Ian Rapoport\n",
      "\n",
      "Unless the #Jaguars go 17-0 this season, Trevor Lawrence is slated to lose his first regular season game of his lif… https://t.co/ateZ9DSZIF\n",
      "\n",
      "By--  James Palmer\n",
      "\n",
      "National Champion with Clemson.\n",
      "\n",
      "No. 1 overall pick by the Jaguars.\n",
      "\n",
      "Welcome to Jacksonville, Trevor Lawrence 🌴… https://t.co/rqcbNsFbVa\n",
      "\n",
      "By--  ESPN\n",
      "\n",
      "Jacksonville gets its franchise QB 🚨\n",
      "\n",
      "The Jaguars select Clemson’s Trevor Lawrence with the No. 1 pick in the… https://t.co/8HupPZaOH6\n",
      "\n",
      "By--  Bleacher Report\n",
      "\n",
      "With the No. 1 overall pick in the 2021 @NFLDraft, the @Jaguars select QB Trevor Lawrence.\n",
      "\n",
      "📺: 2021 #NFLDraft on NF… https://t.co/SgGBWtpbuD\n",
      "\n",
      "By--  NFL\n",
      "\n",
      "Trevor Lawrence. QB1. Jacksonville. #NFLDraft \n",
      "\n",
      "(by @Gatorade) https://t.co/UG9ToLt0yv\n",
      "\n",
      "By--  NFL\n",
      "\n",
      "Tebow running TE routes in front of Trevor Lawrence house right now https://t.co/ISFzb7rVoy\n",
      "\n",
      "By--  Josiah Johnson\n",
      "\n",
      "With the first overall pick in the 2021 #NFLDraft, the Jacksonville Jaguars select …\n",
      "\n",
      "TREVOR LAWRENCE! https://t.co/aVP2yUSmBy\n",
      "\n",
      "By--  SportsCenter\n",
      "\n",
      "Zac Wilson in college: #1\n",
      "Trey Lance in college: #5\n",
      "Mac Jones in college: #10\n",
      "Aaron Rodgers: #12\n",
      "Trevor Lawrence in… https://t.co/0VQLqF1JsN\n",
      "\n",
      "By--  Field Yates\n",
      "\n",
      "PFF Grade on throws past 1st read since 2019: (min. 60 attempts)\n",
      "\n",
      "1st - Justin Fields - 90.6\n",
      "2nd - Zach Wilson - 90… https://t.co/BFScncT4oA\n",
      "\n",
      "By--  PFF\n",
      "\n",
      "LET'S GOOOO @TIMTEBOW IN #DUVALLLL WITH URBAN MEYER CATCHING BALLS FROM TREVOR LAWRENCE\n",
      "\n",
      "ARE YOU KIDDING ME? THIS I… https://t.co/zViS8WYXdI\n",
      "\n",
      "By--  Pat McAfee\n",
      "\n",
      "Trevor Lawrence been the #1 pick for like 3 years now 😂💯\n",
      "\n",
      "By--  Trae Young\n",
      "\n",
      "One customer has placed a $29,900 bet on Trevor Lawrence to be the #1 pick in the #NFLDraft \n",
      "\n",
      "The bet would win $59… https://t.co/egj5s1fGbm\n",
      "\n",
      "By--  FanDuel Sportsbook\n",
      "\n",
      "#Jaguars select @ClemsonFB QB Trevor Lawrence with the first overall pick! #NFLDraft \n",
      "\n",
      "https://t.co/N5OOjHedyg https://t.co/dRrYS27R5w\n",
      "\n",
      "By--  NFL Draft\n",
      "----------------------------------------------------\n",
      "####################################\n",
      "#Jags\n"
     ]
    },
    {
     "name": "stdout",
     "output_type": "stream",
     "text": [
      "\n",
      "NFL news from @AdamSchefter today:\n",
      "\n",
      "🤯 Aaron Rodgers may want out of Green Bay\n",
      "🤯 Tim Tebow requested a tryout as a T… https://t.co/ZrYS28cX8w\n",
      "\n",
      "By--  SportsCenter\n",
      "\n",
      "‘twas the night before draft\n",
      "and all through the league\n",
      "all the mock drafts\n",
      "were causing fatigue\n",
      "\n",
      "time to add new g… https://t.co/iIoQpmJL92\n",
      "\n",
      "By--  Washington Football Team\n",
      "\n",
      "Thank you to everyone who supports the Jacksonville @Jaguars! Whether you’ve been a Jags fan through thick &amp; thin s… https://t.co/sUHCr9GlEe\n",
      "\n",
      "By--  Tony Khan\n",
      "\n",
      "The Jags are on the clock as Urban Meyer's staff explains to him why he can't take 8 of the top 10 players on his board.\n",
      "\n",
      "By--  Ari Wasserman\n",
      "\n",
      "Jags new look offense 👀 https://t.co/oQ8BQEuJyD\n",
      "\n",
      "By--  B/R Gridiron\n",
      "\n",
      "I need to have a live cam on Roberta or at least to have her anounce the Jags first overall pick https://t.co/m3pBaVM1bh\n",
      "\n",
      "By--  PFTCommenter\n",
      "\n",
      "49ers trying to trade Mac Jones for Aaron Rodgers and Jags trying to sign Tim Tebow to catch passes from Trevor Law… https://t.co/Vv1c7LJrRT\n",
      "\n",
      "By--  Will Brinson\n",
      "\n",
      "Trevor Lawrence is ready to take over in Jacksonville 😳\n",
      "\n",
      "Jags fans have been waiting for this moment. https://t.co/2C9knOsuhQ\n",
      "\n",
      "By--  B/R Gridiron\n",
      "\n",
      "Every minute the Jags take before they pick Lawrence is another loss for them this season.\n",
      "\n",
      "That's how it works.\n",
      "\n",
      "By--  Ross Tucker\n",
      "\n",
      "Talked a bit about new Jags OC Darrell Bevell, and how Russell Wilson’s early years might be instructive for Trevor… https://t.co/DNuJnr3mxy\n",
      "\n",
      "By--  Mina Kimes\n",
      "\n",
      "Trevor Lawrence is bringing his ridiculous resume to the Jags 🔥 https://t.co/RTQ345E377\n",
      "\n",
      "By--  The Checkdown\n",
      "\n",
      "HAPPY TREVOR-DAY JAGS!\n",
      "\n",
      "By--  Dan Hicken\n",
      "\n",
      "Governor Sanwo-Olu's '731 days in office and beyond.' Completed Projects across Lagos State under 'T' (Traffic Mana… https://t.co/ZBNm3JGW9F\n",
      "\n",
      "By--  The Lagos State Govt\n",
      "\n",
      "Jags are literally stealing minutes of our lives from us\n",
      "\n",
      "By--  Del Reid 🦬\n",
      "\n",
      "The Jags took approximately 8 minutes too long\n",
      "\n",
      "By--  BetMGM 🦁\n",
      "----------------------------------------------------\n",
      "####################################\n",
      "#brittany higgins\n",
      "\n",
      "Brittany Higgins to meet with Prime Minister this afternoon about treatment of women https://t.co/NLYC6Vg7qd\n",
      "\n",
      "By--  ABC News\n",
      "\n",
      "Brittany Higgins @BrittHiggins_ and her partner @SharazDavid are currently meeting with Opposition Leader Anthony A… https://t.co/rhP1cXi8zK\n",
      "\n",
      "By--  Tegan George\n",
      "\n",
      "Australia live news: Brittany Higgins and PM to meet; Brisbane and Melbourne on Covid alert https://t.co/rez9kcZEzD\n",
      "\n",
      "By--  The Guardian\n",
      "\n",
      "Former Liberal staffer Brittany Higgins arrives for talks with Labor's Anthony Albanese in Sydney. She'll sit down… https://t.co/zCCPmdu2Na\n",
      "\n",
      "By--  Olivia Leeming\n",
      "\n",
      "Turns out Clive Palmer is, in fact, going to take it https://t.co/jhb0NR6y0C https://t.co/cLOB641Aph\n",
      "\n",
      "By--  Dave Earley\n",
      "\n",
      "Brittany Higgins’ meetings with Morrison, Albanese finally locked in | @jamesmassola https://t.co/ksdBmns4W5\n",
      "\n",
      "By--  The Sydney Morning Herald\n",
      "\n",
      "Addressing a Sky forum, Liberal leader Peter Gutwein says Scott Morrison did not handle the Brittany Higgins allega… https://t.co/AKHPvoPm45\n",
      "\n",
      "By--  Emily Baker\n",
      "\n",
      "\"Brittany Higgins' story is my story, it's our story, our mothers' story, and our grandmothers' story.\" @MicheleONeilAU #NPC\n",
      "\n",
      "By--  Australian Unions\n",
      "\n",
      "Finally, this Friday @BrittHiggins_ sits down with the PM\n",
      "https://t.co/RZHXFKcI7k\n",
      "\n",
      "By--  Karen Barlow\n",
      "\n",
      "The @smh reporting @BrittHiggins_ to meet PM @ScottMorrisonMP on Friday. #auspol @jamesmassola \n",
      "\n",
      "https://t.co/a8QVwTKaHF\n",
      "\n",
      "By--  Michael Rowland\n",
      "----------------------------------------------------\n",
      "####################################\n",
      "#Clive Palmer\n",
      "\n",
      "#breaking Clive Palmer ordered to pay $1.5 million damages for breach of copyright of Twisted Sister's We're Not Go… https://t.co/KZzPTEKyS9\n",
      "\n",
      "By--  Paul Karp\n",
      "\n",
      "#BREAKING Clive Palmer has lost a copyright case over his political rendition of Twisted Sister's metal track We're… https://t.co/7elIlnj9lf\n",
      "\n",
      "By--  Jamie McKinnell\n",
      "\n",
      "Terrific news. Now, instead of buying elections, doomed coal projects or dinosaur theme parks, let's make Clive Pal… https://t.co/MqkUpAGqWn\n",
      "\n",
      "By--  Adam Bandt\n",
      "\n",
      "Clive Palmer to pay $1.5 million, plus interest and legal costs, after losing Twisted Sister copyright fight https://t.co/dkiUfnMWMi\n",
      "\n",
      "By--  Michaela Whitbourn\n",
      "\n",
      "Clive Palmer's plan to develop a coal mine 10 kilometres from the Great Barrier Reef marine park is too risky to pr… https://t.co/tCVoIosJ9G\n",
      "\n",
      "By--  SBS News\n",
      "\n",
      "Clive Palmer's proposed coal mine near Great Barrier Reef deemed 'not suitable' https://t.co/6heOxLjstE\n",
      "\n",
      "By--  ABC News\n",
      "\n",
      "From me - Clive Palmer coalmine next to Great Barrier Reef “not suitable” says Queensland government https://t.co/gp32wp3EFt\n",
      "\n",
      "By--  Graham Readfearn\n",
      "\n",
      "Clive Palmer coalmine next to Great Barrier Reef rejected by Queensland government https://t.co/8ahCC3Qo2n\n",
      "\n",
      "By--  Guardian Environment\n",
      "\n",
      "Clive Palmer to pay $1.5 million after losing Twisted Sister copyright fight | @MWhitbourn \n",
      "\n",
      "https://t.co/UdDvLK3Net\n",
      "\n",
      "By--  The Sydney Morning Herald\n",
      "\n",
      "Turns out Clive Palmer is, in fact, going to take it https://t.co/jhb0NR6y0C https://t.co/cLOB641Aph\n",
      "\n",
      "By--  Dave Earley\n",
      "\n",
      "Clive #Palmer has been ordered to pay $1.5M in damages for his version of the Twisted Sister song We’re Not Gonna T… https://t.co/C31gt5580V\n",
      "\n",
      "By--  Kelly Fedor\n",
      "\n",
      "Breaking: Clive Palmer has been ordered to pay $1.5 million after losing a copyright fight over his use of Twisted… https://t.co/zYbqyZ5rdC\n",
      "\n",
      "By--  The Age\n",
      "\n",
      "Clive Palmer’s really racking up the failures lately. Couldn’t happen to a more deserving fellow. Does the heart go… https://t.co/FSAVblpCvQ\n",
      "\n",
      "By--  Andrew P Street\n",
      "\n",
      "The judge “rejected his claims he had not used the song but had penned his own original lyrics and used the melody… https://t.co/q3Ukw3JAbH\n",
      "\n",
      "By--  Francis Leach\n",
      "----------------------------------------------------\n",
      "####################################\n",
      "#49ers\n",
      "\n",
      "What I’ve been told, by a reliable source —- @Patriots are working on a new contract for Jimmy G that could lead to… https://t.co/CXURnEinGr\n",
      "\n",
      "By--  Dale Arnold\n",
      "\n",
      "Multiple teams are expected to contact the 49ers today to inquire about the availability of QB Jimmy Garoppolo, per… https://t.co/jkVMcZJmt2\n",
      "\n",
      "By--  Adam Schefter\n",
      "\n",
      "From unimpeachable source: As of last night, Aaron Rodgers’ wish list was 49ers, Broncos, Raiders (not necessarily… https://t.co/bBT0lIIvKz\n",
      "\n",
      "By--  ProFootballTalk\n",
      "\n",
      "The #49ers reached out to the #Packers on Wednesday about trading for Aaron Rodgers, but no formal offer was made a… https://t.co/EfLxH9jVGk\n",
      "\n",
      "By--  Tom Pelissero\n",
      "\n",
      "The @49ers have offered the @Packers the 3rd overall pick in this year's draft, plus other picks and a number of pl… https://t.co/vx8LRwBUT0\n",
      "\n",
      "By--  Bill Michaels\n",
      "\n",
      "Aaron Rodgers’ final move:\n",
      "1. Force a draft day trade to the 49ers.\n",
      "2. Promptly retire\n",
      "\n",
      "“You should have never pass… https://t.co/2kXmBowm0K\n",
      "\n",
      "By--  Dieter Kurtenbach\n",
      "\n",
      "New SF QB Trey Lance’s psychological tests for the 49ers were “off the charts”, per a source. The 49ers considered… https://t.co/Iv3yZQns2A\n",
      "\n",
      "By--  Adam Schefter\n",
      "\n",
      "The 49ers have been “monitoring” Deshaun Watson and Aaron Rodgers, but there’s a “zero percent chance” the Packers… https://t.co/8v7Do7ksjc\n",
      "\n",
      "By--  Bleacher Report\n",
      "\n",
      "TREY TO THE BAY!\n",
      "\n",
      "@treylance09 | #49ersDraft https://t.co/Y6Uu37Vdt9\n",
      "\n",
      "By--  San Francisco 49ers\n",
      "\n",
      "Kyle Shanahan finally drafts his QB 😱\n",
      "\n",
      "The 49ers select NDSU QB Trey Lance with the No. 3 pick in the #NFLDraft… https://t.co/v52VYw8EPz\n",
      "\n",
      "By--  Bleacher Report\n",
      "\n",
      "With the No. 3 overall pick in the 2021 @NFLDraft, the @49ers select QB Trey Lance.\n",
      "\n",
      "📺: 2021 #NFLDraft on NFLN/ESPN… https://t.co/RyQTXKhUQQ\n",
      "\n",
      "By--  NFL\n",
      "\n",
      "An hour to the NFL Draft and I can say confidently very few people have any idea what the #49ers will do. The guess… https://t.co/2LKLeGeNch\n",
      "\n",
      "By--  Ian Rapoport\n",
      "\n",
      "Here we go: The #49ers select at No. 3 overall… North Dakota St QB Trey Lance. He really, really grew on them. But wow.\n",
      "\n",
      "By--  Ian Rapoport\n",
      "\n",
      "Aaron Rodgers’ trade destination wishlist, according to @ProFootballTalk: \n",
      "\n",
      "◻️ 49ers\n",
      "◻️ Broncos\n",
      "◻️ Raiders https://t.co/TG5kfXlk7H\n",
      "\n",
      "By--  The Athletic\n",
      "\n",
      "The Jaguars, Jets and 49ers should be fined a billion dollars for every minute they're on the clock tonight.\n",
      "\n",
      "By--  Jeff Howe\n",
      "----------------------------------------------------\n",
      "####################################\n",
      "#Rodgers\n",
      "\n",
      "Reigning MVP Aaron Rodgers is so disgruntled with the Green Bay Packers that he has told some within the organizati… https://t.co/mM9Ym7MVLn\n",
      "\n",
      "By--  Adam Schefter\n",
      "\n",
      "We all know where Aaron Rodgers is gonna end up.\n",
      "\n",
      "This is getting ridiculous. https://t.co/doC4KUClnd\n",
      "\n",
      "By--  StatMuse\n",
      "\n",
      "Breaking: Reigning MVP Aaron Rodgers is so disgruntled with the Packers that he has told some within the organizati… https://t.co/IHUPtjVb3M\n",
      "\n",
      "By--  SportsCenter\n",
      "\n",
      "Sources: The Packers reportedly told Aaron Rodgers they were going to trade him in the off season, then backed off.… https://t.co/IyGm9HgL5u\n",
      "\n",
      "By--  trey wingo\n",
      "\n",
      "NFL news from @AdamSchefter today:\n",
      "\n",
      "🤯 Aaron Rodgers may want out of Green Bay\n",
      "🤯 Tim Tebow requested a tryout as a T… https://t.co/ZrYS28cX8w\n",
      "\n",
      "By--  SportsCenter\n",
      "\n",
      "Packers fans seeing the Aaron Rodgers news 🤯 https://t.co/oC5iMVdHLV\n",
      "\n",
      "By--  Bleacher Report\n",
      "\n",
      "The @49ers have offered the @Packers the 3rd overall pick in this year's draft, plus other picks and a number of pl… https://t.co/vx8LRwBUT0\n",
      "\n",
      "By--  Bill Michaels\n",
      "\n",
      "From unimpeachable source: As of last night, Aaron Rodgers’ wish list was 49ers, Broncos, Raiders (not necessarily… https://t.co/bBT0lIIvKz\n",
      "\n",
      "By--  ProFootballTalk\n",
      "\n",
      "Aaron Rodgers is \"disgruntled\" with the Packers and has told some people in the organization that he doesn't want t… https://t.co/AHmfxwePNa\n",
      "\n",
      "By--  Bleacher Report\n",
      "\n",
      "The #49ers reached out to the #Packers on Wednesday about trading for Aaron Rodgers, but no formal offer was made a… https://t.co/EfLxH9jVGk\n",
      "\n",
      "By--  Tom Pelissero\n",
      "\n",
      "If the Packers won’t trade Rodgers, I just hope they finally get him some help beyond his All Pro LT, All Pro WR, t… https://t.co/G0l0uIM0Qp\n",
      "\n",
      "By--  Gregg Rosenthal\n",
      "\n",
      "Aaron Rodgers’ final move:\n",
      "1. Force a draft day trade to the 49ers.\n",
      "2. Promptly retire\n",
      "\n",
      "“You should have never pass… https://t.co/2kXmBowm0K\n",
      "\n",
      "By--  Dieter Kurtenbach\n",
      "\n",
      "I’ll never forget a Lambeau Field Draft party going on below us with 1,000 people. The thunderous boos from there w… https://t.co/i9hGT5pqwp\n",
      "\n",
      "By--  Andrew Brandt\n",
      "\n",
      "Here is my understanding of the Aaron Rodgers situation: Rodgers and the #Packers have been negotiating a long-term… https://t.co/4oNZJayWcg\n",
      "\n",
      "By--  Ian Rapoport\n",
      "\n",
      "Over the last month, Aaron Rodgers had his agent Dave Dunn fly out to Green Bay for several days of meetings to wor… https://t.co/gOCmsVC37H\n",
      "\n",
      "By--  Ian Rapoport\n",
      "----------------------------------------------------\n",
      "####################################\n",
      "#Zach Wilson\n"
     ]
    },
    {
     "name": "stdout",
     "output_type": "stream",
     "text": [
      "\n",
      "With the No. 2 overall pick in the 2021 @NFLDraft, the @nyjets select QB Zach Wilson.\n",
      "\n",
      "📺: 2021 #NFLDraft on NFLN/ES… https://t.co/eqzsCip6i3\n",
      "\n",
      "By--  NFL\n",
      "\n",
      "Jets take BYU QB Zach Wilson.\n",
      "\n",
      "And now, the 2021 NFL Draft is underway!\n",
      "\n",
      "By--  Adam Schefter\n",
      "\n",
      "Zach Wilson doesn't look a day older than 14. https://t.co/6QQziheGF4\n",
      "\n",
      "By--  Big Cat\n",
      "\n",
      "Zach Wilson looks like he's 14.\n",
      "\n",
      "By--  Skip Bayless\n",
      "\n",
      "Terrified Zach Wilson Cuts Off Pinky Finger To Get Out Of Draft That Would Ship Him Off To Jets… https://t.co/3YB8bS3gIg\n",
      "\n",
      "By--  The Onion\n",
      "\n",
      "Zach Wilson is headed to the Big Apple! 🗽\n",
      "\n",
      "The Jets get their QB at No. 2 #NFLDraft https://t.co/28kHqJJgPz\n",
      "\n",
      "By--  SportsCenter\n",
      "\n",
      "PFF Grade on throws past 1st read since 2019: (min. 60 attempts)\n",
      "\n",
      "1st - Justin Fields - 90.6\n",
      "2nd - Zach Wilson - 90… https://t.co/BFScncT4oA\n",
      "\n",
      "By--  PFF\n",
      "\n",
      "Zach Wilson is heading to New York! @nyjets \n",
      "\n",
      "📺: 2021 #NFLDraft on NFLN/ESPN/ABC https://t.co/lvIj8p9yqv\n",
      "\n",
      "By--  NFL\n",
      "\n",
      "I'm no draft expert but I feel like Zach Wilson's stock should be plummeting with all these stupid pics he's posted… https://t.co/VzJyzcKwxu\n",
      "\n",
      "By--  Pete Blackburn\n",
      "\n",
      "The #Jets pick is and it’s #BYU QB Zach Wilson. Now, the fun begins. The #49ers are on the clock.\n",
      "\n",
      "By--  Ian Rapoport\n",
      "\n",
      "Zach Wilson hits the #NFLDraft Red Carpet 🔥 @zachkapono1\n",
      "\n",
      "📺: 2021 #NFLDraft -- 8pm ET on NFLN/ESPN/ABC https://t.co/bK3BKyhd55\n",
      "\n",
      "By--  NFL\n",
      "\n",
      "I need the @nyjets to basically go overboard in surrounding Zach Wilson right out of the gate in this draft. Thanks… https://t.co/22xeorcqS3\n",
      "\n",
      "By--  Damien Woody\n",
      "\n",
      "Zach Wilson is going to the Big Apple 🍎\n",
      "\n",
      "The Jets pick BYU’s Zach Wilson with the No. 2 pick in the #NFLDraft… https://t.co/SGgPCqpekS\n",
      "\n",
      "By--  Bleacher Report\n",
      "\n",
      "Zach Wilson to the New York Jets at No. 2 📸 #NFLDraft \n",
      "\n",
      "Broadway Zach 🤩 https://t.co/2184JTp4G6\n",
      "\n",
      "By--  ESPN\n",
      "----------------------------------------------------\n"
     ]
    }
   ],
   "source": [
    "trends2=trends[0]['trends'][:10]\n",
    "d={}\n",
    "for i in range(len(trends2)):\n",
    "    print('####################################')\n",
    "    string=\"#\"+str(trends2[i]['name'])\n",
    "    print(string)\n",
    "    \n",
    "    popular_tweets=[]\n",
    "    popular_tweets = api.search(q=trends2[i]['name'], result_type='popular')\n",
    "    for j in range(len(popular_tweets)):\n",
    "        print(\"\\n\"+popular_tweets[j].text)\n",
    "        print(\"\\nBy--  \"+popular_tweets[j].user.name)\n",
    "#        l=[cat(\"\\n\"+popular_tweets[j].text,\"\\nBy--  \"+popular_tweets[j].user.name,'RetweetCount:'+popular_tweets[j].ret]\n",
    "\n",
    "    print('----------------------------------------------------')\n"
   ]
  },
  {
   "cell_type": "code",
   "execution_count": 121,
   "metadata": {},
   "outputs": [],
   "source": [
    "n=[]\n",
    "tv=[]\n",
    "for i in range(len(trends2)):\n",
    "    n.append(\"#\"+str(trends2[i]['name']))\n",
    "    if trends2[i]['tweet_volume']==None:\n",
    "        trends2[i]['tweet_volume']=0\n",
    "    tv.append(int(trends2[i]['tweet_volume']))\n",
    "trending_data=dict(zip(n,tv))"
   ]
  },
  {
   "cell_type": "code",
   "execution_count": 122,
   "metadata": {},
   "outputs": [
    {
     "name": "stderr",
     "output_type": "stream",
     "text": [
      "No handles with labels found to put in legend.\n"
     ]
    },
    {
     "data": {
      "image/png": "[encoded data removed]",
      "text/plain": [
       "<Figure size 432x288 with 1 Axes>"
      ]
     },
     "metadata": {
      "needs_background": "light"
     },
     "output_type": "display_data"
    }
   ],
   "source": [
    "plt.bar(n,tv)\n",
    "plt.xlabel('News Category')\n",
    "plt.ylabel('Tweets')\n",
    "plt.title('News Source vs Tweets Category')\n",
    "plt.xticks(rotation=90)\n",
    "plt.legend()\n",
    "plt.show()"
   ]
  },
  {
   "cell_type": "code",
   "execution_count": null,
   "metadata": {},
   "outputs": [],
   "source": []
  },
  {
   "cell_type": "code",
   "execution_count": null,
   "metadata": {},
   "outputs": [],
   "source": []
  },
  {
   "cell_type": "code",
   "execution_count": 123,
   "metadata": {},
   "outputs": [],
   "source": [
    "count1=tv\n",
    "size1=[]\n",
    "for i in count1:\n",
    "    size1.append(i/1000)\n",
    "\n",
    "colours=[]\n",
    "c=120\n",
    "for i in range(len(count1)):\n",
    "    c=c+2\n",
    "    colours.append(c)\n",
    "\n"
   ]
  },
  {
   "cell_type": "code",
   "execution_count": 124,
   "metadata": {},
   "outputs": [
    {
     "data": {
      "application/vnd.plotly.v1+json": {
       "config": {
        "plotlyServerURL": "https://plot.ly"
       },
       "data": [
        {
         "marker": {
          "color": [
           122,
           124,
           126,
           128,
           130,
           132,
           134,
           136,
           138,
           140
          ],
          "showscale": true,
          "size": [
           80.324,
           0,
           45.49,
           42.792,
           19.938,
           0,
           0,
           103.131,
           241.909,
           34.813
          ]
         },
         "mode": "markers",
         "type": "scatter",
         "x": [
          "##NFLDraft2021",
          "#Twisted Sister",
          "#Trey Lance",
          "#Trevor Lawrence",
          "#Jags",
          "#brittany higgins",
          "#Clive Palmer",
          "#49ers",
          "#Rodgers",
          "#Zach Wilson"
         ],
         "y": [
          80324,
          0,
          45490,
          42792,
          19938,
          0,
          0,
          103131,
          241909,
          34813
         ]
        }
       ],
       "layout": {
        "template": {
         "data": {
          "bar": [
           {
            "error_x": {
             "color": "#2a3f5f"
            },
            "error_y": {
             "color": "#2a3f5f"
            },
            "marker": {
             "line": {
              "color": "#E5ECF6",
              "width": 0.5
             }
            },
            "type": "bar"
           }
          ],
          "barpolar": [
           {
            "marker": {
             "line": {
              "color": "#E5ECF6",
              "width": 0.5
             }
            },
            "type": "barpolar"
           }
          ],
          "carpet": [
           {
            "aaxis": {
             "endlinecolor": "#2a3f5f",
             "gridcolor": "white",
             "linecolor": "white",
             "minorgridcolor": "white",
             "startlinecolor": "#2a3f5f"
            },
            "baxis": {
             "endlinecolor": "#2a3f5f",
             "gridcolor": "white",
             "linecolor": "white",
             "minorgridcolor": "white",
             "startlinecolor": "#2a3f5f"
            },
            "type": "carpet"
           }
          ],
          "choropleth": [
           {
            "colorbar": {
             "outlinewidth": 0,
             "ticks": ""
            },
            "type": "choropleth"
           }
          ],
          "contour": [
           {
            "colorbar": {
             "outlinewidth": 0,
             "ticks": ""
            },
            "colorscale": [
             [
              0,
              "#0d0887"
             ],
             [
              0.1111111111111111,
              "#46039f"
             ],
             [
              0.2222222222222222,
              "#7201a8"
             ],
             [
              0.3333333333333333,
              "#9c179e"
             ],
             [
              0.4444444444444444,
              "#bd3786"
             ],
             [
              0.5555555555555556,
              "#d8576b"
             ],
             [
              0.6666666666666666,
              "#ed7953"
             ],
             [
              0.7777777777777778,
              "#fb9f3a"
             ],
             [
              0.8888888888888888,
              "#fdca26"
             ],
             [
              1,
              "#f0f921"
             ]
            ],
            "type": "contour"
           }
          ],
          "contourcarpet": [
           {
            "colorbar": {
             "outlinewidth": 0,
             "ticks": ""
            },
            "type": "contourcarpet"
           }
          ],
          "heatmap": [
           {
            "colorbar": {
             "outlinewidth": 0,
             "ticks": ""
            },
            "colorscale": [
             [
              0,
              "#0d0887"
             ],
             [
              0.1111111111111111,
              "#46039f"
             ],
             [
              0.2222222222222222,
              "#7201a8"
             ],
             [
              0.3333333333333333,
              "#9c179e"
             ],
             [
              0.4444444444444444,
              "#bd3786"
             ],
             [
              0.5555555555555556,
              "#d8576b"
             ],
             [
              0.6666666666666666,
              "#ed7953"
             ],
             [
              0.7777777777777778,
              "#fb9f3a"
             ],
             [
              0.8888888888888888,
              "#fdca26"
             ],
             [
              1,
              "#f0f921"
             ]
            ],
            "type": "heatmap"
           }
          ],
          "heatmapgl": [
           {
            "colorbar": {
             "outlinewidth": 0,
             "ticks": ""
            },
            "colorscale": [
             [
              0,
              "#0d0887"
             ],
             [
              0.1111111111111111,
              "#46039f"
             ],
             [
              0.2222222222222222,
              "#7201a8"
             ],
             [
              0.3333333333333333,
              "#9c179e"
             ],
             [
              0.4444444444444444,
              "#bd3786"
             ],
             [
              0.5555555555555556,
              "#d8576b"
             ],
             [
              0.6666666666666666,
              "#ed7953"
             ],
             [
              0.7777777777777778,
              "#fb9f3a"
             ],
             [
              0.8888888888888888,
              "#fdca26"
             ],
             [
              1,
              "#f0f921"
             ]
            ],
            "type": "heatmapgl"
           }
          ],
          "histogram": [
           {
            "marker": {
             "colorbar": {
              "outlinewidth": 0,
              "ticks": ""
             }
            },
            "type": "histogram"
           }
          ],
          "histogram2d": [
           {
            "colorbar": {
             "outlinewidth": 0,
             "ticks": ""
            },
            "colorscale": [
             [
              0,
              "#0d0887"
             ],
             [
              0.1111111111111111,
              "#46039f"
             ],
             [
              0.2222222222222222,
              "#7201a8"
             ],
             [
              0.3333333333333333,
              "#9c179e"
             ],
             [
              0.4444444444444444,
              "#bd3786"
             ],
             [
              0.5555555555555556,
              "#d8576b"
             ],
             [
              0.6666666666666666,
              "#ed7953"
             ],
             [
              0.7777777777777778,
              "#fb9f3a"
             ],
             [
              0.8888888888888888,
              "#fdca26"
             ],
             [
              1,
              "#f0f921"
             ]
            ],
            "type": "histogram2d"
           }
          ],
          "histogram2dcontour": [
           {
            "colorbar": {
             "outlinewidth": 0,
             "ticks": ""
            },
            "colorscale": [
             [
              0,
              "#0d0887"
             ],
             [
              0.1111111111111111,
              "#46039f"
             ],
             [
              0.2222222222222222,
              "#7201a8"
             ],
             [
              0.3333333333333333,
              "#9c179e"
             ],
             [
              0.4444444444444444,
              "#bd3786"
             ],
             [
              0.5555555555555556,
              "#d8576b"
             ],
             [
              0.6666666666666666,
              "#ed7953"
             ],
             [
              0.7777777777777778,
              "#fb9f3a"
             ],
             [
              0.8888888888888888,
              "#fdca26"
             ],
             [
              1,
              "#f0f921"
             ]
            ],
            "type": "histogram2dcontour"
           }
          ],
          "mesh3d": [
           {
            "colorbar": {
             "outlinewidth": 0,
             "ticks": ""
            },
            "type": "mesh3d"
           }
          ],
          "parcoords": [
           {
            "line": {
             "colorbar": {
              "outlinewidth": 0,
              "ticks": ""
             }
            },
            "type": "parcoords"
           }
          ],
          "pie": [
           {
            "automargin": true,
            "type": "pie"
           }
          ],
          "scatter": [
           {
            "marker": {
             "colorbar": {
              "outlinewidth": 0,
              "ticks": ""
             }
            },
            "type": "scatter"
           }
          ],
          "scatter3d": [
           {
            "line": {
             "colorbar": {
              "outlinewidth": 0,
              "ticks": ""
             }
            },
            "marker": {
             "colorbar": {
              "outlinewidth": 0,
              "ticks": ""
             }
            },
            "type": "scatter3d"
           }
          ],
          "scattercarpet": [
           {
            "marker": {
             "colorbar": {
              "outlinewidth": 0,
              "ticks": ""
             }
            },
            "type": "scattercarpet"
           }
          ],
          "scattergeo": [
           {
            "marker": {
             "colorbar": {
              "outlinewidth": 0,
              "ticks": ""
             }
            },
            "type": "scattergeo"
           }
          ],
          "scattergl": [
           {
            "marker": {
             "colorbar": {
              "outlinewidth": 0,
              "ticks": ""
             }
            },
            "type": "scattergl"
           }
          ],
          "scattermapbox": [
           {
            "marker": {
             "colorbar": {
              "outlinewidth": 0,
              "ticks": ""
             }
            },
            "type": "scattermapbox"
           }
          ],
          "scatterpolar": [
           {
            "marker": {
             "colorbar": {
              "outlinewidth": 0,
              "ticks": ""
             }
            },
            "type": "scatterpolar"
           }
          ],
          "scatterpolargl": [
           {
            "marker": {
             "colorbar": {
              "outlinewidth": 0,
              "ticks": ""
             }
            },
            "type": "scatterpolargl"
           }
          ],
          "scatterternary": [
           {
            "marker": {
             "colorbar": {
              "outlinewidth": 0,
              "ticks": ""
             }
            },
            "type": "scatterternary"
           }
          ],
          "surface": [
           {
            "colorbar": {
             "outlinewidth": 0,
             "ticks": ""
            },
            "colorscale": [
             [
              0,
              "#0d0887"
             ],
             [
              0.1111111111111111,
              "#46039f"
             ],
             [
              0.2222222222222222,
              "#7201a8"
             ],
             [
              0.3333333333333333,
              "#9c179e"
             ],
             [
              0.4444444444444444,
              "#bd3786"
             ],
             [
              0.5555555555555556,
              "#d8576b"
             ],
             [
              0.6666666666666666,
              "#ed7953"
             ],
             [
              0.7777777777777778,
              "#fb9f3a"
             ],
             [
              0.8888888888888888,
              "#fdca26"
             ],
             [
              1,
              "#f0f921"
             ]
            ],
            "type": "surface"
           }
          ],
          "table": [
           {
            "cells": {
             "fill": {
              "color": "#EBF0F8"
             },
             "line": {
              "color": "white"
             }
            },
            "header": {
             "fill": {
              "color": "#C8D4E3"
             },
             "line": {
              "color": "white"
             }
            },
            "type": "table"
           }
          ]
         },
         "layout": {
          "annotationdefaults": {
           "arrowcolor": "#2a3f5f",
           "arrowhead": 0,
           "arrowwidth": 1
          },
          "autotypenumbers": "strict",
          "coloraxis": {
           "colorbar": {
            "outlinewidth": 0,
            "ticks": ""
           }
          },
          "colorscale": {
           "diverging": [
            [
             0,
             "#8e0152"
            ],
            [
             0.1,
             "#c51b7d"
            ],
            [
             0.2,
             "#de77ae"
            ],
            [
             0.3,
             "#f1b6da"
            ],
            [
             0.4,
             "#fde0ef"
            ],
            [
             0.5,
             "#f7f7f7"
            ],
            [
             0.6,
             "#e6f5d0"
            ],
            [
             0.7,
             "#b8e186"
            ],
            [
             0.8,
             "#7fbc41"
            ],
            [
             0.9,
             "#4d9221"
            ],
            [
             1,
             "#276419"
            ]
           ],
           "sequential": [
            [
             0,
             "#0d0887"
            ],
            [
             0.1111111111111111,
             "#46039f"
            ],
            [
             0.2222222222222222,
             "#7201a8"
            ],
            [
             0.3333333333333333,
             "#9c179e"
            ],
            [
             0.4444444444444444,
             "#bd3786"
            ],
            [
             0.5555555555555556,
             "#d8576b"
            ],
            [
             0.6666666666666666,
             "#ed7953"
            ],
            [
             0.7777777777777778,
             "#fb9f3a"
            ],
            [
             0.8888888888888888,
             "#fdca26"
            ],
            [
             1,
             "#f0f921"
            ]
           ],
           "sequentialminus": [
            [
             0,
             "#0d0887"
            ],
            [
             0.1111111111111111,
             "#46039f"
            ],
            [
             0.2222222222222222,
             "#7201a8"
            ],
            [
             0.3333333333333333,
             "#9c179e"
            ],
            [
             0.4444444444444444,
             "#bd3786"
            ],
            [
             0.5555555555555556,
             "#d8576b"
            ],
            [
             0.6666666666666666,
             "#ed7953"
            ],
            [
             0.7777777777777778,
             "#fb9f3a"
            ],
            [
             0.8888888888888888,
             "#fdca26"
            ],
            [
             1,
             "#f0f921"
            ]
           ]
          },
          "colorway": [
           "#636efa",
           "#EF553B",
           "#00cc96",
           "#ab63fa",
           "#FFA15A",
           "#19d3f3",
           "#FF6692",
           "#B6E880",
           "#FF97FF",
           "#FECB52"
          ],
          "font": {
           "color": "#2a3f5f"
          },
          "geo": {
           "bgcolor": "white",
           "lakecolor": "white",
           "landcolor": "#E5ECF6",
           "showlakes": true,
           "showland": true,
           "subunitcolor": "white"
          },
          "hoverlabel": {
           "align": "left"
          },
          "hovermode": "closest",
          "mapbox": {
           "style": "light"
          },
          "paper_bgcolor": "white",
          "plot_bgcolor": "#E5ECF6",
          "polar": {
           "angularaxis": {
            "gridcolor": "white",
            "linecolor": "white",
            "ticks": ""
           },
           "bgcolor": "#E5ECF6",
           "radialaxis": {
            "gridcolor": "white",
            "linecolor": "white",
            "ticks": ""
           }
          },
          "scene": {
           "xaxis": {
            "backgroundcolor": "#E5ECF6",
            "gridcolor": "white",
            "gridwidth": 2,
            "linecolor": "white",
            "showbackground": true,
            "ticks": "",
            "zerolinecolor": "white"
           },
           "yaxis": {
            "backgroundcolor": "#E5ECF6",
            "gridcolor": "white",
            "gridwidth": 2,
            "linecolor": "white",
            "showbackground": true,
            "ticks": "",
            "zerolinecolor": "white"
           },
           "zaxis": {
            "backgroundcolor": "#E5ECF6",
            "gridcolor": "white",
            "gridwidth": 2,
            "linecolor": "white",
            "showbackground": true,
            "ticks": "",
            "zerolinecolor": "white"
           }
          },
          "shapedefaults": {
           "line": {
            "color": "#2a3f5f"
           }
          },
          "ternary": {
           "aaxis": {
            "gridcolor": "white",
            "linecolor": "white",
            "ticks": ""
           },
           "baxis": {
            "gridcolor": "white",
            "linecolor": "white",
            "ticks": ""
           },
           "bgcolor": "#E5ECF6",
           "caxis": {
            "gridcolor": "white",
            "linecolor": "white",
            "ticks": ""
           }
          },
          "title": {
           "x": 0.05
          },
          "xaxis": {
           "automargin": true,
           "gridcolor": "white",
           "linecolor": "white",
           "ticks": "",
           "title": {
            "standoff": 15
           },
           "zerolinecolor": "white",
           "zerolinewidth": 2
          },
          "yaxis": {
           "automargin": true,
           "gridcolor": "white",
           "linecolor": "white",
           "ticks": "",
           "title": {
            "standoff": 15
           },
           "zerolinecolor": "white",
           "zerolinewidth": 2
          }
         }
        }
       }
      },
      "text/html": [
       "<div>                            <div id=\"661162a5-75e7-4c5f-b192-ab5b6d0d1459\" class=\"plotly-graph-div\" style=\"height:525px; width:100%;\"></div>            <script type=\"text/javascript\">                require([\"plotly\"], function(Plotly) {                    window.PLOTLYENV=window.PLOTLYENV || {};                                    if (document.getElementById(\"661162a5-75e7-4c5f-b192-ab5b6d0d1459\")) {                    Plotly.newPlot(                        \"661162a5-75e7-4c5f-b192-ab5b6d0d1459\",                        [{\"marker\": {\"color\": [122, 124, 126, 128, 130, 132, 134, 136, 138, 140], \"showscale\": true, \"size\": [80.324, 0.0, 45.49, 42.792, 19.938, 0.0, 0.0, 103.131, 241.909, 34.813]}, \"mode\": \"markers\", \"type\": \"scatter\", \"x\": [\"##NFLDraft2021\", \"#Twisted Sister\", \"#Trey Lance\", \"#Trevor Lawrence\", \"#Jags\", \"#brittany higgins\", \"#Clive Palmer\", \"#49ers\", \"#Rodgers\", \"#Zach Wilson\"], \"y\": [80324, 0, 45490, 42792, 19938, 0, 0, 103131, 241909, 34813]}],                        {\"template\": {\"data\": {\"bar\": [{\"error_x\": {\"color\": \"#2a3f5f\"}, \"error_y\": {\"color\": \"#2a3f5f\"}, \"marker\": {\"line\": {\"color\": \"#E5ECF6\", \"width\": 0.5}}, \"type\": \"bar\"}], \"barpolar\": [{\"marker\": {\"line\": {\"color\": \"#E5ECF6\", \"width\": 0.5}}, \"type\": \"barpolar\"}], \"carpet\": [{\"aaxis\": {\"endlinecolor\": \"#2a3f5f\", \"gridcolor\": \"white\", \"linecolor\": \"white\", \"minorgridcolor\": \"white\", \"startlinecolor\": \"#2a3f5f\"}, \"baxis\": {\"endlinecolor\": \"#2a3f5f\", \"gridcolor\": \"white\", \"linecolor\": \"white\", \"minorgridcolor\": \"white\", \"startlinecolor\": \"#2a3f5f\"}, \"type\": \"carpet\"}], \"choropleth\": [{\"colorbar\": {\"outlinewidth\": 0, \"ticks\": \"\"}, \"type\": \"choropleth\"}], \"contour\": [{\"colorbar\": {\"outlinewidth\": 0, \"ticks\": \"\"}, \"colorscale\": [[0.0, \"#0d0887\"], [0.1111111111111111, \"#46039f\"], [0.2222222222222222, \"#7201a8\"], [0.3333333333333333, \"#9c179e\"], [0.4444444444444444, \"#bd3786\"], [0.5555555555555556, \"#d8576b\"], [0.6666666666666666, \"#ed7953\"], [0.7777777777777778, \"#fb9f3a\"], [0.8888888888888888, \"#fdca26\"], [1.0, \"#f0f921\"]], \"type\": \"contour\"}], \"contourcarpet\": [{\"colorbar\": {\"outlinewidth\": 0, \"ticks\": \"\"}, \"type\": \"contourcarpet\"}], \"heatmap\": [{\"colorbar\": {\"outlinewidth\": 0, \"ticks\": \"\"}, \"colorscale\": [[0.0, \"#0d0887\"], [0.1111111111111111, \"#46039f\"], [0.2222222222222222, \"#7201a8\"], [0.3333333333333333, \"#9c179e\"], [0.4444444444444444, \"#bd3786\"], [0.5555555555555556, \"#d8576b\"], [0.6666666666666666, \"#ed7953\"], [0.7777777777777778, \"#fb9f3a\"], [0.8888888888888888, \"#fdca26\"], [1.0, \"#f0f921\"]], \"type\": \"heatmap\"}], \"heatmapgl\": [{\"colorbar\": {\"outlinewidth\": 0, \"ticks\": \"\"}, \"colorscale\": [[0.0, \"#0d0887\"], [0.1111111111111111, \"#46039f\"], [0.2222222222222222, \"#7201a8\"], [0.3333333333333333, \"#9c179e\"], [0.4444444444444444, \"#bd3786\"], [0.5555555555555556, \"#d8576b\"], [0.6666666666666666, \"#ed7953\"], [0.7777777777777778, \"#fb9f3a\"], [0.8888888888888888, \"#fdca26\"], [1.0, \"#f0f921\"]], \"type\": \"heatmapgl\"}], \"histogram\": [{\"marker\": {\"colorbar\": {\"outlinewidth\": 0, \"ticks\": \"\"}}, \"type\": \"histogram\"}], \"histogram2d\": [{\"colorbar\": {\"outlinewidth\": 0, \"ticks\": \"\"}, \"colorscale\": [[0.0, \"#0d0887\"], [0.1111111111111111, \"#46039f\"], [0.2222222222222222, \"#7201a8\"], [0.3333333333333333, \"#9c179e\"], [0.4444444444444444, \"#bd3786\"], [0.5555555555555556, \"#d8576b\"], [0.6666666666666666, \"#ed7953\"], [0.7777777777777778, \"#fb9f3a\"], [0.8888888888888888, \"#fdca26\"], [1.0, \"#f0f921\"]], \"type\": \"histogram2d\"}], \"histogram2dcontour\": [{\"colorbar\": {\"outlinewidth\": 0, \"ticks\": \"\"}, \"colorscale\": [[0.0, \"#0d0887\"], [0.1111111111111111, \"#46039f\"], [0.2222222222222222, \"#7201a8\"], [0.3333333333333333, \"#9c179e\"], [0.4444444444444444, \"#bd3786\"], [0.5555555555555556, \"#d8576b\"], [0.6666666666666666, \"#ed7953\"], [0.7777777777777778, \"#fb9f3a\"], [0.8888888888888888, \"#fdca26\"], [1.0, \"#f0f921\"]], \"type\": \"histogram2dcontour\"}], \"mesh3d\": [{\"colorbar\": {\"outlinewidth\": 0, \"ticks\": \"\"}, \"type\": \"mesh3d\"}], \"parcoords\": [{\"line\": {\"colorbar\": {\"outlinewidth\": 0, \"ticks\": \"\"}}, \"type\": \"parcoords\"}], \"pie\": [{\"automargin\": true, \"type\": \"pie\"}], \"scatter\": [{\"marker\": {\"colorbar\": {\"outlinewidth\": 0, \"ticks\": \"\"}}, \"type\": \"scatter\"}], \"scatter3d\": [{\"line\": {\"colorbar\": {\"outlinewidth\": 0, \"ticks\": \"\"}}, \"marker\": {\"colorbar\": {\"outlinewidth\": 0, \"ticks\": \"\"}}, \"type\": \"scatter3d\"}], \"scattercarpet\": [{\"marker\": {\"colorbar\": {\"outlinewidth\": 0, \"ticks\": \"\"}}, \"type\": \"scattercarpet\"}], \"scattergeo\": [{\"marker\": {\"colorbar\": {\"outlinewidth\": 0, \"ticks\": \"\"}}, \"type\": \"scattergeo\"}], \"scattergl\": [{\"marker\": {\"colorbar\": {\"outlinewidth\": 0, \"ticks\": \"\"}}, \"type\": \"scattergl\"}], \"scattermapbox\": [{\"marker\": {\"colorbar\": {\"outlinewidth\": 0, \"ticks\": \"\"}}, \"type\": \"scattermapbox\"}], \"scatterpolar\": [{\"marker\": {\"colorbar\": {\"outlinewidth\": 0, \"ticks\": \"\"}}, \"type\": \"scatterpolar\"}], \"scatterpolargl\": [{\"marker\": {\"colorbar\": {\"outlinewidth\": 0, \"ticks\": \"\"}}, \"type\": \"scatterpolargl\"}], \"scatterternary\": [{\"marker\": {\"colorbar\": {\"outlinewidth\": 0, \"ticks\": \"\"}}, \"type\": \"scatterternary\"}], \"surface\": [{\"colorbar\": {\"outlinewidth\": 0, \"ticks\": \"\"}, \"colorscale\": [[0.0, \"#0d0887\"], [0.1111111111111111, \"#46039f\"], [0.2222222222222222, \"#7201a8\"], [0.3333333333333333, \"#9c179e\"], [0.4444444444444444, \"#bd3786\"], [0.5555555555555556, \"#d8576b\"], [0.6666666666666666, \"#ed7953\"], [0.7777777777777778, \"#fb9f3a\"], [0.8888888888888888, \"#fdca26\"], [1.0, \"#f0f921\"]], \"type\": \"surface\"}], \"table\": [{\"cells\": {\"fill\": {\"color\": \"#EBF0F8\"}, \"line\": {\"color\": \"white\"}}, \"header\": {\"fill\": {\"color\": \"#C8D4E3\"}, \"line\": {\"color\": \"white\"}}, \"type\": \"table\"}]}, \"layout\": {\"annotationdefaults\": {\"arrowcolor\": \"#2a3f5f\", \"arrowhead\": 0, \"arrowwidth\": 1}, \"autotypenumbers\": \"strict\", \"coloraxis\": {\"colorbar\": {\"outlinewidth\": 0, \"ticks\": \"\"}}, \"colorscale\": {\"diverging\": [[0, \"#8e0152\"], [0.1, \"#c51b7d\"], [0.2, \"#de77ae\"], [0.3, \"#f1b6da\"], [0.4, \"#fde0ef\"], [0.5, \"#f7f7f7\"], [0.6, \"#e6f5d0\"], [0.7, \"#b8e186\"], [0.8, \"#7fbc41\"], [0.9, \"#4d9221\"], [1, \"#276419\"]], \"sequential\": [[0.0, \"#0d0887\"], [0.1111111111111111, \"#46039f\"], [0.2222222222222222, \"#7201a8\"], [0.3333333333333333, \"#9c179e\"], [0.4444444444444444, \"#bd3786\"], [0.5555555555555556, \"#d8576b\"], [0.6666666666666666, \"#ed7953\"], [0.7777777777777778, \"#fb9f3a\"], [0.8888888888888888, \"#fdca26\"], [1.0, \"#f0f921\"]], \"sequentialminus\": [[0.0, \"#0d0887\"], [0.1111111111111111, \"#46039f\"], [0.2222222222222222, \"#7201a8\"], [0.3333333333333333, \"#9c179e\"], [0.4444444444444444, \"#bd3786\"], [0.5555555555555556, \"#d8576b\"], [0.6666666666666666, \"#ed7953\"], [0.7777777777777778, \"#fb9f3a\"], [0.8888888888888888, \"#fdca26\"], [1.0, \"#f0f921\"]]}, \"colorway\": [\"#636efa\", \"#EF553B\", \"#00cc96\", \"#ab63fa\", \"#FFA15A\", \"#19d3f3\", \"#FF6692\", \"#B6E880\", \"#FF97FF\", \"#FECB52\"], \"font\": {\"color\": \"#2a3f5f\"}, \"geo\": {\"bgcolor\": \"white\", \"lakecolor\": \"white\", \"landcolor\": \"#E5ECF6\", \"showlakes\": true, \"showland\": true, \"subunitcolor\": \"white\"}, \"hoverlabel\": {\"align\": \"left\"}, \"hovermode\": \"closest\", \"mapbox\": {\"style\": \"light\"}, \"paper_bgcolor\": \"white\", \"plot_bgcolor\": \"#E5ECF6\", \"polar\": {\"angularaxis\": {\"gridcolor\": \"white\", \"linecolor\": \"white\", \"ticks\": \"\"}, \"bgcolor\": \"#E5ECF6\", \"radialaxis\": {\"gridcolor\": \"white\", \"linecolor\": \"white\", \"ticks\": \"\"}}, \"scene\": {\"xaxis\": {\"backgroundcolor\": \"#E5ECF6\", \"gridcolor\": \"white\", \"gridwidth\": 2, \"linecolor\": \"white\", \"showbackground\": true, \"ticks\": \"\", \"zerolinecolor\": \"white\"}, \"yaxis\": {\"backgroundcolor\": \"#E5ECF6\", \"gridcolor\": \"white\", \"gridwidth\": 2, \"linecolor\": \"white\", \"showbackground\": true, \"ticks\": \"\", \"zerolinecolor\": \"white\"}, \"zaxis\": {\"backgroundcolor\": \"#E5ECF6\", \"gridcolor\": \"white\", \"gridwidth\": 2, \"linecolor\": \"white\", \"showbackground\": true, \"ticks\": \"\", \"zerolinecolor\": \"white\"}}, \"shapedefaults\": {\"line\": {\"color\": \"#2a3f5f\"}}, \"ternary\": {\"aaxis\": {\"gridcolor\": \"white\", \"linecolor\": \"white\", \"ticks\": \"\"}, \"baxis\": {\"gridcolor\": \"white\", \"linecolor\": \"white\", \"ticks\": \"\"}, \"bgcolor\": \"#E5ECF6\", \"caxis\": {\"gridcolor\": \"white\", \"linecolor\": \"white\", \"ticks\": \"\"}}, \"title\": {\"x\": 0.05}, \"xaxis\": {\"automargin\": true, \"gridcolor\": \"white\", \"linecolor\": \"white\", \"ticks\": \"\", \"title\": {\"standoff\": 15}, \"zerolinecolor\": \"white\", \"zerolinewidth\": 2}, \"yaxis\": {\"automargin\": true, \"gridcolor\": \"white\", \"linecolor\": \"white\", \"ticks\": \"\", \"title\": {\"standoff\": 15}, \"zerolinecolor\": \"white\", \"zerolinewidth\": 2}}}},                        {\"responsive\": true}                    ).then(function(){\n",
       "                            \n",
       "var gd = document.getElementById('661162a5-75e7-4c5f-b192-ab5b6d0d1459');\n",
       "var x = new MutationObserver(function (mutations, observer) {{\n",
       "        var display = window.getComputedStyle(gd).display;\n",
       "        if (!display || display === 'none') {{\n",
       "            console.log([gd, 'removed!']);\n",
       "            Plotly.purge(gd);\n",
       "            observer.disconnect();\n",
       "        }}\n",
       "}});\n",
       "\n",
       "// Listen for the removal of the full notebook cells\n",
       "var notebookContainer = gd.closest('#notebook-container');\n",
       "if (notebookContainer) {{\n",
       "    x.observe(notebookContainer, {childList: true});\n",
       "}}\n",
       "\n",
       "// Listen for the clearing of the current output cell\n",
       "var outputEl = gd.closest('.output');\n",
       "if (outputEl) {{\n",
       "    x.observe(outputEl, {childList: true});\n",
       "}}\n",
       "\n",
       "                        })                };                });            </script>        </div>"
      ]
     },
     "metadata": {},
     "output_type": "display_data"
    }
   ],
   "source": [
    "# !pip install plotly\n",
    "import plotly.graph_objects as go\n",
    "\n",
    "fig1 = go.Figure(data=[go.Scatter(\n",
    "    x=n,\n",
    "    y=tv,\n",
    "    mode='markers',\n",
    "    marker=dict(\n",
    "        color=colours,\n",
    "        size=size1,\n",
    "        showscale=True\n",
    "        )\n",
    ")])\n",
    "fig1.show()\n",
    "\n",
    "bar1=[n,tv]"
   ]
  },
  {
   "cell_type": "code",
   "execution_count": null,
   "metadata": {},
   "outputs": [],
   "source": [
    "# # !pip install plotly\n",
    "# import plotly.graph_objects as go\n",
    "\n",
    "# fig1 = go.Figure(data=[go.Scatter(\n",
    "#     x=set_x,\n",
    "#     y=cumulative_count,\n",
    "#     mode='markers',\n",
    "#     marker=dict(\n",
    "#         color=colours,\n",
    "#         size=size1,\n",
    "#         showscale=True\n",
    "#         )\n",
    "# )])\n",
    "# fig1.show()\n",
    "\n",
    "# bar1=[set_x,set_x_count]"
   ]
  },
  {
   "cell_type": "code",
   "execution_count": null,
   "metadata": {},
   "outputs": [],
   "source": []
  },
  {
   "cell_type": "code",
   "execution_count": 128,
   "metadata": {},
   "outputs": [],
   "source": [
    "#Export json\n",
    "import json\n",
    "trending_data=dict(zip(n,tv))\n",
    "json_trending_data = json.dumps(trending_data)\n"
   ]
  },
  {
   "cell_type": "code",
   "execution_count": null,
   "metadata": {},
   "outputs": [],
   "source": []
  },
  {
   "cell_type": "code",
   "execution_count": null,
   "metadata": {},
   "outputs": [],
   "source": []
  },
  {
   "cell_type": "code",
   "execution_count": null,
   "metadata": {},
   "outputs": [],
   "source": []
  },
  {
   "cell_type": "code",
   "execution_count": null,
   "metadata": {},
   "outputs": [],
   "source": []
  },
  {
   "cell_type": "code",
   "execution_count": null,
   "metadata": {},
   "outputs": [],
   "source": []
  },
  {
   "cell_type": "code",
   "execution_count": null,
   "metadata": {},
   "outputs": [],
   "source": []
  },
  {
   "cell_type": "code",
   "execution_count": null,
   "metadata": {},
   "outputs": [],
   "source": []
  },
  {
   "cell_type": "code",
   "execution_count": null,
   "metadata": {},
   "outputs": [],
   "source": []
  },
  {
   "cell_type": "code",
   "execution_count": null,
   "metadata": {},
   "outputs": [],
   "source": []
  },
  {
   "cell_type": "code",
   "execution_count": null,
   "metadata": {},
   "outputs": [],
   "source": []
  },
  {
   "cell_type": "code",
   "execution_count": null,
   "metadata": {},
   "outputs": [],
   "source": []
  },
  {
   "cell_type": "code",
   "execution_count": null,
   "metadata": {},
   "outputs": [],
   "source": []
  },
  {
   "cell_type": "code",
   "execution_count": null,
   "metadata": {},
   "outputs": [],
   "source": []
  },
  {
   "cell_type": "code",
   "execution_count": null,
   "metadata": {},
   "outputs": [],
   "source": []
  },
  {
   "cell_type": "code",
   "execution_count": null,
   "metadata": {},
   "outputs": [],
   "source": []
  }
 ],
 "metadata": {
  "kernelspec": {
   "display_name": "Python 3",
   "language": "python",
   "name": "python3"
  },
  "language_info": {
   "codemirror_mode": {
    "name": "ipython",
    "version": 3
   },
   "file_extension": ".py",
   "mimetype": "text/x-python",
   "name": "python",
   "nbconvert_exporter": "python",
   "pygments_lexer": "ipython3",
   "version": "3.8.5"
  }
 },
 "nbformat": 4,
 "nbformat_minor": 4
}
