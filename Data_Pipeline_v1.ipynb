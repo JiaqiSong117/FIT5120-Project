{
 "cells": [
  {
   "cell_type": "code",
   "execution_count": 32,
   "metadata": {},
   "outputs": [],
   "source": [
    "# import nltk\n",
    "# nltk.download('punkt')\n",
    "# nltk.download('wordnet')\n",
    "# from nltk import sent_tokenize, word_tokenize\n",
    "# from nltk.stem.snowball import SnowballStemmer\n",
    "# from nltk.stem.wordnet import WordNetLemmatizer\n",
    "# from nltk.corpus import stopwords\n",
    "# import pandas as pd\n",
    "# import numpy as np \n",
    "# import re\n",
    "# import spacy \n",
    "# !pip install kafka-python\n",
    "# !pip install python-twitter\n",
    "# !pip install tweepy\n",
    "# !pip install tweepy\n",
    "# nlp=spacy.load('en_core_web_sm')\n",
    "\n",
    "# from tweepy.streaming import StreamListener\n",
    "# from tweepy import OAuthHandler \n",
    "# from tweepy import Stream\n"
   ]
  },
  {
   "cell_type": "code",
   "execution_count": 34,
   "metadata": {},
   "outputs": [],
   "source": [
    "import tweepy\n",
    "import pandas as pd"
   ]
  },
  {
   "cell_type": "code",
   "execution_count": 42,
   "metadata": {},
   "outputs": [],
   "source": [
    "# Secret Credentials \n",
    "ACCESS_TOKEN = \"500435442-ZsyX0WGAgAsiK3mPMwCLVZgXaM4mPeLpOZHh46Uc\"\n",
    "ACCESS_TOKEN_SECRET = \"tI6pbzVsXWzNmfUEC07by6ZpJc5d58vu0sKxovxuDQEoY\"\n",
    "CONSUMER_KEY = \"zazEfoGYmcJp8IZCQZYeleORe\"\n",
    "CONSUMER_SECRET = \"JtTfz6C4WaCNZkzmn02U4GkOoilCyiIVKFFknuLgWD51MeVySm\""
   ]
  },
  {
   "cell_type": "code",
   "execution_count": 33,
   "metadata": {},
   "outputs": [],
   "source": []
  },
  {
   "cell_type": "code",
   "execution_count": 43,
   "metadata": {},
   "outputs": [],
   "source": [
    "auth=OAuthHandler(CONSUMER_KEY,CONSUMER_SECRET)\n",
    "auth.set_access_token(ACCESS_TOKEN,ACCESS_TOKEN_SECRET)\n",
    "api=tweepy.API(auth)"
   ]
  },
  {
   "cell_type": "code",
   "execution_count": 123,
   "metadata": {},
   "outputs": [],
   "source": [
    "tweets=[]\n",
    "retweet=[]\n",
    "likes=[]"
   ]
  },
  {
   "cell_type": "code",
   "execution_count": null,
   "metadata": {},
   "outputs": [],
   "source": [
    "userx='elonmusk'"
   ]
  },
  {
   "cell_type": "code",
   "execution_count": 124,
   "metadata": {},
   "outputs": [],
   "source": [
    "for i in tweepy.Cursor(api.user_timeline,id=userx,tweet_mode='extended').items(200):\n",
    "    tweets.append(i.full_text)\n",
    "    retweet.append(i.retweet_count)\n",
    "    likes.append(i.favorite_count)\n",
    "    "
   ]
  },
  {
   "cell_type": "code",
   "execution_count": 125,
   "metadata": {},
   "outputs": [
    {
     "data": {
      "text/html": [
       "<div>\n",
       "<style scoped>\n",
       "    .dataframe tbody tr th:only-of-type {\n",
       "        vertical-align: middle;\n",
       "    }\n",
       "\n",
       "    .dataframe tbody tr th {\n",
       "        vertical-align: top;\n",
       "    }\n",
       "\n",
       "    .dataframe thead th {\n",
       "        text-align: right;\n",
       "    }\n",
       "</style>\n",
       "<table border=\"1\" class=\"dataframe\">\n",
       "  <thead>\n",
       "    <tr style=\"text-align: right;\">\n",
       "      <th></th>\n",
       "      <th>tweets</th>\n",
       "      <th>likes</th>\n",
       "      <th>retweet</th>\n",
       "    </tr>\n",
       "  </thead>\n",
       "  <tbody>\n",
       "    <tr>\n",
       "      <th>0</th>\n",
       "      <td>RT @Tesla: 6,000+ Superchargers across Europe ...</td>\n",
       "      <td>0</td>\n",
       "      <td>2338</td>\n",
       "    </tr>\n",
       "    <tr>\n",
       "      <th>1</th>\n",
       "      <td>@SpaceXMR 🤣🤣</td>\n",
       "      <td>1888</td>\n",
       "      <td>89</td>\n",
       "    </tr>\n",
       "    <tr>\n",
       "      <th>2</th>\n",
       "      <td>@TheOnion Shame on you, Onion. This is why peo...</td>\n",
       "      <td>13322</td>\n",
       "      <td>865</td>\n",
       "    </tr>\n",
       "    <tr>\n",
       "      <th>3</th>\n",
       "      <td>@howlpolitically @TheOnion 2/2\\nMy father &amp;amp...</td>\n",
       "      <td>2794</td>\n",
       "      <td>320</td>\n",
       "    </tr>\n",
       "    <tr>\n",
       "      <th>4</th>\n",
       "      <td>@howlpolitically @TheOnion 1/2\\nThis article i...</td>\n",
       "      <td>4038</td>\n",
       "      <td>480</td>\n",
       "    </tr>\n",
       "    <tr>\n",
       "      <th>...</th>\n",
       "      <td>...</td>\n",
       "      <td>...</td>\n",
       "      <td>...</td>\n",
       "    </tr>\n",
       "    <tr>\n",
       "      <th>95</th>\n",
       "      <td>@itsALLrisky Yes!</td>\n",
       "      <td>11011</td>\n",
       "      <td>1509</td>\n",
       "    </tr>\n",
       "    <tr>\n",
       "      <th>96</th>\n",
       "      <td>@TSLAgang @SpinelessModer1 Yes</td>\n",
       "      <td>2300</td>\n",
       "      <td>80</td>\n",
       "    </tr>\n",
       "    <tr>\n",
       "      <th>97</th>\n",
       "      <td>@ashleevance For sure wise for elderly or immu...</td>\n",
       "      <td>8986</td>\n",
       "      <td>450</td>\n",
       "    </tr>\n",
       "    <tr>\n",
       "      <th>98</th>\n",
       "      <td>FSD Beta has now been expanded to ~2000 owners...</td>\n",
       "      <td>22752</td>\n",
       "      <td>1517</td>\n",
       "    </tr>\n",
       "    <tr>\n",
       "      <th>99</th>\n",
       "      <td>@pflodin @DoctorKarl Absolutely</td>\n",
       "      <td>1770</td>\n",
       "      <td>71</td>\n",
       "    </tr>\n",
       "  </tbody>\n",
       "</table>\n",
       "<p>100 rows × 3 columns</p>\n",
       "</div>"
      ],
      "text/plain": [
       "                                               tweets  likes  retweet\n",
       "0   RT @Tesla: 6,000+ Superchargers across Europe ...      0     2338\n",
       "1                                        @SpaceXMR 🤣🤣   1888       89\n",
       "2   @TheOnion Shame on you, Onion. This is why peo...  13322      865\n",
       "3   @howlpolitically @TheOnion 2/2\\nMy father &amp...   2794      320\n",
       "4   @howlpolitically @TheOnion 1/2\\nThis article i...   4038      480\n",
       "..                                                ...    ...      ...\n",
       "95                                  @itsALLrisky Yes!  11011     1509\n",
       "96                     @TSLAgang @SpinelessModer1 Yes   2300       80\n",
       "97  @ashleevance For sure wise for elderly or immu...   8986      450\n",
       "98  FSD Beta has now been expanded to ~2000 owners...  22752     1517\n",
       "99                    @pflodin @DoctorKarl Absolutely   1770       71\n",
       "\n",
       "[100 rows x 3 columns]"
      ]
     },
     "execution_count": 125,
     "metadata": {},
     "output_type": "execute_result"
    }
   ],
   "source": [
    "Twitter_df2=pd.DataFrame({'tweets':tweets,'likes':likes,'retweet':retweet})\n",
    "Twitter_df2"
   ]
  },
  {
   "cell_type": "code",
   "execution_count": 126,
   "metadata": {},
   "outputs": [],
   "source": [
    "# Extracting the list of stop words\n",
    "stopwords=[]\n",
    "stopwords_list=open(\"stopwords_en.txt\",\"r\")\n",
    "for x in stopwords_list.readlines():\n",
    "    stopwords.append(x)\n",
    "    stopwords=list(map(lambda x:x.strip(),stopwords))\n",
    "\n",
    "    "
   ]
  },
  {
   "cell_type": "code",
   "execution_count": 107,
   "metadata": {},
   "outputs": [
    {
     "data": {
      "text/plain": [
       "['@TheOnion',\n",
       " 'Shame',\n",
       " 'on',\n",
       " 'you,',\n",
       " 'Onion.',\n",
       " 'This',\n",
       " 'is',\n",
       " 'why',\n",
       " 'people',\n",
       " 'are',\n",
       " 'switching',\n",
       " 'to',\n",
       " '@TheBabylonBee!']"
      ]
     },
     "execution_count": 107,
     "metadata": {},
     "output_type": "execute_result"
    }
   ],
   "source": [
    "# k=tweets[2].split(\" \")\n",
    "# b=['you','why']\n",
    "# 'why' in k\n",
    "list(Twitter_df2['tweets'][2].split(' '))"
   ]
  },
  {
   "cell_type": "code",
   "execution_count": 108,
   "metadata": {},
   "outputs": [
    {
     "name": "stderr",
     "output_type": "stream",
     "text": [
      "<ipython-input-108-cefaa7bfc6ec>:4: SettingWithCopyWarning: \n",
      "A value is trying to be set on a copy of a slice from a DataFrame\n",
      "\n",
      "See the caveats in the documentation: https://pandas.pydata.org/pandas-docs/stable/user_guide/indexing.html#returning-a-view-versus-a-copy\n",
      "  Twitter_df2['tweets'][i]=Twitter_df2['tweets'][i].replace(stopwords[j],'')\n"
     ]
    }
   ],
   "source": []
  },
  {
   "cell_type": "code",
   "execution_count": 127,
   "metadata": {},
   "outputs": [],
   "source": [
    "# Applying porter stemmer to trim down the tweets\n",
    "from nltk.stem import PorterStemmer,WordNetLemmatizer\n",
    "trimmed_tweets=[]\n",
    "porter_stemmer=PorterStemmer()\n",
    "trimmed_tweets_DS=[]\n",
    "for i in range(len(Twitter_df2['tweets'])):\n",
    "    tweets = ''.join(Twitter_df2['tweets'][i])\n",
    "    tokens=tweets.split()\n",
    "    stemmed_tokens=[porter_stemmer.stem(token) for token in tokens]\n",
    "    tweet=' '.join(stemmed_tokens)\n",
    "    trimmed_tweets.append(tweet)"
   ]
  },
  {
   "cell_type": "code",
   "execution_count": 128,
   "metadata": {},
   "outputs": [
    {
     "data": {
      "text/plain": [
       "['tesla',\n",
       " 'supercharg',\n",
       " 'europ',\n",
       " 'locat',\n",
       " 'counting',\n",
       " 'epavlic',\n",
       " 'minimalduck',\n",
       " 'https',\n",
       " 'spacexmr',\n",
       " 'theonion',\n",
       " 'shame',\n",
       " 'onion',\n",
       " 'peopl',\n",
       " 'switch',\n",
       " 'thebabylonbee',\n",
       " 'howlpolit',\n",
       " 'theonion',\n",
       " 'father',\n",
       " 'extend',\n",
       " 'famili',\n",
       " 'depend',\n",
       " 'financi',\n",
       " 'support',\n",
       " 'brother',\n",
       " 'years',\n",
       " 'articl',\n",
       " 'actual',\n",
       " 'accurate',\n",
       " 'https',\n",
       " 'evpcx',\n",
       " 'howlpolit',\n",
       " 'theonion',\n",
       " 'articl',\n",
       " 'false',\n",
       " 'arriv',\n",
       " 'canada',\n",
       " 'paid',\n",
       " 'college',\n",
       " 'student',\n",
       " 'debt',\n",
       " 'start',\n",
       " 'compani',\n",
       " 'fund',\n",
       " 'comput',\n",
       " 'built',\n",
       " 'evid',\n",
       " 'whatsoev',\n",
       " 'emerald',\n",
       " 'mine',\n",
       " 'jubanmoham',\n",
       " 'handlif',\n",
       " 'scandal',\n",
       " 'call',\n",
       " 'elong',\n",
       " 'universal',\n",
       " 'comment',\n",
       " 'thread',\n",
       " 'defi',\n",
       " 'defi',\n",
       " 'itsallriski',\n",
       " 'kimdotcom',\n",
       " 'rover',\n",
       " 'back',\n",
       " 'https',\n",
       " 'oafocezruu',\n",
       " 'kimdotcom',\n",
       " 'fair',\n",
       " 'point',\n",
       " 'dogecoinww',\n",
       " 'mattwallace',\n",
       " 'corinnakopf',\n",
       " 'rais',\n",
       " 'good',\n",
       " 'point',\n",
       " 'haha',\n",
       " 'blockfolio',\n",
       " 'evafoxu',\n",
       " 'shame',\n",
       " 'info',\n",
       " 'spacex',\n",
       " 'deploy',\n",
       " 'starlink',\n",
       " 'satellit',\n",
       " 'confirm',\n",
       " 'https',\n",
       " 'xcbrq',\n",
       " 'lexfridman',\n",
       " 'bitcoin',\n",
       " 'capabl',\n",
       " 'avail',\n",
       " 'outsid',\n",
       " 'yeartesla',\n",
       " 'onli',\n",
       " 'intern',\n",
       " 'open',\n",
       " 'sourc',\n",
       " 'softwar',\n",
       " 'oper',\n",
       " 'bitcoin',\n",
       " 'node',\n",
       " 'directly',\n",
       " 'bitcoin',\n",
       " 'paid',\n",
       " 'tesla',\n",
       " 'retain',\n",
       " 'bitcoin',\n",
       " 'convert',\n",
       " 'fiat',\n",
       " 'currency',\n",
       " 'tesla',\n",
       " 'bitcoin',\n",
       " 'wholemarsblog',\n",
       " 'joeys',\n",
       " 'ladi',\n",
       " 'drsej',\n",
       " 'bindureddi',\n",
       " 'book',\n",
       " 'haha',\n",
       " 'bindureddi',\n",
       " 'basic',\n",
       " 'learn',\n",
       " 'anyth',\n",
       " 'youtube',\n",
       " 'redditrt',\n",
       " 'fogdo',\n",
       " 'tesla',\n",
       " 'cool',\n",
       " 'featur',\n",
       " 'https',\n",
       " 'fluy',\n",
       " 'yfdsl',\n",
       " 'flcnhvi',\n",
       " 'arstechnica',\n",
       " 'sciguyspac',\n",
       " 'spacex',\n",
       " 'land',\n",
       " 'starship',\n",
       " 'befor',\n",
       " 'realli',\n",
       " 'hard',\n",
       " 'threshold',\n",
       " 'make',\n",
       " 'base',\n",
       " 'alpha',\n",
       " 'self-sustaining',\n",
       " 'renatakonkoli',\n",
       " 'great',\n",
       " 'mani',\n",
       " 'level',\n",
       " 'https',\n",
       " 'exrz',\n",
       " 'rqkstrongest',\n",
       " 'argument',\n",
       " 'alien',\n",
       " 'https',\n",
       " 'ffzpjq',\n",
       " 'lexfridman',\n",
       " 'andrewyang',\n",
       " 'wholemarsblog',\n",
       " 'road',\n",
       " 'trip',\n",
       " 'adult',\n",
       " 'model',\n",
       " 'arstechnica',\n",
       " 'sciguyspac',\n",
       " 'onli',\n",
       " 'rocket',\n",
       " 'fulli',\n",
       " 'rapidli',\n",
       " 'reusabl',\n",
       " 'competitive',\n",
       " 'everyth',\n",
       " 'cloth',\n",
       " 'biplan',\n",
       " 'jets',\n",
       " 'wholemarsblog',\n",
       " 'plaid',\n",
       " 'product',\n",
       " 'achiev',\n",
       " 'door',\n",
       " 'seat',\n",
       " 'people',\n",
       " 'themarssocieti',\n",
       " 'spacex',\n",
       " 'develop',\n",
       " 'rocket',\n",
       " 'make',\n",
       " 'life',\n",
       " 'multiplanetari',\n",
       " 'full',\n",
       " 'rapid',\n",
       " 'reusabl',\n",
       " 'larg',\n",
       " 'scale',\n",
       " 'spacex',\n",
       " 'fail',\n",
       " 'goal',\n",
       " 'rocket',\n",
       " 'advanc',\n",
       " 'earth',\n",
       " 'starlink',\n",
       " 'purpos',\n",
       " 'provid',\n",
       " 'internet',\n",
       " 'serv',\n",
       " 'mars',\n",
       " 'bluemoondance',\n",
       " 'nasaspaceflight',\n",
       " 'work',\n",
       " 'extra',\n",
       " 'nasaspaceflight',\n",
       " 'hope',\n",
       " 'happen',\n",
       " 'decad',\n",
       " 'newscientist',\n",
       " 'true',\n",
       " 'cleantechnica',\n",
       " 'accumul',\n",
       " 'resourc',\n",
       " 'make',\n",
       " 'life',\n",
       " 'multiplanetari',\n",
       " 'extend',\n",
       " 'light',\n",
       " 'conscious',\n",
       " 'star',\n",
       " 'cathiedwood',\n",
       " 'vast',\n",
       " 'amount',\n",
       " 'manufactur',\n",
       " 'needed',\n",
       " 'robotaxis',\n",
       " 'slow',\n",
       " 'rate',\n",
       " 'introduction',\n",
       " 'mayb',\n",
       " 'winner-takes',\n",
       " 'a-quarter',\n",
       " 'great',\n",
       " 'swaggerheim',\n",
       " 'sciguyspac',\n",
       " 'roast',\n",
       " 'liter',\n",
       " 'possibl',\n",
       " 'johnkrausphoto',\n",
       " 'atomicsastro',\n",
       " 'ppathol',\n",
       " 'yeah',\n",
       " 'english',\n",
       " 'sciguyspac',\n",
       " 'quit',\n",
       " 'story',\n",
       " 'probabl',\n",
       " 'worth',\n",
       " 'read',\n",
       " 'ppathol',\n",
       " 'import',\n",
       " 'trungtphan',\n",
       " 'hard',\n",
       " 'believ',\n",
       " 'year',\n",
       " 'teslaphx',\n",
       " 'codingmark',\n",
       " 'evafoxu',\n",
       " 'jrosinski',\n",
       " 'daelmor',\n",
       " 'piangfa',\n",
       " 'kristennetten',\n",
       " 'jessica',\n",
       " 'kirsh',\n",
       " 'financ',\n",
       " 'jeremyjudkin',\n",
       " 'erdayastronaut',\n",
       " 'twitter',\n",
       " 'twittercomm',\n",
       " 'verifi',\n",
       " 'jack',\n",
       " 'sigh',\n",
       " 'owensparks',\n",
       " 'actual',\n",
       " 'sandwich',\n",
       " 'haha',\n",
       " 'thebabylonbe',\n",
       " 'music',\n",
       " 'graviti',\n",
       " 'https',\n",
       " 'bepfmipjr',\n",
       " 'wholemarsblog',\n",
       " 'signific',\n",
       " 'architectur',\n",
       " 'includ',\n",
       " 'fundament',\n",
       " 'improv',\n",
       " 'pure',\n",
       " 'vision',\n",
       " 'limit',\n",
       " 'valu',\n",
       " 'test',\n",
       " 'hope',\n",
       " 'upload',\n",
       " 'button',\n",
       " 'month',\n",
       " 'spacexvis',\n",
       " 'orbit',\n",
       " 'propel',\n",
       " 'depot',\n",
       " 'optim',\n",
       " 'cryogen',\n",
       " 'storag',\n",
       " 'probabl',\n",
       " 'make',\n",
       " 'sens',\n",
       " 'long-term',\n",
       " 'teslarati',\n",
       " 'marcushous',\n",
       " 'ahem',\n",
       " 'reach-around',\n",
       " 'rationaletienn',\n",
       " 'jordanbpeterson',\n",
       " 'talk',\n",
       " 'life',\n",
       " 'univers',\n",
       " 'everyth',\n",
       " 'vinternix',\n",
       " 'bell',\n",
       " 'momobutfast',\n",
       " 'remouherek',\n",
       " 'sciguyspac',\n",
       " 'long',\n",
       " 'histori',\n",
       " 'tents',\n",
       " 'jordanbpeterson',\n",
       " 'talk',\n",
       " 'teslaownerssv',\n",
       " 'https',\n",
       " 'sjvduw',\n",
       " 'melaniemadri',\n",
       " 'thejackbey',\n",
       " 'nasaspaceflight',\n",
       " 'floor',\n",
       " 'installed',\n",
       " 'elev',\n",
       " 'operational',\n",
       " 'wait',\n",
       " 'glass',\n",
       " 'thejackbey',\n",
       " 'nasaspaceflight',\n",
       " 'high',\n",
       " 'measur',\n",
       " 'tobyliiiiiiiiii',\n",
       " 'launch',\n",
       " 'tower',\n",
       " 'hook',\n",
       " 'height',\n",
       " 'lift',\n",
       " 'booster',\n",
       " 'ship',\n",
       " 'stabil',\n",
       " 'stage',\n",
       " 'separ',\n",
       " 'joint',\n",
       " 'erdayastronaut',\n",
       " 'booster',\n",
       " 'product',\n",
       " 'pathfinder',\n",
       " 'figur',\n",
       " 'build',\n",
       " 'transport',\n",
       " 'meter',\n",
       " 'tall',\n",
       " 'stage',\n",
       " 'booster',\n",
       " 'super',\n",
       " 'heavi',\n",
       " 'booster',\n",
       " 'https',\n",
       " 'qpsebbt',\n",
       " 'lexfridman',\n",
       " 'sometim',\n",
       " 'doge',\n",
       " 'lexfridman',\n",
       " 'hahathe',\n",
       " 'simul',\n",
       " 'realli',\n",
       " 'struggl',\n",
       " 'make',\n",
       " 'real',\n",
       " 'haha',\n",
       " 'https',\n",
       " 'zvftruhuaspir',\n",
       " 'acerb',\n",
       " 'alliter',\n",
       " 'bullshit',\n",
       " 'baffl',\n",
       " 'brain',\n",
       " 'rjdlandscap',\n",
       " 'erdayastronaut',\n",
       " 'spacex',\n",
       " 'goalsn',\n",
       " 'readi',\n",
       " 'https',\n",
       " 'fxmjjzoikk',\n",
       " 'erdayastronaut',\n",
       " 'spacex',\n",
       " 'irlactually',\n",
       " 'doesn',\n",
       " 'feel',\n",
       " 'quit',\n",
       " 'sell',\n",
       " 'pass',\n",
       " 'beepl',\n",
       " 'dogei',\n",
       " 'sell',\n",
       " 'song',\n",
       " 'https',\n",
       " 'ezllespx',\n",
       " 'tesmanian',\n",
       " 'sciguyspac',\n",
       " 'spacex',\n",
       " 'rest',\n",
       " 'world',\n",
       " 'payload',\n",
       " 'orbit',\n",
       " 'year',\n",
       " 'probabl',\n",
       " 'yeari',\n",
       " 'love',\n",
       " 'music',\n",
       " 'make',\n",
       " 'heart',\n",
       " 'sing',\n",
       " 'good',\n",
       " 'https',\n",
       " 'katmh',\n",
       " 'bjxplay',\n",
       " 'favorit',\n",
       " 'song',\n",
       " 'tesla',\n",
       " 'turn',\n",
       " 'volum',\n",
       " 'feel',\n",
       " 'amir',\n",
       " 'spacex',\n",
       " 'support',\n",
       " 'spacex',\n",
       " 'pretties',\n",
       " 'puckish',\n",
       " 'rogu',\n",
       " 'https',\n",
       " 'leastimal',\n",
       " 'itsallriski',\n",
       " 'vladtenev',\n",
       " 'opportun',\n",
       " 'outdo',\n",
       " 'wholemarsblog',\n",
       " 'becom',\n",
       " 'absolut',\n",
       " 'clear',\n",
       " 'plethora',\n",
       " 'self-driv',\n",
       " 'corner',\n",
       " 'case',\n",
       " 'onli',\n",
       " 'solv',\n",
       " 'real-world',\n",
       " 'optic',\n",
       " 'intelligence',\n",
       " 'human',\n",
       " 'design',\n",
       " 'road',\n",
       " 'system',\n",
       " 'work',\n",
       " 'silicon',\n",
       " 'form',\n",
       " 'everyth',\n",
       " 'cake',\n",
       " 'falcon',\n",
       " 'time',\n",
       " 'tonight',\n",
       " 'wholemarsblog',\n",
       " 'direct',\n",
       " 'simultani',\n",
       " 'shiba',\n",
       " 'resistanceisfutil',\n",
       " 'justpaulinelol',\n",
       " 'jahomo',\n",
       " 'sapien',\n",
       " 'techno',\n",
       " 'love',\n",
       " 'rave',\n",
       " 'technologrt',\n",
       " 'spacex',\n",
       " 'target',\n",
       " 'sunday',\n",
       " 'march',\n",
       " 'falcon',\n",
       " 'launch',\n",
       " 'starlink',\n",
       " 'satellites',\n",
       " 'stage',\n",
       " 'booster',\n",
       " 'suppo',\n",
       " 'dogematic',\n",
       " 'askorigin',\n",
       " 'doge',\n",
       " 'afternoon',\n",
       " 'ancient',\n",
       " 'roman',\n",
       " 'sacrif',\n",
       " 'dogecoin',\n",
       " 'begin',\n",
       " 'doge',\n",
       " 'appeas',\n",
       " 'rage',\n",
       " 'sirius',\n",
       " 'believ',\n",
       " 'star',\n",
       " 'caus',\n",
       " 'sultri',\n",
       " 'weather',\n",
       " 'doge',\n",
       " 'afternoonwoketopia',\n",
       " 'battl',\n",
       " 'moral',\n",
       " 'high',\n",
       " 'ground',\n",
       " 'game',\n",
       " 'magic',\n",
       " 'moment',\n",
       " 'itsallriski',\n",
       " 'tslagang',\n",
       " 'spinelessmoder',\n",
       " 'ashleev',\n",
       " 'wise',\n",
       " 'elderli',\n",
       " 'immunocompromis',\n",
       " 'vaccine',\n",
       " 'debat',\n",
       " 'quit',\n",
       " 'reaction',\n",
       " 'beta',\n",
       " 'expand',\n",
       " 'owner',\n",
       " 'revok',\n",
       " 'beta',\n",
       " 'driver',\n",
       " 'suffici',\n",
       " 'attent',\n",
       " 'road',\n",
       " 'accid',\n",
       " 'date',\n",
       " 'signific',\n",
       " 'releas',\n",
       " 'april',\n",
       " 'pure',\n",
       " 'vision',\n",
       " 'radar',\n",
       " 'real-world',\n",
       " 'pflodin',\n",
       " 'doctorkarl',\n",
       " 'absolut']"
      ]
     },
     "execution_count": 128,
     "metadata": {},
     "output_type": "execute_result"
    }
   ],
   "source": [
    "# Applying Regex to indetify for tokenization \n",
    "from nltk.tokenize import RegexpTokenizer\n",
    "\n",
    "tweets_tokenized={}\n",
    "tokenizer=RegexpTokenizer(r\"[a-zA-Z]+(?:[-'][a-zA-Z]+)?\")\n",
    "raw_text=\"\" \n",
    "for item2 in trimmed_tweets:\n",
    "    raw_text=raw_text+str(item2)\n",
    "    raw_text=raw_text.lower()\n",
    "    unigram_tokens=tokenizer.tokenize(raw_text)\n",
    "    # Applying condition for length greater than 3 and lower bound \n",
    "    unigram_tokens=[value for index,value in enumerate(unigram_tokens) if len(value)>3 and value.lower() not in stopwords]\n",
    "unigram_tokens"
   ]
  },
  {
   "cell_type": "code",
   "execution_count": 129,
   "metadata": {},
   "outputs": [],
   "source": [
    "# Storing vocabulary and their number of occurances in a dictionary\n",
    "vocab=list(set(unigram_tokens))\n",
    "count=[]\n",
    "for j in range(len(vocab)):\n",
    "    count.append(unigram_tokens.count(vocab[j]))\n",
    "User_tweets=dict(zip(unigram_tokens,count))\n",
    "    "
   ]
  },
  {
   "cell_type": "code",
   "execution_count": 141,
   "metadata": {},
   "outputs": [],
   "source": [
    "from collections import Counter \n",
    "\n",
    "Tweet_Counter = Counter(User_tweets) \n",
    "Tweet_Uni=Tweet_Counter.most_common(100)\n",
    "Tweet_Uni=dict(Tweet_Uni)"
   ]
  },
  {
   "cell_type": "code",
   "execution_count": 143,
   "metadata": {
    "scrolled": true
   },
   "outputs": [
    {
     "data": {
      "text/plain": [
       "{'long': 15,\n",
       " 'bullshit': 10,\n",
       " 'softwar': 6,\n",
       " 'vinternix': 6,\n",
       " 'booster': 6,\n",
       " 'bitcoin': 5,\n",
       " 'winner-takes': 5,\n",
       " 'featur': 4,\n",
       " 'multiplanetari': 4,\n",
       " 'storag': 4,\n",
       " 'sometim': 4,\n",
       " 'epavlic': 3,\n",
       " 'capabl': 3,\n",
       " 'yfdsl': 3,\n",
       " 'threshold': 3,\n",
       " 'goal': 3,\n",
       " 'serv': 3,\n",
       " 'manufactur': 3,\n",
       " 'improv': 3,\n",
       " 'sens': 3,\n",
       " 'talk': 3,\n",
       " 'launch': 3,\n",
       " 'supercharg': 2,\n",
       " 'howlpolit': 2,\n",
       " 'financi': 2,\n",
       " 'evpcx': 2,\n",
       " 'arriv': 2,\n",
       " 'comput': 2,\n",
       " 'built': 2,\n",
       " 'comment': 2,\n",
       " 'thread': 2,\n",
       " 'defi': 2,\n",
       " 'oafocezruu': 2,\n",
       " 'mattwallace': 2,\n",
       " 'corinnakopf': 2,\n",
       " 'learn': 2,\n",
       " 'self-sustaining': 2,\n",
       " 'level': 2,\n",
       " 'andrewyang': 2,\n",
       " 'seat': 2,\n",
       " 'nasaspaceflight': 2,\n",
       " 'a-quarter': 2,\n",
       " 'english': 2,\n",
       " 'probabl': 2,\n",
       " 'daelmor': 2,\n",
       " 'financ': 2,\n",
       " 'erdayastronaut': 2,\n",
       " 'music': 2,\n",
       " 'includ': 2,\n",
       " 'remouherek': 2,\n",
       " 'histori': 2,\n",
       " 'stage': 2,\n",
       " 'joint': 2,\n",
       " 'pathfinder': 2,\n",
       " 'baffl': 2,\n",
       " 'song': 2,\n",
       " 'love': 2,\n",
       " 'heart': 2,\n",
       " 'tesla': 1,\n",
       " 'europ': 1,\n",
       " 'locat': 1,\n",
       " 'counting': 1,\n",
       " 'minimalduck': 1,\n",
       " 'https': 1,\n",
       " 'spacexmr': 1,\n",
       " 'theonion': 1,\n",
       " 'shame': 1,\n",
       " 'onion': 1,\n",
       " 'peopl': 1,\n",
       " 'switch': 1,\n",
       " 'thebabylonbee': 1,\n",
       " 'father': 1,\n",
       " 'extend': 1,\n",
       " 'famili': 1,\n",
       " 'depend': 1,\n",
       " 'support': 1,\n",
       " 'brother': 1,\n",
       " 'years': 1,\n",
       " 'articl': 1,\n",
       " 'actual': 1,\n",
       " 'accurate': 1,\n",
       " 'false': 1,\n",
       " 'canada': 1,\n",
       " 'paid': 1,\n",
       " 'college': 1,\n",
       " 'student': 1,\n",
       " 'debt': 1,\n",
       " 'start': 1,\n",
       " 'compani': 1,\n",
       " 'fund': 1,\n",
       " 'evid': 1,\n",
       " 'whatsoev': 1,\n",
       " 'emerald': 1,\n",
       " 'mine': 1,\n",
       " 'jubanmoham': 1,\n",
       " 'handlif': 1,\n",
       " 'scandal': 1,\n",
       " 'call': 1,\n",
       " 'elong': 1,\n",
       " 'universal': 1}"
      ]
     },
     "execution_count": 143,
     "metadata": {},
     "output_type": "execute_result"
    }
   ],
   "source": [
    "Tweet_Uni"
   ]
  },
  {
   "cell_type": "code",
   "execution_count": 166,
   "metadata": {},
   "outputs": [],
   "source": [
    "count1=list(Tweet_Uni.values())\n",
    "size1=[]\n",
    "for i in count1:\n",
    "    size1.append(i*10)\n",
    "\n",
    "colours=[]\n",
    "c=120\n",
    "for i in range(len(count1)):\n",
    "    c=c+2\n",
    "    colours.append(c)"
   ]
  },
  {
   "cell_type": "code",
   "execution_count": 146,
   "metadata": {},
   "outputs": [
    {
     "data": {
      "text/plain": [
       "(-0.5, 399.5, 199.5, -0.5)"
      ]
     },
     "execution_count": 146,
     "metadata": {},
     "output_type": "execute_result"
    },
    {
     "data": {
      "image/png": "[encoded data removed]",
      "text/plain": [
       "<Figure size 432x288 with 1 Axes>"
      ]
     },
     "metadata": {
      "needs_background": "light"
     },
     "output_type": "display_data"
    }
   ],
   "source": [
    "# text = \" \".join([(k + \" \")*v for k,v in Tweet_Uni.items()])\n",
    "\n",
    "# # Generate a word cloud image\n",
    "# wordcloud = WordCloud().generate(text)\n",
    "\n",
    "\n",
    "# # Display the generated image:\n",
    "# # the matplotlib way:\n",
    "# import matplotlib.pyplot as plt\n",
    "# plt.imshow(wordcloud, interpolation='bilinear')\n",
    "# plt.axis(\"off\")\n"
   ]
  },
  {
   "cell_type": "code",
   "execution_count": 147,
   "metadata": {},
   "outputs": [
    {
     "data": {
      "image/png": "[encoded data removed]",
      "text/plain": [
       "<Figure size 432x288 with 1 Axes>"
      ]
     },
     "metadata": {
      "needs_background": "light"
     },
     "output_type": "display_data"
    }
   ],
   "source": [
    "\n",
    "# # lower max_font_size\n",
    "# wordcloud = WordCloud(max_font_size=40).generate(text)\n",
    "# plt.figure()\n",
    "# plt.imshow(wordcloud, interpolation=\"bilinear\")\n",
    "# plt.axis(\"off\")\n",
    "# plt.show()\n",
    "\n"
   ]
  },
  {
   "cell_type": "code",
   "execution_count": 167,
   "metadata": {},
   "outputs": [
    {
     "data": {
      "application/vnd.plotly.v1+json": {
       "config": {
        "plotlyServerURL": "https://plot.ly"
       },
       "data": [
        {
         "marker": {
          "color": [
           122,
           124,
           126,
           128,
           130,
           132,
           134,
           136,
           138,
           140,
           142,
           144,
           146,
           148,
           150,
           152,
           154,
           156,
           158,
           160,
           162,
           164,
           166,
           168,
           170,
           172,
           174,
           176,
           178,
           180,
           182,
           184,
           186,
           188,
           190,
           192,
           194,
           196,
           198,
           200,
           202,
           204,
           206,
           208,
           210,
           212,
           214,
           216,
           218,
           220,
           222,
           224,
           226,
           228,
           230,
           232,
           234,
           236,
           238,
           240,
           242,
           244,
           246,
           248,
           250,
           252,
           254,
           256,
           258,
           260,
           262,
           264,
           266,
           268,
           270,
           272,
           274,
           276,
           278,
           280,
           282,
           284,
           286,
           288,
           290,
           292,
           294,
           296,
           298,
           300,
           302,
           304,
           306,
           308,
           310,
           312,
           314,
           316,
           318,
           320
          ],
          "showscale": true,
          "size": [
           150,
           100,
           60,
           60,
           60,
           50,
           50,
           40,
           40,
           40,
           40,
           30,
           30,
           30,
           30,
           30,
           30,
           30,
           30,
           30,
           30,
           30,
           20,
           20,
           20,
           20,
           20,
           20,
           20,
           20,
           20,
           20,
           20,
           20,
           20,
           20,
           20,
           20,
           20,
           20,
           20,
           20,
           20,
           20,
           20,
           20,
           20,
           20,
           20,
           20,
           20,
           20,
           20,
           20,
           20,
           20,
           20,
           20,
           10,
           10,
           10,
           10,
           10,
           10,
           10,
           10,
           10,
           10,
           10,
           10,
           10,
           10,
           10,
           10,
           10,
           10,
           10,
           10,
           10,
           10,
           10,
           10,
           10,
           10,
           10,
           10,
           10,
           10,
           10,
           10,
           10,
           10,
           10,
           10,
           10,
           10,
           10,
           10,
           10,
           10
          ]
         },
         "mode": "markers",
         "type": "scatter",
         "x": [
          "long",
          "bullshit",
          "softwar",
          "vinternix",
          "booster",
          "bitcoin",
          "winner-takes",
          "featur",
          "multiplanetari",
          "storag",
          "sometim",
          "epavlic",
          "capabl",
          "yfdsl",
          "threshold",
          "goal",
          "serv",
          "manufactur",
          "improv",
          "sens",
          "talk",
          "launch",
          "supercharg",
          "howlpolit",
          "financi",
          "evpcx",
          "arriv",
          "comput",
          "built",
          "comment",
          "thread",
          "defi",
          "oafocezruu",
          "mattwallace",
          "corinnakopf",
          "learn",
          "self-sustaining",
          "level",
          "andrewyang",
          "seat",
          "nasaspaceflight",
          "a-quarter",
          "english",
          "probabl",
          "daelmor",
          "financ",
          "erdayastronaut",
          "music",
          "includ",
          "remouherek",
          "histori",
          "stage",
          "joint",
          "pathfinder",
          "baffl",
          "song",
          "love",
          "heart",
          "tesla",
          "europ",
          "locat",
          "counting",
          "minimalduck",
          "https",
          "spacexmr",
          "theonion",
          "shame",
          "onion",
          "peopl",
          "switch",
          "thebabylonbee",
          "father",
          "extend",
          "famili",
          "depend",
          "support",
          "brother",
          "years",
          "articl",
          "actual",
          "accurate",
          "false",
          "canada",
          "paid",
          "college",
          "student",
          "debt",
          "start",
          "compani",
          "fund",
          "evid",
          "whatsoev",
          "emerald",
          "mine",
          "jubanmoham",
          "handlif",
          "scandal",
          "call",
          "elong",
          "universal"
         ],
         "y": [
          15,
          10,
          6,
          6,
          6,
          5,
          5,
          4,
          4,
          4,
          4,
          3,
          3,
          3,
          3,
          3,
          3,
          3,
          3,
          3,
          3,
          3,
          2,
          2,
          2,
          2,
          2,
          2,
          2,
          2,
          2,
          2,
          2,
          2,
          2,
          2,
          2,
          2,
          2,
          2,
          2,
          2,
          2,
          2,
          2,
          2,
          2,
          2,
          2,
          2,
          2,
          2,
          2,
          2,
          2,
          2,
          2,
          2,
          1,
          1,
          1,
          1,
          1,
          1,
          1,
          1,
          1,
          1,
          1,
          1,
          1,
          1,
          1,
          1,
          1,
          1,
          1,
          1,
          1,
          1,
          1,
          1,
          1,
          1,
          1,
          1,
          1,
          1,
          1,
          1,
          1,
          1,
          1,
          1,
          1,
          1,
          1,
          1,
          1,
          1
         ]
        }
       ],
       "layout": {
        "template": {
         "data": {
          "bar": [
           {
            "error_x": {
             "color": "#2a3f5f"
            },
            "error_y": {
             "color": "#2a3f5f"
            },
            "marker": {
             "line": {
              "color": "#E5ECF6",
              "width": 0.5
             }
            },
            "type": "bar"
           }
          ],
          "barpolar": [
           {
            "marker": {
             "line": {
              "color": "#E5ECF6",
              "width": 0.5
             }
            },
            "type": "barpolar"
           }
          ],
          "carpet": [
           {
            "aaxis": {
             "endlinecolor": "#2a3f5f",
             "gridcolor": "white",
             "linecolor": "white",
             "minorgridcolor": "white",
             "startlinecolor": "#2a3f5f"
            },
            "baxis": {
             "endlinecolor": "#2a3f5f",
             "gridcolor": "white",
             "linecolor": "white",
             "minorgridcolor": "white",
             "startlinecolor": "#2a3f5f"
            },
            "type": "carpet"
           }
          ],
          "choropleth": [
           {
            "colorbar": {
             "outlinewidth": 0,
             "ticks": ""
            },
            "type": "choropleth"
           }
          ],
          "contour": [
           {
            "colorbar": {
             "outlinewidth": 0,
             "ticks": ""
            },
            "colorscale": [
             [
              0,
              "#0d0887"
             ],
             [
              0.1111111111111111,
              "#46039f"
             ],
             [
              0.2222222222222222,
              "#7201a8"
             ],
             [
              0.3333333333333333,
              "#9c179e"
             ],
             [
              0.4444444444444444,
              "#bd3786"
             ],
             [
              0.5555555555555556,
              "#d8576b"
             ],
             [
              0.6666666666666666,
              "#ed7953"
             ],
             [
              0.7777777777777778,
              "#fb9f3a"
             ],
             [
              0.8888888888888888,
              "#fdca26"
             ],
             [
              1,
              "#f0f921"
             ]
            ],
            "type": "contour"
           }
          ],
          "contourcarpet": [
           {
            "colorbar": {
             "outlinewidth": 0,
             "ticks": ""
            },
            "type": "contourcarpet"
           }
          ],
          "heatmap": [
           {
            "colorbar": {
             "outlinewidth": 0,
             "ticks": ""
            },
            "colorscale": [
             [
              0,
              "#0d0887"
             ],
             [
              0.1111111111111111,
              "#46039f"
             ],
             [
              0.2222222222222222,
              "#7201a8"
             ],
             [
              0.3333333333333333,
              "#9c179e"
             ],
             [
              0.4444444444444444,
              "#bd3786"
             ],
             [
              0.5555555555555556,
              "#d8576b"
             ],
             [
              0.6666666666666666,
              "#ed7953"
             ],
             [
              0.7777777777777778,
              "#fb9f3a"
             ],
             [
              0.8888888888888888,
              "#fdca26"
             ],
             [
              1,
              "#f0f921"
             ]
            ],
            "type": "heatmap"
           }
          ],
          "heatmapgl": [
           {
            "colorbar": {
             "outlinewidth": 0,
             "ticks": ""
            },
            "colorscale": [
             [
              0,
              "#0d0887"
             ],
             [
              0.1111111111111111,
              "#46039f"
             ],
             [
              0.2222222222222222,
              "#7201a8"
             ],
             [
              0.3333333333333333,
              "#9c179e"
             ],
             [
              0.4444444444444444,
              "#bd3786"
             ],
             [
              0.5555555555555556,
              "#d8576b"
             ],
             [
              0.6666666666666666,
              "#ed7953"
             ],
             [
              0.7777777777777778,
              "#fb9f3a"
             ],
             [
              0.8888888888888888,
              "#fdca26"
             ],
             [
              1,
              "#f0f921"
             ]
            ],
            "type": "heatmapgl"
           }
          ],
          "histogram": [
           {
            "marker": {
             "colorbar": {
              "outlinewidth": 0,
              "ticks": ""
             }
            },
            "type": "histogram"
           }
          ],
          "histogram2d": [
           {
            "colorbar": {
             "outlinewidth": 0,
             "ticks": ""
            },
            "colorscale": [
             [
              0,
              "#0d0887"
             ],
             [
              0.1111111111111111,
              "#46039f"
             ],
             [
              0.2222222222222222,
              "#7201a8"
             ],
             [
              0.3333333333333333,
              "#9c179e"
             ],
             [
              0.4444444444444444,
              "#bd3786"
             ],
             [
              0.5555555555555556,
              "#d8576b"
             ],
             [
              0.6666666666666666,
              "#ed7953"
             ],
             [
              0.7777777777777778,
              "#fb9f3a"
             ],
             [
              0.8888888888888888,
              "#fdca26"
             ],
             [
              1,
              "#f0f921"
             ]
            ],
            "type": "histogram2d"
           }
          ],
          "histogram2dcontour": [
           {
            "colorbar": {
             "outlinewidth": 0,
             "ticks": ""
            },
            "colorscale": [
             [
              0,
              "#0d0887"
             ],
             [
              0.1111111111111111,
              "#46039f"
             ],
             [
              0.2222222222222222,
              "#7201a8"
             ],
             [
              0.3333333333333333,
              "#9c179e"
             ],
             [
              0.4444444444444444,
              "#bd3786"
             ],
             [
              0.5555555555555556,
              "#d8576b"
             ],
             [
              0.6666666666666666,
              "#ed7953"
             ],
             [
              0.7777777777777778,
              "#fb9f3a"
             ],
             [
              0.8888888888888888,
              "#fdca26"
             ],
             [
              1,
              "#f0f921"
             ]
            ],
            "type": "histogram2dcontour"
           }
          ],
          "mesh3d": [
           {
            "colorbar": {
             "outlinewidth": 0,
             "ticks": ""
            },
            "type": "mesh3d"
           }
          ],
          "parcoords": [
           {
            "line": {
             "colorbar": {
              "outlinewidth": 0,
              "ticks": ""
             }
            },
            "type": "parcoords"
           }
          ],
          "pie": [
           {
            "automargin": true,
            "type": "pie"
           }
          ],
          "scatter": [
           {
            "marker": {
             "colorbar": {
              "outlinewidth": 0,
              "ticks": ""
             }
            },
            "type": "scatter"
           }
          ],
          "scatter3d": [
           {
            "line": {
             "colorbar": {
              "outlinewidth": 0,
              "ticks": ""
             }
            },
            "marker": {
             "colorbar": {
              "outlinewidth": 0,
              "ticks": ""
             }
            },
            "type": "scatter3d"
           }
          ],
          "scattercarpet": [
           {
            "marker": {
             "colorbar": {
              "outlinewidth": 0,
              "ticks": ""
             }
            },
            "type": "scattercarpet"
           }
          ],
          "scattergeo": [
           {
            "marker": {
             "colorbar": {
              "outlinewidth": 0,
              "ticks": ""
             }
            },
            "type": "scattergeo"
           }
          ],
          "scattergl": [
           {
            "marker": {
             "colorbar": {
              "outlinewidth": 0,
              "ticks": ""
             }
            },
            "type": "scattergl"
           }
          ],
          "scattermapbox": [
           {
            "marker": {
             "colorbar": {
              "outlinewidth": 0,
              "ticks": ""
             }
            },
            "type": "scattermapbox"
           }
          ],
          "scatterpolar": [
           {
            "marker": {
             "colorbar": {
              "outlinewidth": 0,
              "ticks": ""
             }
            },
            "type": "scatterpolar"
           }
          ],
          "scatterpolargl": [
           {
            "marker": {
             "colorbar": {
              "outlinewidth": 0,
              "ticks": ""
             }
            },
            "type": "scatterpolargl"
           }
          ],
          "scatterternary": [
           {
            "marker": {
             "colorbar": {
              "outlinewidth": 0,
              "ticks": ""
             }
            },
            "type": "scatterternary"
           }
          ],
          "surface": [
           {
            "colorbar": {
             "outlinewidth": 0,
             "ticks": ""
            },
            "colorscale": [
             [
              0,
              "#0d0887"
             ],
             [
              0.1111111111111111,
              "#46039f"
             ],
             [
              0.2222222222222222,
              "#7201a8"
             ],
             [
              0.3333333333333333,
              "#9c179e"
             ],
             [
              0.4444444444444444,
              "#bd3786"
             ],
             [
              0.5555555555555556,
              "#d8576b"
             ],
             [
              0.6666666666666666,
              "#ed7953"
             ],
             [
              0.7777777777777778,
              "#fb9f3a"
             ],
             [
              0.8888888888888888,
              "#fdca26"
             ],
             [
              1,
              "#f0f921"
             ]
            ],
            "type": "surface"
           }
          ],
          "table": [
           {
            "cells": {
             "fill": {
              "color": "#EBF0F8"
             },
             "line": {
              "color": "white"
             }
            },
            "header": {
             "fill": {
              "color": "#C8D4E3"
             },
             "line": {
              "color": "white"
             }
            },
            "type": "table"
           }
          ]
         },
         "layout": {
          "annotationdefaults": {
           "arrowcolor": "#2a3f5f",
           "arrowhead": 0,
           "arrowwidth": 1
          },
          "coloraxis": {
           "colorbar": {
            "outlinewidth": 0,
            "ticks": ""
           }
          },
          "colorscale": {
           "diverging": [
            [
             0,
             "#8e0152"
            ],
            [
             0.1,
             "#c51b7d"
            ],
            [
             0.2,
             "#de77ae"
            ],
            [
             0.3,
             "#f1b6da"
            ],
            [
             0.4,
             "#fde0ef"
            ],
            [
             0.5,
             "#f7f7f7"
            ],
            [
             0.6,
             "#e6f5d0"
            ],
            [
             0.7,
             "#b8e186"
            ],
            [
             0.8,
             "#7fbc41"
            ],
            [
             0.9,
             "#4d9221"
            ],
            [
             1,
             "#276419"
            ]
           ],
           "sequential": [
            [
             0,
             "#0d0887"
            ],
            [
             0.1111111111111111,
             "#46039f"
            ],
            [
             0.2222222222222222,
             "#7201a8"
            ],
            [
             0.3333333333333333,
             "#9c179e"
            ],
            [
             0.4444444444444444,
             "#bd3786"
            ],
            [
             0.5555555555555556,
             "#d8576b"
            ],
            [
             0.6666666666666666,
             "#ed7953"
            ],
            [
             0.7777777777777778,
             "#fb9f3a"
            ],
            [
             0.8888888888888888,
             "#fdca26"
            ],
            [
             1,
             "#f0f921"
            ]
           ],
           "sequentialminus": [
            [
             0,
             "#0d0887"
            ],
            [
             0.1111111111111111,
             "#46039f"
            ],
            [
             0.2222222222222222,
             "#7201a8"
            ],
            [
             0.3333333333333333,
             "#9c179e"
            ],
            [
             0.4444444444444444,
             "#bd3786"
            ],
            [
             0.5555555555555556,
             "#d8576b"
            ],
            [
             0.6666666666666666,
             "#ed7953"
            ],
            [
             0.7777777777777778,
             "#fb9f3a"
            ],
            [
             0.8888888888888888,
             "#fdca26"
            ],
            [
             1,
             "#f0f921"
            ]
           ]
          },
          "colorway": [
           "#636efa",
           "#EF553B",
           "#00cc96",
           "#ab63fa",
           "#FFA15A",
           "#19d3f3",
           "#FF6692",
           "#B6E880",
           "#FF97FF",
           "#FECB52"
          ],
          "font": {
           "color": "#2a3f5f"
          },
          "geo": {
           "bgcolor": "white",
           "lakecolor": "white",
           "landcolor": "#E5ECF6",
           "showlakes": true,
           "showland": true,
           "subunitcolor": "white"
          },
          "hoverlabel": {
           "align": "left"
          },
          "hovermode": "closest",
          "mapbox": {
           "style": "light"
          },
          "paper_bgcolor": "white",
          "plot_bgcolor": "#E5ECF6",
          "polar": {
           "angularaxis": {
            "gridcolor": "white",
            "linecolor": "white",
            "ticks": ""
           },
           "bgcolor": "#E5ECF6",
           "radialaxis": {
            "gridcolor": "white",
            "linecolor": "white",
            "ticks": ""
           }
          },
          "scene": {
           "xaxis": {
            "backgroundcolor": "#E5ECF6",
            "gridcolor": "white",
            "gridwidth": 2,
            "linecolor": "white",
            "showbackground": true,
            "ticks": "",
            "zerolinecolor": "white"
           },
           "yaxis": {
            "backgroundcolor": "#E5ECF6",
            "gridcolor": "white",
            "gridwidth": 2,
            "linecolor": "white",
            "showbackground": true,
            "ticks": "",
            "zerolinecolor": "white"
           },
           "zaxis": {
            "backgroundcolor": "#E5ECF6",
            "gridcolor": "white",
            "gridwidth": 2,
            "linecolor": "white",
            "showbackground": true,
            "ticks": "",
            "zerolinecolor": "white"
           }
          },
          "shapedefaults": {
           "line": {
            "color": "#2a3f5f"
           }
          },
          "ternary": {
           "aaxis": {
            "gridcolor": "white",
            "linecolor": "white",
            "ticks": ""
           },
           "baxis": {
            "gridcolor": "white",
            "linecolor": "white",
            "ticks": ""
           },
           "bgcolor": "#E5ECF6",
           "caxis": {
            "gridcolor": "white",
            "linecolor": "white",
            "ticks": ""
           }
          },
          "title": {
           "x": 0.05
          },
          "xaxis": {
           "automargin": true,
           "gridcolor": "white",
           "linecolor": "white",
           "ticks": "",
           "title": {
            "standoff": 15
           },
           "zerolinecolor": "white",
           "zerolinewidth": 2
          },
          "yaxis": {
           "automargin": true,
           "gridcolor": "white",
           "linecolor": "white",
           "ticks": "",
           "title": {
            "standoff": 15
           },
           "zerolinecolor": "white",
           "zerolinewidth": 2
          }
         }
        }
       }
      },
      "text/html": [
       "<div>                            <div id=\"848132fd-e969-41c7-9c55-02b28e9a0be9\" class=\"plotly-graph-div\" style=\"height:525px; width:100%;\"></div>            <script type=\"text/javascript\">                require([\"plotly\"], function(Plotly) {                    window.PLOTLYENV=window.PLOTLYENV || {};                                    if (document.getElementById(\"848132fd-e969-41c7-9c55-02b28e9a0be9\")) {                    Plotly.newPlot(                        \"848132fd-e969-41c7-9c55-02b28e9a0be9\",                        [{\"marker\": {\"color\": [122, 124, 126, 128, 130, 132, 134, 136, 138, 140, 142, 144, 146, 148, 150, 152, 154, 156, 158, 160, 162, 164, 166, 168, 170, 172, 174, 176, 178, 180, 182, 184, 186, 188, 190, 192, 194, 196, 198, 200, 202, 204, 206, 208, 210, 212, 214, 216, 218, 220, 222, 224, 226, 228, 230, 232, 234, 236, 238, 240, 242, 244, 246, 248, 250, 252, 254, 256, 258, 260, 262, 264, 266, 268, 270, 272, 274, 276, 278, 280, 282, 284, 286, 288, 290, 292, 294, 296, 298, 300, 302, 304, 306, 308, 310, 312, 314, 316, 318, 320], \"showscale\": true, \"size\": [150, 100, 60, 60, 60, 50, 50, 40, 40, 40, 40, 30, 30, 30, 30, 30, 30, 30, 30, 30, 30, 30, 20, 20, 20, 20, 20, 20, 20, 20, 20, 20, 20, 20, 20, 20, 20, 20, 20, 20, 20, 20, 20, 20, 20, 20, 20, 20, 20, 20, 20, 20, 20, 20, 20, 20, 20, 20, 10, 10, 10, 10, 10, 10, 10, 10, 10, 10, 10, 10, 10, 10, 10, 10, 10, 10, 10, 10, 10, 10, 10, 10, 10, 10, 10, 10, 10, 10, 10, 10, 10, 10, 10, 10, 10, 10, 10, 10, 10, 10]}, \"mode\": \"markers\", \"type\": \"scatter\", \"x\": [\"long\", \"bullshit\", \"softwar\", \"vinternix\", \"booster\", \"bitcoin\", \"winner-takes\", \"featur\", \"multiplanetari\", \"storag\", \"sometim\", \"epavlic\", \"capabl\", \"yfdsl\", \"threshold\", \"goal\", \"serv\", \"manufactur\", \"improv\", \"sens\", \"talk\", \"launch\", \"supercharg\", \"howlpolit\", \"financi\", \"evpcx\", \"arriv\", \"comput\", \"built\", \"comment\", \"thread\", \"defi\", \"oafocezruu\", \"mattwallace\", \"corinnakopf\", \"learn\", \"self-sustaining\", \"level\", \"andrewyang\", \"seat\", \"nasaspaceflight\", \"a-quarter\", \"english\", \"probabl\", \"daelmor\", \"financ\", \"erdayastronaut\", \"music\", \"includ\", \"remouherek\", \"histori\", \"stage\", \"joint\", \"pathfinder\", \"baffl\", \"song\", \"love\", \"heart\", \"tesla\", \"europ\", \"locat\", \"counting\", \"minimalduck\", \"https\", \"spacexmr\", \"theonion\", \"shame\", \"onion\", \"peopl\", \"switch\", \"thebabylonbee\", \"father\", \"extend\", \"famili\", \"depend\", \"support\", \"brother\", \"years\", \"articl\", \"actual\", \"accurate\", \"false\", \"canada\", \"paid\", \"college\", \"student\", \"debt\", \"start\", \"compani\", \"fund\", \"evid\", \"whatsoev\", \"emerald\", \"mine\", \"jubanmoham\", \"handlif\", \"scandal\", \"call\", \"elong\", \"universal\"], \"y\": [15, 10, 6, 6, 6, 5, 5, 4, 4, 4, 4, 3, 3, 3, 3, 3, 3, 3, 3, 3, 3, 3, 2, 2, 2, 2, 2, 2, 2, 2, 2, 2, 2, 2, 2, 2, 2, 2, 2, 2, 2, 2, 2, 2, 2, 2, 2, 2, 2, 2, 2, 2, 2, 2, 2, 2, 2, 2, 1, 1, 1, 1, 1, 1, 1, 1, 1, 1, 1, 1, 1, 1, 1, 1, 1, 1, 1, 1, 1, 1, 1, 1, 1, 1, 1, 1, 1, 1, 1, 1, 1, 1, 1, 1, 1, 1, 1, 1, 1, 1]}],                        {\"template\": {\"data\": {\"bar\": [{\"error_x\": {\"color\": \"#2a3f5f\"}, \"error_y\": {\"color\": \"#2a3f5f\"}, \"marker\": {\"line\": {\"color\": \"#E5ECF6\", \"width\": 0.5}}, \"type\": \"bar\"}], \"barpolar\": [{\"marker\": {\"line\": {\"color\": \"#E5ECF6\", \"width\": 0.5}}, \"type\": \"barpolar\"}], \"carpet\": [{\"aaxis\": {\"endlinecolor\": \"#2a3f5f\", \"gridcolor\": \"white\", \"linecolor\": \"white\", \"minorgridcolor\": \"white\", \"startlinecolor\": \"#2a3f5f\"}, \"baxis\": {\"endlinecolor\": \"#2a3f5f\", \"gridcolor\": \"white\", \"linecolor\": \"white\", \"minorgridcolor\": \"white\", \"startlinecolor\": \"#2a3f5f\"}, \"type\": \"carpet\"}], \"choropleth\": [{\"colorbar\": {\"outlinewidth\": 0, \"ticks\": \"\"}, \"type\": \"choropleth\"}], \"contour\": [{\"colorbar\": {\"outlinewidth\": 0, \"ticks\": \"\"}, \"colorscale\": [[0.0, \"#0d0887\"], [0.1111111111111111, \"#46039f\"], [0.2222222222222222, \"#7201a8\"], [0.3333333333333333, \"#9c179e\"], [0.4444444444444444, \"#bd3786\"], [0.5555555555555556, \"#d8576b\"], [0.6666666666666666, \"#ed7953\"], [0.7777777777777778, \"#fb9f3a\"], [0.8888888888888888, \"#fdca26\"], [1.0, \"#f0f921\"]], \"type\": \"contour\"}], \"contourcarpet\": [{\"colorbar\": {\"outlinewidth\": 0, \"ticks\": \"\"}, \"type\": \"contourcarpet\"}], \"heatmap\": [{\"colorbar\": {\"outlinewidth\": 0, \"ticks\": \"\"}, \"colorscale\": [[0.0, \"#0d0887\"], [0.1111111111111111, \"#46039f\"], [0.2222222222222222, \"#7201a8\"], [0.3333333333333333, \"#9c179e\"], [0.4444444444444444, \"#bd3786\"], [0.5555555555555556, \"#d8576b\"], [0.6666666666666666, \"#ed7953\"], [0.7777777777777778, \"#fb9f3a\"], [0.8888888888888888, \"#fdca26\"], [1.0, \"#f0f921\"]], \"type\": \"heatmap\"}], \"heatmapgl\": [{\"colorbar\": {\"outlinewidth\": 0, \"ticks\": \"\"}, \"colorscale\": [[0.0, \"#0d0887\"], [0.1111111111111111, \"#46039f\"], [0.2222222222222222, \"#7201a8\"], [0.3333333333333333, \"#9c179e\"], [0.4444444444444444, \"#bd3786\"], [0.5555555555555556, \"#d8576b\"], [0.6666666666666666, \"#ed7953\"], [0.7777777777777778, \"#fb9f3a\"], [0.8888888888888888, \"#fdca26\"], [1.0, \"#f0f921\"]], \"type\": \"heatmapgl\"}], \"histogram\": [{\"marker\": {\"colorbar\": {\"outlinewidth\": 0, \"ticks\": \"\"}}, \"type\": \"histogram\"}], \"histogram2d\": [{\"colorbar\": {\"outlinewidth\": 0, \"ticks\": \"\"}, \"colorscale\": [[0.0, \"#0d0887\"], [0.1111111111111111, \"#46039f\"], [0.2222222222222222, \"#7201a8\"], [0.3333333333333333, \"#9c179e\"], [0.4444444444444444, \"#bd3786\"], [0.5555555555555556, \"#d8576b\"], [0.6666666666666666, \"#ed7953\"], [0.7777777777777778, \"#fb9f3a\"], [0.8888888888888888, \"#fdca26\"], [1.0, \"#f0f921\"]], \"type\": \"histogram2d\"}], \"histogram2dcontour\": [{\"colorbar\": {\"outlinewidth\": 0, \"ticks\": \"\"}, \"colorscale\": [[0.0, \"#0d0887\"], [0.1111111111111111, \"#46039f\"], [0.2222222222222222, \"#7201a8\"], [0.3333333333333333, \"#9c179e\"], [0.4444444444444444, \"#bd3786\"], [0.5555555555555556, \"#d8576b\"], [0.6666666666666666, \"#ed7953\"], [0.7777777777777778, \"#fb9f3a\"], [0.8888888888888888, \"#fdca26\"], [1.0, \"#f0f921\"]], \"type\": \"histogram2dcontour\"}], \"mesh3d\": [{\"colorbar\": {\"outlinewidth\": 0, \"ticks\": \"\"}, \"type\": \"mesh3d\"}], \"parcoords\": [{\"line\": {\"colorbar\": {\"outlinewidth\": 0, \"ticks\": \"\"}}, \"type\": \"parcoords\"}], \"pie\": [{\"automargin\": true, \"type\": \"pie\"}], \"scatter\": [{\"marker\": {\"colorbar\": {\"outlinewidth\": 0, \"ticks\": \"\"}}, \"type\": \"scatter\"}], \"scatter3d\": [{\"line\": {\"colorbar\": {\"outlinewidth\": 0, \"ticks\": \"\"}}, \"marker\": {\"colorbar\": {\"outlinewidth\": 0, \"ticks\": \"\"}}, \"type\": \"scatter3d\"}], \"scattercarpet\": [{\"marker\": {\"colorbar\": {\"outlinewidth\": 0, \"ticks\": \"\"}}, \"type\": \"scattercarpet\"}], \"scattergeo\": [{\"marker\": {\"colorbar\": {\"outlinewidth\": 0, \"ticks\": \"\"}}, \"type\": \"scattergeo\"}], \"scattergl\": [{\"marker\": {\"colorbar\": {\"outlinewidth\": 0, \"ticks\": \"\"}}, \"type\": \"scattergl\"}], \"scattermapbox\": [{\"marker\": {\"colorbar\": {\"outlinewidth\": 0, \"ticks\": \"\"}}, \"type\": \"scattermapbox\"}], \"scatterpolar\": [{\"marker\": {\"colorbar\": {\"outlinewidth\": 0, \"ticks\": \"\"}}, \"type\": \"scatterpolar\"}], \"scatterpolargl\": [{\"marker\": {\"colorbar\": {\"outlinewidth\": 0, \"ticks\": \"\"}}, \"type\": \"scatterpolargl\"}], \"scatterternary\": [{\"marker\": {\"colorbar\": {\"outlinewidth\": 0, \"ticks\": \"\"}}, \"type\": \"scatterternary\"}], \"surface\": [{\"colorbar\": {\"outlinewidth\": 0, \"ticks\": \"\"}, \"colorscale\": [[0.0, \"#0d0887\"], [0.1111111111111111, \"#46039f\"], [0.2222222222222222, \"#7201a8\"], [0.3333333333333333, \"#9c179e\"], [0.4444444444444444, \"#bd3786\"], [0.5555555555555556, \"#d8576b\"], [0.6666666666666666, \"#ed7953\"], [0.7777777777777778, \"#fb9f3a\"], [0.8888888888888888, \"#fdca26\"], [1.0, \"#f0f921\"]], \"type\": \"surface\"}], \"table\": [{\"cells\": {\"fill\": {\"color\": \"#EBF0F8\"}, \"line\": {\"color\": \"white\"}}, \"header\": {\"fill\": {\"color\": \"#C8D4E3\"}, \"line\": {\"color\": \"white\"}}, \"type\": \"table\"}]}, \"layout\": {\"annotationdefaults\": {\"arrowcolor\": \"#2a3f5f\", \"arrowhead\": 0, \"arrowwidth\": 1}, \"coloraxis\": {\"colorbar\": {\"outlinewidth\": 0, \"ticks\": \"\"}}, \"colorscale\": {\"diverging\": [[0, \"#8e0152\"], [0.1, \"#c51b7d\"], [0.2, \"#de77ae\"], [0.3, \"#f1b6da\"], [0.4, \"#fde0ef\"], [0.5, \"#f7f7f7\"], [0.6, \"#e6f5d0\"], [0.7, \"#b8e186\"], [0.8, \"#7fbc41\"], [0.9, \"#4d9221\"], [1, \"#276419\"]], \"sequential\": [[0.0, \"#0d0887\"], [0.1111111111111111, \"#46039f\"], [0.2222222222222222, \"#7201a8\"], [0.3333333333333333, \"#9c179e\"], [0.4444444444444444, \"#bd3786\"], [0.5555555555555556, \"#d8576b\"], [0.6666666666666666, \"#ed7953\"], [0.7777777777777778, \"#fb9f3a\"], [0.8888888888888888, \"#fdca26\"], [1.0, \"#f0f921\"]], \"sequentialminus\": [[0.0, \"#0d0887\"], [0.1111111111111111, \"#46039f\"], [0.2222222222222222, \"#7201a8\"], [0.3333333333333333, \"#9c179e\"], [0.4444444444444444, \"#bd3786\"], [0.5555555555555556, \"#d8576b\"], [0.6666666666666666, \"#ed7953\"], [0.7777777777777778, \"#fb9f3a\"], [0.8888888888888888, \"#fdca26\"], [1.0, \"#f0f921\"]]}, \"colorway\": [\"#636efa\", \"#EF553B\", \"#00cc96\", \"#ab63fa\", \"#FFA15A\", \"#19d3f3\", \"#FF6692\", \"#B6E880\", \"#FF97FF\", \"#FECB52\"], \"font\": {\"color\": \"#2a3f5f\"}, \"geo\": {\"bgcolor\": \"white\", \"lakecolor\": \"white\", \"landcolor\": \"#E5ECF6\", \"showlakes\": true, \"showland\": true, \"subunitcolor\": \"white\"}, \"hoverlabel\": {\"align\": \"left\"}, \"hovermode\": \"closest\", \"mapbox\": {\"style\": \"light\"}, \"paper_bgcolor\": \"white\", \"plot_bgcolor\": \"#E5ECF6\", \"polar\": {\"angularaxis\": {\"gridcolor\": \"white\", \"linecolor\": \"white\", \"ticks\": \"\"}, \"bgcolor\": \"#E5ECF6\", \"radialaxis\": {\"gridcolor\": \"white\", \"linecolor\": \"white\", \"ticks\": \"\"}}, \"scene\": {\"xaxis\": {\"backgroundcolor\": \"#E5ECF6\", \"gridcolor\": \"white\", \"gridwidth\": 2, \"linecolor\": \"white\", \"showbackground\": true, \"ticks\": \"\", \"zerolinecolor\": \"white\"}, \"yaxis\": {\"backgroundcolor\": \"#E5ECF6\", \"gridcolor\": \"white\", \"gridwidth\": 2, \"linecolor\": \"white\", \"showbackground\": true, \"ticks\": \"\", \"zerolinecolor\": \"white\"}, \"zaxis\": {\"backgroundcolor\": \"#E5ECF6\", \"gridcolor\": \"white\", \"gridwidth\": 2, \"linecolor\": \"white\", \"showbackground\": true, \"ticks\": \"\", \"zerolinecolor\": \"white\"}}, \"shapedefaults\": {\"line\": {\"color\": \"#2a3f5f\"}}, \"ternary\": {\"aaxis\": {\"gridcolor\": \"white\", \"linecolor\": \"white\", \"ticks\": \"\"}, \"baxis\": {\"gridcolor\": \"white\", \"linecolor\": \"white\", \"ticks\": \"\"}, \"bgcolor\": \"#E5ECF6\", \"caxis\": {\"gridcolor\": \"white\", \"linecolor\": \"white\", \"ticks\": \"\"}}, \"title\": {\"x\": 0.05}, \"xaxis\": {\"automargin\": true, \"gridcolor\": \"white\", \"linecolor\": \"white\", \"ticks\": \"\", \"title\": {\"standoff\": 15}, \"zerolinecolor\": \"white\", \"zerolinewidth\": 2}, \"yaxis\": {\"automargin\": true, \"gridcolor\": \"white\", \"linecolor\": \"white\", \"ticks\": \"\", \"title\": {\"standoff\": 15}, \"zerolinecolor\": \"white\", \"zerolinewidth\": 2}}}},                        {\"responsive\": true}                    ).then(function(){\n",
       "                            \n",
       "var gd = document.getElementById('848132fd-e969-41c7-9c55-02b28e9a0be9');\n",
       "var x = new MutationObserver(function (mutations, observer) {{\n",
       "        var display = window.getComputedStyle(gd).display;\n",
       "        if (!display || display === 'none') {{\n",
       "            console.log([gd, 'removed!']);\n",
       "            Plotly.purge(gd);\n",
       "            observer.disconnect();\n",
       "        }}\n",
       "}});\n",
       "\n",
       "// Listen for the removal of the full notebook cells\n",
       "var notebookContainer = gd.closest('#notebook-container');\n",
       "if (notebookContainer) {{\n",
       "    x.observe(notebookContainer, {childList: true});\n",
       "}}\n",
       "\n",
       "// Listen for the clearing of the current output cell\n",
       "var outputEl = gd.closest('.output');\n",
       "if (outputEl) {{\n",
       "    x.observe(outputEl, {childList: true});\n",
       "}}\n",
       "\n",
       "                        })                };                });            </script>        </div>"
      ]
     },
     "metadata": {},
     "output_type": "display_data"
    }
   ],
   "source": [
    "import plotly.graph_objects as go\n",
    "\n",
    "fig = go.Figure(data=[go.Scatter(\n",
    "    x=list(Tweet_Uni.keys()),\n",
    "    y=count1,\n",
    "    mode='markers',\n",
    "    marker=dict(\n",
    "        color=colours,\n",
    "        size=size1,\n",
    "        showscale=True\n",
    "        )\n",
    ")])\n",
    "\n",
    "fig.show()"
   ]
  },
  {
   "cell_type": "code",
   "execution_count": 155,
   "metadata": {},
   "outputs": [
    {
     "data": {
      "text/plain": [
       "dict_keys(['long', 'bullshit', 'softwar', 'vinternix', 'booster', 'bitcoin', 'winner-takes', 'featur', 'multiplanetari', 'storag', 'sometim', 'epavlic', 'capabl', 'yfdsl', 'threshold', 'goal', 'serv', 'manufactur', 'improv', 'sens', 'talk', 'launch', 'supercharg', 'howlpolit', 'financi', 'evpcx', 'arriv', 'comput', 'built', 'comment', 'thread', 'defi', 'oafocezruu', 'mattwallace', 'corinnakopf', 'learn', 'self-sustaining', 'level', 'andrewyang', 'seat', 'nasaspaceflight', 'a-quarter', 'english', 'probabl', 'daelmor', 'financ', 'erdayastronaut', 'music', 'includ', 'remouherek', 'histori', 'stage', 'joint', 'pathfinder', 'baffl', 'song', 'love', 'heart', 'tesla', 'europ', 'locat', 'counting', 'minimalduck', 'https', 'spacexmr', 'theonion', 'shame', 'onion', 'peopl', 'switch', 'thebabylonbee', 'father', 'extend', 'famili', 'depend', 'support', 'brother', 'years', 'articl', 'actual', 'accurate', 'false', 'canada', 'paid', 'college', 'student', 'debt', 'start', 'compani', 'fund', 'evid', 'whatsoev', 'emerald', 'mine', 'jubanmoham', 'handlif', 'scandal', 'call', 'elong', 'universal'])"
      ]
     },
     "execution_count": 155,
     "metadata": {},
     "output_type": "execute_result"
    }
   ],
   "source": [
    "Tweet_Uni.keys()"
   ]
  },
  {
   "cell_type": "code",
   "execution_count": null,
   "metadata": {},
   "outputs": [],
   "source": [
    "\n",
    "\n"
   ]
  },
  {
   "cell_type": "code",
   "execution_count": null,
   "metadata": {},
   "outputs": [],
   "source": []
  }
 ],
 "metadata": {
  "kernelspec": {
   "display_name": "Python 3",
   "language": "python",
   "name": "python3"
  },
  "language_info": {
   "codemirror_mode": {
    "name": "ipython",
    "version": 3
   },
   "file_extension": ".py",
   "mimetype": "text/x-python",
   "name": "python",
   "nbconvert_exporter": "python",
   "pygments_lexer": "ipython3",
   "version": "3.8.3"
  }
 },
 "nbformat": 4,
 "nbformat_minor": 4
}
